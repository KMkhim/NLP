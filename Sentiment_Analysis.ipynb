{
  "cells": [
    {
      "cell_type": "markdown",
      "metadata": {
        "id": "LZ7vqipAsYqF"
      },
      "source": [
        "### ติดตั้งและ import library ต่างๆ"
      ]
    },
    {
      "cell_type": "code",
      "execution_count": null,
      "metadata": {
        "id": "w71z-drEsNQt"
      },
      "outputs": [],
      "source": [
        "!pip install ktrain -q"
      ]
    },
    {
      "cell_type": "code",
      "execution_count": null,
      "metadata": {
        "id": "jT8ZWTdYuZPc"
      },
      "outputs": [],
      "source": [
        "!pip uninstall keras tensorflow -y\n",
        "!pip install tensorflow==2.11.0 keras==2.11.0"
      ]
    },
    {
      "cell_type": "code",
      "execution_count": null,
      "metadata": {
        "collapsed": true,
        "id": "gdB6jD493tDV"
      },
      "outputs": [],
      "source": [
        "!pip install transformers==4.26.1\n",
        "!pip install ktrain==0.35.0"
      ]
    },
    {
      "cell_type": "code",
      "execution_count": null,
      "metadata": {
        "id": "P7FR33YfI7cx"
      },
      "outputs": [],
      "source": [
        "!pip install transformers"
      ]
    },
    {
      "cell_type": "code",
      "execution_count": null,
      "metadata": {
        "id": "E7gdjC15sR49"
      },
      "outputs": [],
      "source": [
        "import pandas as pd\n",
        "import numpy as np\n",
        "import ktrain\n",
        "from ktrain import text"
      ]
    },
    {
      "cell_type": "markdown",
      "metadata": {
        "id": "x9zo4ssV_jo9"
      },
      "source": [
        "### เตรียมข้อมูล"
      ]
    },
    {
      "cell_type": "code",
      "execution_count": null,
      "metadata": {
        "colab": {
          "base_uri": "https://localhost:8080/",
          "height": 581
        },
        "id": "PAl2T4c4d-zT",
        "outputId": "ad6fb87e-7083-4620-c7ca-860aabc88a3e"
      },
      "outputs": [
        {
          "output_type": "stream",
          "name": "stderr",
          "text": [
            "/usr/local/lib/python3.10/dist-packages/huggingface_hub/utils/_auth.py:94: UserWarning: \n",
            "The secret `HF_TOKEN` does not exist in your Colab secrets.\n",
            "To authenticate with the Hugging Face Hub, create a token in your settings tab (https://huggingface.co/settings/tokens), set it as secret in your Google Colab and restart your session.\n",
            "You will be able to reuse this secret in all of your notebooks.\n",
            "Please note that authentication is recommended but still optional to access public models or datasets.\n",
            "  warnings.warn(\n"
          ]
        },
        {
          "output_type": "execute_result",
          "data": {
            "text/plain": [
              "                                         review_body  star_rating\n",
              "0  ร้านอาหารใหญ่มากกกกกกก \\nเลี้ยวเข้ามาเจอห้องน้...            2\n",
              "1  อาหารที่นี่เป็นอาหารจีนแคะที่หากินยากในบ้านเรา...            3\n",
              "2  ปอเปี๊ยะสด ทุกวันนี้รู้สึกว่าหากินยาก (ร้านที่...            2\n",
              "3  รัานคัพเค้กในเมืองไทยมีไม่มาก หลายๆคนอาจจะสงสั...            4\n",
              "4  อร่อย!!! เดินผ่านDigital gatewayทุกวัน ไม่ยักร...            4"
            ],
            "text/html": [
              "\n",
              "  <div id=\"df-f5c19d4d-580f-4b88-95c2-e54784bf30cd\" class=\"colab-df-container\">\n",
              "    <div>\n",
              "<style scoped>\n",
              "    .dataframe tbody tr th:only-of-type {\n",
              "        vertical-align: middle;\n",
              "    }\n",
              "\n",
              "    .dataframe tbody tr th {\n",
              "        vertical-align: top;\n",
              "    }\n",
              "\n",
              "    .dataframe thead th {\n",
              "        text-align: right;\n",
              "    }\n",
              "</style>\n",
              "<table border=\"1\" class=\"dataframe\">\n",
              "  <thead>\n",
              "    <tr style=\"text-align: right;\">\n",
              "      <th></th>\n",
              "      <th>review_body</th>\n",
              "      <th>star_rating</th>\n",
              "    </tr>\n",
              "  </thead>\n",
              "  <tbody>\n",
              "    <tr>\n",
              "      <th>0</th>\n",
              "      <td>ร้านอาหารใหญ่มากกกกกกก \\nเลี้ยวเข้ามาเจอห้องน้...</td>\n",
              "      <td>2</td>\n",
              "    </tr>\n",
              "    <tr>\n",
              "      <th>1</th>\n",
              "      <td>อาหารที่นี่เป็นอาหารจีนแคะที่หากินยากในบ้านเรา...</td>\n",
              "      <td>3</td>\n",
              "    </tr>\n",
              "    <tr>\n",
              "      <th>2</th>\n",
              "      <td>ปอเปี๊ยะสด ทุกวันนี้รู้สึกว่าหากินยาก (ร้านที่...</td>\n",
              "      <td>2</td>\n",
              "    </tr>\n",
              "    <tr>\n",
              "      <th>3</th>\n",
              "      <td>รัานคัพเค้กในเมืองไทยมีไม่มาก หลายๆคนอาจจะสงสั...</td>\n",
              "      <td>4</td>\n",
              "    </tr>\n",
              "    <tr>\n",
              "      <th>4</th>\n",
              "      <td>อร่อย!!! เดินผ่านDigital gatewayทุกวัน ไม่ยักร...</td>\n",
              "      <td>4</td>\n",
              "    </tr>\n",
              "  </tbody>\n",
              "</table>\n",
              "</div>\n",
              "    <div class=\"colab-df-buttons\">\n",
              "\n",
              "  <div class=\"colab-df-container\">\n",
              "    <button class=\"colab-df-convert\" onclick=\"convertToInteractive('df-f5c19d4d-580f-4b88-95c2-e54784bf30cd')\"\n",
              "            title=\"Convert this dataframe to an interactive table.\"\n",
              "            style=\"display:none;\">\n",
              "\n",
              "  <svg xmlns=\"http://www.w3.org/2000/svg\" height=\"24px\" viewBox=\"0 -960 960 960\">\n",
              "    <path d=\"M120-120v-720h720v720H120Zm60-500h600v-160H180v160Zm220 220h160v-160H400v160Zm0 220h160v-160H400v160ZM180-400h160v-160H180v160Zm440 0h160v-160H620v160ZM180-180h160v-160H180v160Zm440 0h160v-160H620v160Z\"/>\n",
              "  </svg>\n",
              "    </button>\n",
              "\n",
              "  <style>\n",
              "    .colab-df-container {\n",
              "      display:flex;\n",
              "      gap: 12px;\n",
              "    }\n",
              "\n",
              "    .colab-df-convert {\n",
              "      background-color: #E8F0FE;\n",
              "      border: none;\n",
              "      border-radius: 50%;\n",
              "      cursor: pointer;\n",
              "      display: none;\n",
              "      fill: #1967D2;\n",
              "      height: 32px;\n",
              "      padding: 0 0 0 0;\n",
              "      width: 32px;\n",
              "    }\n",
              "\n",
              "    .colab-df-convert:hover {\n",
              "      background-color: #E2EBFA;\n",
              "      box-shadow: 0px 1px 2px rgba(60, 64, 67, 0.3), 0px 1px 3px 1px rgba(60, 64, 67, 0.15);\n",
              "      fill: #174EA6;\n",
              "    }\n",
              "\n",
              "    .colab-df-buttons div {\n",
              "      margin-bottom: 4px;\n",
              "    }\n",
              "\n",
              "    [theme=dark] .colab-df-convert {\n",
              "      background-color: #3B4455;\n",
              "      fill: #D2E3FC;\n",
              "    }\n",
              "\n",
              "    [theme=dark] .colab-df-convert:hover {\n",
              "      background-color: #434B5C;\n",
              "      box-shadow: 0px 1px 3px 1px rgba(0, 0, 0, 0.15);\n",
              "      filter: drop-shadow(0px 1px 2px rgba(0, 0, 0, 0.3));\n",
              "      fill: #FFFFFF;\n",
              "    }\n",
              "  </style>\n",
              "\n",
              "    <script>\n",
              "      const buttonEl =\n",
              "        document.querySelector('#df-f5c19d4d-580f-4b88-95c2-e54784bf30cd button.colab-df-convert');\n",
              "      buttonEl.style.display =\n",
              "        google.colab.kernel.accessAllowed ? 'block' : 'none';\n",
              "\n",
              "      async function convertToInteractive(key) {\n",
              "        const element = document.querySelector('#df-f5c19d4d-580f-4b88-95c2-e54784bf30cd');\n",
              "        const dataTable =\n",
              "          await google.colab.kernel.invokeFunction('convertToInteractive',\n",
              "                                                    [key], {});\n",
              "        if (!dataTable) return;\n",
              "\n",
              "        const docLinkHtml = 'Like what you see? Visit the ' +\n",
              "          '<a target=\"_blank\" href=https://colab.research.google.com/notebooks/data_table.ipynb>data table notebook</a>'\n",
              "          + ' to learn more about interactive tables.';\n",
              "        element.innerHTML = '';\n",
              "        dataTable['output_type'] = 'display_data';\n",
              "        await google.colab.output.renderOutput(dataTable, element);\n",
              "        const docLink = document.createElement('div');\n",
              "        docLink.innerHTML = docLinkHtml;\n",
              "        element.appendChild(docLink);\n",
              "      }\n",
              "    </script>\n",
              "  </div>\n",
              "\n",
              "\n",
              "<div id=\"df-06b8cd4a-4d75-49b8-a809-68acfa097916\">\n",
              "  <button class=\"colab-df-quickchart\" onclick=\"quickchart('df-06b8cd4a-4d75-49b8-a809-68acfa097916')\"\n",
              "            title=\"Suggest charts\"\n",
              "            style=\"display:none;\">\n",
              "\n",
              "<svg xmlns=\"http://www.w3.org/2000/svg\" height=\"24px\"viewBox=\"0 0 24 24\"\n",
              "     width=\"24px\">\n",
              "    <g>\n",
              "        <path d=\"M19 3H5c-1.1 0-2 .9-2 2v14c0 1.1.9 2 2 2h14c1.1 0 2-.9 2-2V5c0-1.1-.9-2-2-2zM9 17H7v-7h2v7zm4 0h-2V7h2v10zm4 0h-2v-4h2v4z\"/>\n",
              "    </g>\n",
              "</svg>\n",
              "  </button>\n",
              "\n",
              "<style>\n",
              "  .colab-df-quickchart {\n",
              "      --bg-color: #E8F0FE;\n",
              "      --fill-color: #1967D2;\n",
              "      --hover-bg-color: #E2EBFA;\n",
              "      --hover-fill-color: #174EA6;\n",
              "      --disabled-fill-color: #AAA;\n",
              "      --disabled-bg-color: #DDD;\n",
              "  }\n",
              "\n",
              "  [theme=dark] .colab-df-quickchart {\n",
              "      --bg-color: #3B4455;\n",
              "      --fill-color: #D2E3FC;\n",
              "      --hover-bg-color: #434B5C;\n",
              "      --hover-fill-color: #FFFFFF;\n",
              "      --disabled-bg-color: #3B4455;\n",
              "      --disabled-fill-color: #666;\n",
              "  }\n",
              "\n",
              "  .colab-df-quickchart {\n",
              "    background-color: var(--bg-color);\n",
              "    border: none;\n",
              "    border-radius: 50%;\n",
              "    cursor: pointer;\n",
              "    display: none;\n",
              "    fill: var(--fill-color);\n",
              "    height: 32px;\n",
              "    padding: 0;\n",
              "    width: 32px;\n",
              "  }\n",
              "\n",
              "  .colab-df-quickchart:hover {\n",
              "    background-color: var(--hover-bg-color);\n",
              "    box-shadow: 0 1px 2px rgba(60, 64, 67, 0.3), 0 1px 3px 1px rgba(60, 64, 67, 0.15);\n",
              "    fill: var(--button-hover-fill-color);\n",
              "  }\n",
              "\n",
              "  .colab-df-quickchart-complete:disabled,\n",
              "  .colab-df-quickchart-complete:disabled:hover {\n",
              "    background-color: var(--disabled-bg-color);\n",
              "    fill: var(--disabled-fill-color);\n",
              "    box-shadow: none;\n",
              "  }\n",
              "\n",
              "  .colab-df-spinner {\n",
              "    border: 2px solid var(--fill-color);\n",
              "    border-color: transparent;\n",
              "    border-bottom-color: var(--fill-color);\n",
              "    animation:\n",
              "      spin 1s steps(1) infinite;\n",
              "  }\n",
              "\n",
              "  @keyframes spin {\n",
              "    0% {\n",
              "      border-color: transparent;\n",
              "      border-bottom-color: var(--fill-color);\n",
              "      border-left-color: var(--fill-color);\n",
              "    }\n",
              "    20% {\n",
              "      border-color: transparent;\n",
              "      border-left-color: var(--fill-color);\n",
              "      border-top-color: var(--fill-color);\n",
              "    }\n",
              "    30% {\n",
              "      border-color: transparent;\n",
              "      border-left-color: var(--fill-color);\n",
              "      border-top-color: var(--fill-color);\n",
              "      border-right-color: var(--fill-color);\n",
              "    }\n",
              "    40% {\n",
              "      border-color: transparent;\n",
              "      border-right-color: var(--fill-color);\n",
              "      border-top-color: var(--fill-color);\n",
              "    }\n",
              "    60% {\n",
              "      border-color: transparent;\n",
              "      border-right-color: var(--fill-color);\n",
              "    }\n",
              "    80% {\n",
              "      border-color: transparent;\n",
              "      border-right-color: var(--fill-color);\n",
              "      border-bottom-color: var(--fill-color);\n",
              "    }\n",
              "    90% {\n",
              "      border-color: transparent;\n",
              "      border-bottom-color: var(--fill-color);\n",
              "    }\n",
              "  }\n",
              "</style>\n",
              "\n",
              "  <script>\n",
              "    async function quickchart(key) {\n",
              "      const quickchartButtonEl =\n",
              "        document.querySelector('#' + key + ' button');\n",
              "      quickchartButtonEl.disabled = true;  // To prevent multiple clicks.\n",
              "      quickchartButtonEl.classList.add('colab-df-spinner');\n",
              "      try {\n",
              "        const charts = await google.colab.kernel.invokeFunction(\n",
              "            'suggestCharts', [key], {});\n",
              "      } catch (error) {\n",
              "        console.error('Error during call to suggestCharts:', error);\n",
              "      }\n",
              "      quickchartButtonEl.classList.remove('colab-df-spinner');\n",
              "      quickchartButtonEl.classList.add('colab-df-quickchart-complete');\n",
              "    }\n",
              "    (() => {\n",
              "      let quickchartButtonEl =\n",
              "        document.querySelector('#df-06b8cd4a-4d75-49b8-a809-68acfa097916 button');\n",
              "      quickchartButtonEl.style.display =\n",
              "        google.colab.kernel.accessAllowed ? 'block' : 'none';\n",
              "    })();\n",
              "  </script>\n",
              "</div>\n",
              "\n",
              "    </div>\n",
              "  </div>\n"
            ],
            "application/vnd.google.colaboratory.intrinsic+json": {
              "type": "dataframe",
              "variable_name": "df",
              "summary": "{\n  \"name\": \"df\",\n  \"rows\": 40000,\n  \"fields\": [\n    {\n      \"column\": \"review_body\",\n      \"properties\": {\n        \"dtype\": \"string\",\n        \"num_unique_values\": 39993,\n        \"samples\": [\n          \"\\u0e40\\u0e04\\u0e22\\u0e21\\u0e32\\u0e23\\u0e49\\u0e32\\u0e19\\u0e19\\u0e35\\u0e492\\u0e04\\u0e23\\u0e31\\u0e49\\u0e07\\u0e41\\u0e23\\u0e30 \\u0e23\\u0e49\\u0e32\\u0e19\\u0e2d\\u0e22\\u0e39\\u0e48\\u0e1b\\u0e32\\u0e01\\u0e17\\u0e32\\u0e07\\u0e25\\u0e32\\u0e14\\u0e1e\\u0e23\\u0e49\\u0e32\\u0e27 \\u0e16\\u0e19\\u0e19\\u0e27\\u0e34\\u0e20\\u0e32\\u0e27\\u0e14\\u0e35\\u0e23\\u0e31\\u0e07\\u0e2a\\u0e34\\u0e15 \\u0e15\\u0e34\\u0e14\\u0e43\\u0e08\\u0e23\\u0e2a\\u0e0a\\u0e32\\u0e15\\u0e34\\u0e2d\\u0e32\\u0e2b\\u0e32\\u0e23\\u0e1a\\u0e23\\u0e23\\u0e22\\u0e32\\u0e01\\u0e32\\u0e28\\u0e22\\u0e49\\u0e2d\\u0e19\\u0e22\\u0e38\\u0e04 60s \\u0e23\\u0e49\\u0e32\\u0e19\\u0e08\\u0e30\\u0e40\\u0e15\\u0e47\\u0e21\\u0e44\\u0e1b\\u0e14\\u0e49\\u0e27\\u0e22\\u0e41\\u0e1c\\u0e48\\u0e19\\u0e40\\u0e2a\\u0e35\\u0e22\\u0e07\\u0e41\\u0e1b\\u0e30\\u0e46\\u0e23\\u0e2d\\u0e1a\\u0e23\\u0e49\\u0e32\\u0e19\\u0e41\\u0e25\\u0e30\\u0e40\\u0e04\\u0e23\\u0e37\\u0e48\\u0e2d\\u0e07\\u0e40\\u0e2a\\u0e35\\u0e22\\u0e07 \\u0e02\\u0e2d\\u0e07\\u0e40\\u0e01\\u0e48\\u0e32 \\u0e23\\u0e49\\u0e32\\u0e19\\u0e21\\u0e35\\u0e42\\u0e15\\u0e4a\\u0e30\\u0e17\\u0e35\\u0e48\\u0e0a\\u0e31\\u0e49\\u0e19\\u0e25\\u0e2d\\u0e22\\u0e14\\u0e49\\u0e27\\u0e22 \\u0e04\\u0e19\\u0e41\\u0e19\\u0e48\\u0e19\\u0e23\\u0e49\\u0e32\\u0e19\\u0e15\\u0e25\\u0e2d\\u0e14 \\u0e21\\u0e35\\u0e0a\\u0e32\\u0e27\\u0e15\\u0e48\\u0e32\\u0e07\\u0e0a\\u0e32\\u0e15\\u0e34\\u0e14\\u0e49\\u0e27\\u0e22\",\n          \"\\u0e2a\\u0e32\\u0e02\\u0e32\\u0e19\\u0e35\\u0e49\\u0e40\\u0e1b\\u0e47\\u0e19\\u0e41\\u0e1a\\u0e1a\\u0e19\\u0e35\\u0e49\\u0e17\\u0e38\\u0e01\\u0e17\\u0e35\\u0e44\\u0e21\\u0e48\\u0e40\\u0e02\\u0e49\\u0e32\\u0e43\\u0e08\\u0e40\\u0e25\\u0e22\\n\\u0e23\\u0e31\\u0e01\\u0e41\\u0e1a\\u0e23\\u0e19\\u0e14\\u0e4c\\u0e08\\u0e36\\u0e07\\u0e2d\\u0e14\\u0e15\\u0e33\\u0e2b\\u0e19\\u0e34\\u0e44\\u0e21\\u0e48\\u0e44\\u0e14\\u0e49\\n\\n\\u0e21\\u0e32\\u0e01\\u0e34\\u0e19 Zen \\u0e17\\u0e35\\u0e48\\u0e40\\u0e0b\\u0e47\\u0e19\\u0e17\\u0e23\\u0e31\\u0e25\\u0e25\\u0e32\\u0e14\\u0e1e\\u0e23\\u0e49\\u0e32\\u0e27\\u0e17\\u0e35\\u0e44\\u0e23\\u0e23\\u0e39\\u0e49\\u0e2a\\u0e36\\u0e01\\u0e02\\u0e2d\\u0e07\\u0e44\\u0e21\\u0e48\\u0e2a\\u0e14\\n\\u0e01\\u0e34\\u0e19\\u0e17\\u0e35\\u0e48\\u0e1f\\u0e34\\u0e27\\u0e40\\u0e08\\u0e2d\\u0e23\\u0e4c\\u0e23\\u0e31\\u0e07\\u0e2a\\u0e34\\u0e15\\u0e2a\\u0e14\\u0e01\\u0e27\\u0e48\\u0e32\\u0e21\\u0e32\\u0e01\\u0e46\\n\\n\\u0e2a\\u0e31\\u0e48\\u0e07\\u0e44\\u0e1b\\u0e2b\\u0e25\\u0e32\\u0e22\\u0e2d\\u0e22\\u0e48\\u0e32\\u0e07\\u0e04\\u0e48\\u0e30\\n\\u0e42\\u0e0b\\u0e30\\u0e1a\\u0e30\\u0e40\\u0e17\\u0e21\\u0e1b\\u0e38\\u0e23\\u0e30 \\u0e01\\u0e38\\u0e49\\u0e07\\u0e2a\\u0e2d\\u0e07\\u0e15\\u0e31\\u0e27 \\u0e19\\u0e49\\u0e33\\u0e0b\\u0e38\\u0e1b\\u0e23\\u0e49\\u0e2d\\u0e19 \\u0e2d\\u0e2d\\u0e01\\u0e2b\\u0e27\\u0e32\\u0e19 \\u0e01\\u0e34\\u0e19\\u0e44\\u0e14\\u0e49\\n\\u0e2b\\u0e21\\u0e36\\u0e01\\u0e22\\u0e33 \\u0e17\\u0e35\\u0e48\\u0e40\\u0e1b\\u0e47\\u0e19\\u0e40\\u0e04\\u0e23\\u0e37\\u0e48\\u0e2d\\u0e07\\u0e40\\u0e04\\u0e35\\u0e22\\u0e07 \\u0e2b\\u0e21\\u0e36\\u0e01\\u0e01\\u0e23\\u0e38\\u0e1a\\u0e46 \\u0e2d\\u0e2d\\u0e01\\u0e2b\\u0e27\\u0e32\\u0e19\\u0e19\\u0e34\\u0e14\\u0e46 \\u0e23\\u0e2a\\u0e0a\\u0e32\\u0e15\\u0e34\\u0e1e\\u0e2d\\u0e43\\u0e0a\\u0e49\\n\\u0e22\\u0e33\\u0e2a\\u0e32\\u0e2b\\u0e23\\u0e48\\u0e32\\u0e22 \\u0e21\\u0e32\\u0e15\\u0e23\\u0e10\\u0e32\\u0e19\\u0e17\\u0e31\\u0e48\\u0e27\\u0e44\\u0e1b\\n\\u0e41\\u0e0b\\u0e25\\u0e21\\u0e2d\\u0e19\\u0e22\\u0e33\\u0e44\\u0e17\\u0e22 \\u0e17\\u0e35\\u0e48\\u0e19\\u0e35\\u0e48\\u0e43\\u0e2b\\u0e49\\u0e2b\\u0e19\\u0e31\\u0e07\\u0e40\\u0e22\\u0e2d\\u0e30 \\u0e40\\u0e19\\u0e37\\u0e49\\u0e2d\\u0e1b\\u0e25\\u0e32\\u0e2b\\u0e31\\u0e32\\u0e19\\u0e40\\u0e15\\u0e4b\\u0e32\\u0e41\\u0e15\\u0e48\\u0e44\\u0e21\\u0e48\\u0e04\\u0e48\\u0e2d\\u0e22\\u0e2a\\u0e14 \\u0e15\\u0e34\\u0e14\\u0e2a\\u0e48\\u0e27\\u0e19\\u0e2b\\u0e19\\u0e31\\u0e07\\u0e21\\u0e32 \\u0e1b\\u0e23\\u0e34\\u0e21\\u0e32\\u0e13\\u0e1e\\u0e2d\\u0e2a\\u0e21\\u0e04\\u0e27\\u0e23 \\n\\u0e0b\\u0e32\\u0e0b\\u0e34\\u0e21\\u0e34\\u0e44\\u0e14\\u0e49\\u0e1f\\u0e23\\u0e35\\u0e08\\u0e32\\u0e01 gift voucher \\u0e40\\u0e1e\\u0e23\\u0e32\\u0e30\\u0e40\\u0e1b\\u0e47\\u0e19\\u0e2a\\u0e21\\u0e32\\u0e0a\\u0e34\\u0e01 \\u0e1b\\u0e25\\u0e32\\u0e0a\\u0e34\\u0e49\\u0e19\\u0e1a\\u0e32\\u0e07 \\u0e44\\u0e21\\u0e48\\u0e2a\\u0e14 \\u0e22\\u0e34\\u0e48\\u0e07\\u0e1b\\u0e25\\u0e32\\u0e2a\\u0e35\\u0e02\\u0e32\\u0e27\\u0e44\\u0e21\\u0e48\\u0e41\\u0e19\\u0e48\\u0e43\\u0e08\\u0e01\\u0e30\\u0e1e\\u0e07\\u0e2b\\u0e23\\u0e37\\u0e2d\\u0e2d\\u0e30\\u0e44\\u0e23 \\u0e44\\u0e21\\u0e48\\u0e2a\\u0e14\\u0e40\\u0e2d\\u0e32\\u0e21\\u0e32\\u0e01\\u0e46 \\u0e40\\u0e2d\\u0e47\\u0e19\\u0e40\\u0e22\\u0e2d\\u0e30 \\u0e40\\u0e2b\\u0e19\\u0e35\\u0e22\\u0e27\\u0e40\\u0e04\\u0e35\\u0e49\\u0e22\\u0e27\\u0e22\\u0e32\\u0e01 \\n\\u0e0a\\u0e38\\u0e14\\u0e02\\u0e49\\u0e32\\u0e27\\u0e1b\\u0e31\\u0e49\\u0e19 \\u0e44\\u0e21\\u0e48\\u0e2d\\u0e23\\u0e48\\u0e2d\\u0e22\\u0e2d\\u0e48\\u0e30 \\u0e1b\\u0e31\\u0e49\\u0e19\\u0e44\\u0e21\\u0e48\\u0e2d\\u0e23\\u0e48\\u0e2d\\u0e22 \\n\\u0e44\\u0e02\\u0e48\\u0e2b\\u0e27\\u0e32\\u0e19\\u0e2a\\u0e25\\u0e31\\u0e14\\u0e1b\\u0e39\\u0e2d\\u0e31\\u0e14\\u0e01\\u0e47\\u0e44\\u0e21\\u0e48\\u0e2d\\u0e23\\u0e48\\u0e2d\\u0e22 \\u0e44\\u0e02\\u0e48\\u0e2b\\u0e27\\u0e32\\u0e19\\u0e15\\u0e23\\u0e07\\u0e01\\u0e25\\u0e32\\u0e07\\u0e21\\u0e35\\u0e40\\u0e2a\\u0e35\\u0e22\\u0e27\\u0e40\\u0e02\\u0e35\\u0e22\\u0e27\\u0e04\\u0e25\\u0e49\\u0e33\\u0e46\\u0e19\\u0e34\\u0e14\\u0e46 \\u0e40\\u0e22\\u0e47\\u0e19\\u0e0a\\u0e37\\u0e14\\n\\n4\\u0e40\\u0e21\\u0e19\\u0e39\\u0e2b\\u0e25\\u0e31\\u0e07\\u0e44\\u0e21\\u0e48\\u0e42\\u0e2d\\u0e40\\u0e04\\u0e04\\u0e48\\u0e30 \\u0e17\\u0e35\\u0e48\\u0e1f\\u0e34\\u0e27\\u0e2d\\u0e23\\u0e48\\u0e2d\\u0e22\\u0e01\\u0e27\\u0e48\\u0e32\\u0e40\\u0e22\\u0e2d\\u0e30 \\u0e2a\\u0e23\\u0e38\\u0e1b\\u0e27\\u0e48\\u0e32\\u0e1e\\u0e19\\u0e31\\u0e01\\u0e07\\u0e32\\u0e19\\u0e1a\\u0e23\\u0e34\\u0e01\\u0e32\\u0e23\\u0e14\\u0e35 \\u0e2d\\u0e32\\u0e2b\\u0e32\\u0e23\\u0e44\\u0e21\\u0e48\\u0e2a\\u0e14\\u0e40\\u0e17\\u0e48\\u0e32\\u0e17\\u0e35\\u0e48\\u0e04\\u0e27\\u0e23 \\u0e44\\u0e21\\u0e48\\u0e1b\\u0e23\\u0e30\\u0e17\\u0e31\\u0e1a\\u0e43\\u0e08 \\u0e40\\u0e2a\\u0e35\\u0e22\\u0e2b\\u0e32\\u0e22\\u0e44\\u0e1b1,110 \\u0e1a\\u0e32\\u0e17\",\n          \"\\u0e23\\u0e49\\u0e32\\u0e19\\u0e19\\u0e34\\u0e27\\u0e40\\u0e04\\u0e25\\u0e35\\u0e22\\u0e23\\u0e4c\\u0e23\\u0e32\\u0e14\\u0e2b\\u0e19\\u0e49\\u0e32\\u0e22\\u0e2d\\u0e14\\u0e1c\\u0e31\\u0e01\\u0e41\\u0e25\\u0e30\\u0e2d\\u0e32\\u0e2b\\u0e32\\u0e23\\u0e15\\u0e32\\u0e21\\u0e2a\\u0e31\\u0e48\\u0e07 \\u0e40\\u0e1b\\u0e47\\u0e19\\u0e2d\\u0e35\\u0e01 1 \\u0e23\\u0e49\\u0e32\\u0e19\\u0e2d\\u0e32\\u0e2b\\u0e32\\u0e23\\u0e17\\u0e35\\u0e48\\u0e40\\u0e2d\\u0e23\\u0e47\\u0e14\\u0e2d\\u0e23\\u0e48\\u0e2d\\u0e22\\u0e21\\u0e32\\u0e01 \\u0e43\\u0e19\\u0e40\\u0e21\\u0e37\\u0e2d\\u0e07\\u0e1a\\u0e49\\u0e32\\u0e19\\u0e09\\u0e32\\u0e07\\u0e17\\u0e08\\u0e31\\u0e07\\u0e2b\\u0e27\\u0e31\\u0e14\\u0e23\\u0e30\\u0e22\\u0e2d\\u0e07 \\u0e23\\u0e49\\u0e32\\u0e19\\u0e19\\u0e35\\u0e49\\u0e15\\u0e31\\u0e49\\u0e07\\u0e2d\\u0e22\\u0e39\\u0e48\\u0e1a\\u0e19\\u0e16\\u0e19\\u0e19\\u0e43\\u0e2b\\u0e0d\\u0e48\\u0e40\\u0e25\\u0e22\\u0e08\\u0e2d\\u0e14\\u0e23\\u0e16\\u0e02\\u0e49\\u0e32\\u0e07\\u0e17\\u0e32\\u0e07 \\u0e2a\\u0e48\\u0e27\\u0e19\\u0e21\\u0e32\\u0e01\\u0e02\\u0e32\\u0e22\\u0e2d\\u0e32\\u0e2b\\u0e32\\u0e23\\u0e15\\u0e32\\u0e21\\u0e2a\\u0e31\\u0e48\\u0e07\\u0e15\\u0e48\\u0e32\\u0e07\\u0e46 \\u0e23\\u0e32\\u0e14\\u0e2b\\u0e19\\u0e49\\u0e32\\u0e2b\\u0e21\\u0e39\\u0e2b\\u0e21\\u0e31\\u0e01 \\u0e23\\u0e32\\u0e14\\u0e2b\\u0e19\\u0e49\\u0e32\\u0e17\\u0e30\\u0e40\\u0e25 \\u0e41\\u0e25\\u0e30\\u0e1e\\u0e27\\u0e01\\u0e1c\\u0e31\\u0e14\\u0e0b\\u0e35\\u0e2d\\u0e34\\u0e49\\u0e27\\u0e15\\u0e48\\u0e32\\u0e07\\u0e46 \\u0e40\\u0e04\\u0e22\\u0e21\\u0e32\\u0e17\\u0e32\\u0e19\\u0e23\\u0e32\\u0e14\\u0e2b\\u0e19\\u0e49\\u0e32\\u0e2b\\u0e21\\u0e39\\u0e2b\\u0e21\\u0e31\\u0e01\\u0e41\\u0e25\\u0e49\\u0e27 1 \\u0e23\\u0e2d\\u0e1a\\u0e2d\\u0e23\\u0e48\\u0e2d\\u0e22\\u0e14\\u0e35 \\u0e04\\u0e23\\u0e32\\u0e27\\u0e19\\u0e35\\u0e49\\u0e40\\u0e25\\u0e22\\u0e25\\u0e2d\\u0e07\\u0e40\\u0e1b\\u0e25\\u0e35\\u0e48\\u0e22\\u0e19\\u0e21\\u0e32\\u0e17\\u0e32\\u0e07\\u0e40\\u0e1b\\u0e47\\u0e19\\u0e23\\u0e32\\u0e14\\u0e2b\\u0e19\\u0e49\\u0e32\\u0e17\\u0e30\\u0e40\\u0e25\\u0e14\\u0e39\\u0e27\\u0e48\\u0e32\\u0e08\\u0e30\\u0e2d\\u0e23\\u0e48\\u0e2d\\u0e22\\u0e2b\\u0e23\\u0e37\\u0e2d\\u0e40\\u0e1b\\u0e25\\u0e48\\u0e32 \\u0e41\\u0e25\\u0e30\\u0e40\\u0e04\\u0e49\\u0e32\\u0e01\\u0e47\\u0e44\\u0e21\\u0e48\\u0e17\\u0e33\\u0e43\\u0e2b\\u0e49\\u0e1c\\u0e34\\u0e14\\u0e2b\\u0e27\\u0e31\\u0e07\\u0e08\\u0e23\\u0e34\\u0e07\\u0e46 \\u0e44\\u0e14\\u0e49\\u0e40\\u0e22\\u0e2d\\u0e30\\u0e14\\u0e49\\u0e27\\u0e22\\u0e41\\u0e25\\u0e49\\u0e27\\u0e01\\u0e47\\u0e2d\\u0e23\\u0e48\\u0e2d\\u0e22\\u0e2d\\u0e22\\u0e48\\u0e32\\u0e07\\u0e17\\u0e35\\u0e48\\u0e04\\u0e32\\u0e14\\u0e2b\\u0e27\\u0e31\\u0e07\\u0e44\\u0e27\\u0e49\\u0e08\\u0e23\\u0e34\\u0e07\\u0e46 \\u0e40\\u0e04\\u0e23\\u0e37\\u0e48\\u0e2d\\u0e07\\u0e16\\u0e25\\u0e14\\u0e40\\u0e0a\\u0e48\\u0e19\\u0e01\\u0e38\\u0e49\\u0e07 \\u0e1b\\u0e25\\u0e32\\u0e2b\\u0e21\\u0e36\\u0e01 \\u0e2a\\u0e14\\u0e41\\u0e25\\u0e30\\u0e44\\u0e21\\u0e48\\u0e40\\u0e2b\\u0e21\\u0e47\\u0e19\\u0e04\\u0e32\\u0e27\\u0e40\\u0e25\\u0e22 \\u0e23\\u0e32\\u0e04\\u0e32\\u0e01\\u0e47\\u0e17\\u0e31\\u0e48\\u0e27\\u0e44\\u0e1b\\u0e44\\u0e21\\u0e48\\u0e41\\u0e1e\\u0e07\\u0e21\\u0e32\\u0e01 \\u0e04\\u0e19\\u0e40\\u0e22\\u0e2d\\u0e30\\u0e21\\u0e32\\u0e01\\u0e42\\u0e14\\u0e22\\u0e40\\u0e09\\u0e1e\\u0e32\\u0e30\\u0e0a\\u0e48\\u0e27\\u0e07\\u0e2b\\u0e31\\u0e27\\u0e04\\u0e48\\u0e33 \\u0e02\\u0e2d\\u0e07\\u0e40\\u0e04\\u0e49\\u0e32\\u0e14\\u0e35\\u0e02\\u0e2d\\u0e07\\u0e40\\u0e04\\u0e49\\u0e32\\u0e2d\\u0e23\\u0e48\\u0e2d\\u0e22\\u0e08\\u0e23\\u0e34\\u0e07\\u0e46\"\n        ],\n        \"semantic_type\": \"\",\n        \"description\": \"\"\n      }\n    },\n    {\n      \"column\": \"star_rating\",\n      \"properties\": {\n        \"dtype\": \"number\",\n        \"std\": 0,\n        \"min\": 0,\n        \"max\": 4,\n        \"num_unique_values\": 5,\n        \"samples\": [\n          3,\n          0,\n          4\n        ],\n        \"semantic_type\": \"\",\n        \"description\": \"\"\n      }\n    }\n  ]\n}"
            }
          },
          "metadata": {},
          "execution_count": 4
        }
      ],
      "source": [
        "splits = {'train': 'data/train-00000-of-00001.parquet', 'test': 'data/test-00000-of-00001.parquet'}\n",
        "df = pd.read_parquet(\"hf://datasets/Wongnai/wongnai_reviews/\" + splits[\"train\"])\n",
        "\n",
        "df.head()"
      ]
    },
    {
      "cell_type": "code",
      "execution_count": null,
      "metadata": {
        "colab": {
          "base_uri": "https://localhost:8080/",
          "height": 479
        },
        "id": "QrdO52dFyOmf",
        "outputId": "adc7cb6f-4363-4343-dc3c-cafc203432e1"
      },
      "outputs": [
        {
          "output_type": "execute_result",
          "data": {
            "text/plain": [
              "                                         review_body  star_rating sentiment\n",
              "0  ร้านอาหารใหญ่มากกกกกกก \\nเลี้ยวเข้ามาเจอห้องน้...            2  negative\n",
              "1  อาหารที่นี่เป็นอาหารจีนแคะที่หากินยากในบ้านเรา...            3  negative\n",
              "2  ปอเปี๊ยะสด ทุกวันนี้รู้สึกว่าหากินยาก (ร้านที่...            2  negative\n",
              "3  รัานคัพเค้กในเมืองไทยมีไม่มาก หลายๆคนอาจจะสงสั...            4  positive\n",
              "4  อร่อย!!! เดินผ่านDigital gatewayทุกวัน ไม่ยักร...            4  positive"
            ],
            "text/html": [
              "\n",
              "  <div id=\"df-8ffe775a-19ed-41b0-a4f0-be24c8f181b9\" class=\"colab-df-container\">\n",
              "    <div>\n",
              "<style scoped>\n",
              "    .dataframe tbody tr th:only-of-type {\n",
              "        vertical-align: middle;\n",
              "    }\n",
              "\n",
              "    .dataframe tbody tr th {\n",
              "        vertical-align: top;\n",
              "    }\n",
              "\n",
              "    .dataframe thead th {\n",
              "        text-align: right;\n",
              "    }\n",
              "</style>\n",
              "<table border=\"1\" class=\"dataframe\">\n",
              "  <thead>\n",
              "    <tr style=\"text-align: right;\">\n",
              "      <th></th>\n",
              "      <th>review_body</th>\n",
              "      <th>star_rating</th>\n",
              "      <th>sentiment</th>\n",
              "    </tr>\n",
              "  </thead>\n",
              "  <tbody>\n",
              "    <tr>\n",
              "      <th>0</th>\n",
              "      <td>ร้านอาหารใหญ่มากกกกกกก \\nเลี้ยวเข้ามาเจอห้องน้...</td>\n",
              "      <td>2</td>\n",
              "      <td>negative</td>\n",
              "    </tr>\n",
              "    <tr>\n",
              "      <th>1</th>\n",
              "      <td>อาหารที่นี่เป็นอาหารจีนแคะที่หากินยากในบ้านเรา...</td>\n",
              "      <td>3</td>\n",
              "      <td>negative</td>\n",
              "    </tr>\n",
              "    <tr>\n",
              "      <th>2</th>\n",
              "      <td>ปอเปี๊ยะสด ทุกวันนี้รู้สึกว่าหากินยาก (ร้านที่...</td>\n",
              "      <td>2</td>\n",
              "      <td>negative</td>\n",
              "    </tr>\n",
              "    <tr>\n",
              "      <th>3</th>\n",
              "      <td>รัานคัพเค้กในเมืองไทยมีไม่มาก หลายๆคนอาจจะสงสั...</td>\n",
              "      <td>4</td>\n",
              "      <td>positive</td>\n",
              "    </tr>\n",
              "    <tr>\n",
              "      <th>4</th>\n",
              "      <td>อร่อย!!! เดินผ่านDigital gatewayทุกวัน ไม่ยักร...</td>\n",
              "      <td>4</td>\n",
              "      <td>positive</td>\n",
              "    </tr>\n",
              "  </tbody>\n",
              "</table>\n",
              "</div>\n",
              "    <div class=\"colab-df-buttons\">\n",
              "\n",
              "  <div class=\"colab-df-container\">\n",
              "    <button class=\"colab-df-convert\" onclick=\"convertToInteractive('df-8ffe775a-19ed-41b0-a4f0-be24c8f181b9')\"\n",
              "            title=\"Convert this dataframe to an interactive table.\"\n",
              "            style=\"display:none;\">\n",
              "\n",
              "  <svg xmlns=\"http://www.w3.org/2000/svg\" height=\"24px\" viewBox=\"0 -960 960 960\">\n",
              "    <path d=\"M120-120v-720h720v720H120Zm60-500h600v-160H180v160Zm220 220h160v-160H400v160Zm0 220h160v-160H400v160ZM180-400h160v-160H180v160Zm440 0h160v-160H620v160ZM180-180h160v-160H180v160Zm440 0h160v-160H620v160Z\"/>\n",
              "  </svg>\n",
              "    </button>\n",
              "\n",
              "  <style>\n",
              "    .colab-df-container {\n",
              "      display:flex;\n",
              "      gap: 12px;\n",
              "    }\n",
              "\n",
              "    .colab-df-convert {\n",
              "      background-color: #E8F0FE;\n",
              "      border: none;\n",
              "      border-radius: 50%;\n",
              "      cursor: pointer;\n",
              "      display: none;\n",
              "      fill: #1967D2;\n",
              "      height: 32px;\n",
              "      padding: 0 0 0 0;\n",
              "      width: 32px;\n",
              "    }\n",
              "\n",
              "    .colab-df-convert:hover {\n",
              "      background-color: #E2EBFA;\n",
              "      box-shadow: 0px 1px 2px rgba(60, 64, 67, 0.3), 0px 1px 3px 1px rgba(60, 64, 67, 0.15);\n",
              "      fill: #174EA6;\n",
              "    }\n",
              "\n",
              "    .colab-df-buttons div {\n",
              "      margin-bottom: 4px;\n",
              "    }\n",
              "\n",
              "    [theme=dark] .colab-df-convert {\n",
              "      background-color: #3B4455;\n",
              "      fill: #D2E3FC;\n",
              "    }\n",
              "\n",
              "    [theme=dark] .colab-df-convert:hover {\n",
              "      background-color: #434B5C;\n",
              "      box-shadow: 0px 1px 3px 1px rgba(0, 0, 0, 0.15);\n",
              "      filter: drop-shadow(0px 1px 2px rgba(0, 0, 0, 0.3));\n",
              "      fill: #FFFFFF;\n",
              "    }\n",
              "  </style>\n",
              "\n",
              "    <script>\n",
              "      const buttonEl =\n",
              "        document.querySelector('#df-8ffe775a-19ed-41b0-a4f0-be24c8f181b9 button.colab-df-convert');\n",
              "      buttonEl.style.display =\n",
              "        google.colab.kernel.accessAllowed ? 'block' : 'none';\n",
              "\n",
              "      async function convertToInteractive(key) {\n",
              "        const element = document.querySelector('#df-8ffe775a-19ed-41b0-a4f0-be24c8f181b9');\n",
              "        const dataTable =\n",
              "          await google.colab.kernel.invokeFunction('convertToInteractive',\n",
              "                                                    [key], {});\n",
              "        if (!dataTable) return;\n",
              "\n",
              "        const docLinkHtml = 'Like what you see? Visit the ' +\n",
              "          '<a target=\"_blank\" href=https://colab.research.google.com/notebooks/data_table.ipynb>data table notebook</a>'\n",
              "          + ' to learn more about interactive tables.';\n",
              "        element.innerHTML = '';\n",
              "        dataTable['output_type'] = 'display_data';\n",
              "        await google.colab.output.renderOutput(dataTable, element);\n",
              "        const docLink = document.createElement('div');\n",
              "        docLink.innerHTML = docLinkHtml;\n",
              "        element.appendChild(docLink);\n",
              "      }\n",
              "    </script>\n",
              "  </div>\n",
              "\n",
              "\n",
              "<div id=\"df-55ed264c-e9fe-426a-8268-5cc4d4daaa68\">\n",
              "  <button class=\"colab-df-quickchart\" onclick=\"quickchart('df-55ed264c-e9fe-426a-8268-5cc4d4daaa68')\"\n",
              "            title=\"Suggest charts\"\n",
              "            style=\"display:none;\">\n",
              "\n",
              "<svg xmlns=\"http://www.w3.org/2000/svg\" height=\"24px\"viewBox=\"0 0 24 24\"\n",
              "     width=\"24px\">\n",
              "    <g>\n",
              "        <path d=\"M19 3H5c-1.1 0-2 .9-2 2v14c0 1.1.9 2 2 2h14c1.1 0 2-.9 2-2V5c0-1.1-.9-2-2-2zM9 17H7v-7h2v7zm4 0h-2V7h2v10zm4 0h-2v-4h2v4z\"/>\n",
              "    </g>\n",
              "</svg>\n",
              "  </button>\n",
              "\n",
              "<style>\n",
              "  .colab-df-quickchart {\n",
              "      --bg-color: #E8F0FE;\n",
              "      --fill-color: #1967D2;\n",
              "      --hover-bg-color: #E2EBFA;\n",
              "      --hover-fill-color: #174EA6;\n",
              "      --disabled-fill-color: #AAA;\n",
              "      --disabled-bg-color: #DDD;\n",
              "  }\n",
              "\n",
              "  [theme=dark] .colab-df-quickchart {\n",
              "      --bg-color: #3B4455;\n",
              "      --fill-color: #D2E3FC;\n",
              "      --hover-bg-color: #434B5C;\n",
              "      --hover-fill-color: #FFFFFF;\n",
              "      --disabled-bg-color: #3B4455;\n",
              "      --disabled-fill-color: #666;\n",
              "  }\n",
              "\n",
              "  .colab-df-quickchart {\n",
              "    background-color: var(--bg-color);\n",
              "    border: none;\n",
              "    border-radius: 50%;\n",
              "    cursor: pointer;\n",
              "    display: none;\n",
              "    fill: var(--fill-color);\n",
              "    height: 32px;\n",
              "    padding: 0;\n",
              "    width: 32px;\n",
              "  }\n",
              "\n",
              "  .colab-df-quickchart:hover {\n",
              "    background-color: var(--hover-bg-color);\n",
              "    box-shadow: 0 1px 2px rgba(60, 64, 67, 0.3), 0 1px 3px 1px rgba(60, 64, 67, 0.15);\n",
              "    fill: var(--button-hover-fill-color);\n",
              "  }\n",
              "\n",
              "  .colab-df-quickchart-complete:disabled,\n",
              "  .colab-df-quickchart-complete:disabled:hover {\n",
              "    background-color: var(--disabled-bg-color);\n",
              "    fill: var(--disabled-fill-color);\n",
              "    box-shadow: none;\n",
              "  }\n",
              "\n",
              "  .colab-df-spinner {\n",
              "    border: 2px solid var(--fill-color);\n",
              "    border-color: transparent;\n",
              "    border-bottom-color: var(--fill-color);\n",
              "    animation:\n",
              "      spin 1s steps(1) infinite;\n",
              "  }\n",
              "\n",
              "  @keyframes spin {\n",
              "    0% {\n",
              "      border-color: transparent;\n",
              "      border-bottom-color: var(--fill-color);\n",
              "      border-left-color: var(--fill-color);\n",
              "    }\n",
              "    20% {\n",
              "      border-color: transparent;\n",
              "      border-left-color: var(--fill-color);\n",
              "      border-top-color: var(--fill-color);\n",
              "    }\n",
              "    30% {\n",
              "      border-color: transparent;\n",
              "      border-left-color: var(--fill-color);\n",
              "      border-top-color: var(--fill-color);\n",
              "      border-right-color: var(--fill-color);\n",
              "    }\n",
              "    40% {\n",
              "      border-color: transparent;\n",
              "      border-right-color: var(--fill-color);\n",
              "      border-top-color: var(--fill-color);\n",
              "    }\n",
              "    60% {\n",
              "      border-color: transparent;\n",
              "      border-right-color: var(--fill-color);\n",
              "    }\n",
              "    80% {\n",
              "      border-color: transparent;\n",
              "      border-right-color: var(--fill-color);\n",
              "      border-bottom-color: var(--fill-color);\n",
              "    }\n",
              "    90% {\n",
              "      border-color: transparent;\n",
              "      border-bottom-color: var(--fill-color);\n",
              "    }\n",
              "  }\n",
              "</style>\n",
              "\n",
              "  <script>\n",
              "    async function quickchart(key) {\n",
              "      const quickchartButtonEl =\n",
              "        document.querySelector('#' + key + ' button');\n",
              "      quickchartButtonEl.disabled = true;  // To prevent multiple clicks.\n",
              "      quickchartButtonEl.classList.add('colab-df-spinner');\n",
              "      try {\n",
              "        const charts = await google.colab.kernel.invokeFunction(\n",
              "            'suggestCharts', [key], {});\n",
              "      } catch (error) {\n",
              "        console.error('Error during call to suggestCharts:', error);\n",
              "      }\n",
              "      quickchartButtonEl.classList.remove('colab-df-spinner');\n",
              "      quickchartButtonEl.classList.add('colab-df-quickchart-complete');\n",
              "    }\n",
              "    (() => {\n",
              "      let quickchartButtonEl =\n",
              "        document.querySelector('#df-55ed264c-e9fe-426a-8268-5cc4d4daaa68 button');\n",
              "      quickchartButtonEl.style.display =\n",
              "        google.colab.kernel.accessAllowed ? 'block' : 'none';\n",
              "    })();\n",
              "  </script>\n",
              "</div>\n",
              "\n",
              "    </div>\n",
              "  </div>\n"
            ],
            "application/vnd.google.colaboratory.intrinsic+json": {
              "type": "dataframe",
              "variable_name": "df",
              "summary": "{\n  \"name\": \"df\",\n  \"rows\": 40000,\n  \"fields\": [\n    {\n      \"column\": \"review_body\",\n      \"properties\": {\n        \"dtype\": \"string\",\n        \"num_unique_values\": 39993,\n        \"samples\": [\n          \"\\u0e40\\u0e04\\u0e22\\u0e21\\u0e32\\u0e23\\u0e49\\u0e32\\u0e19\\u0e19\\u0e35\\u0e492\\u0e04\\u0e23\\u0e31\\u0e49\\u0e07\\u0e41\\u0e23\\u0e30 \\u0e23\\u0e49\\u0e32\\u0e19\\u0e2d\\u0e22\\u0e39\\u0e48\\u0e1b\\u0e32\\u0e01\\u0e17\\u0e32\\u0e07\\u0e25\\u0e32\\u0e14\\u0e1e\\u0e23\\u0e49\\u0e32\\u0e27 \\u0e16\\u0e19\\u0e19\\u0e27\\u0e34\\u0e20\\u0e32\\u0e27\\u0e14\\u0e35\\u0e23\\u0e31\\u0e07\\u0e2a\\u0e34\\u0e15 \\u0e15\\u0e34\\u0e14\\u0e43\\u0e08\\u0e23\\u0e2a\\u0e0a\\u0e32\\u0e15\\u0e34\\u0e2d\\u0e32\\u0e2b\\u0e32\\u0e23\\u0e1a\\u0e23\\u0e23\\u0e22\\u0e32\\u0e01\\u0e32\\u0e28\\u0e22\\u0e49\\u0e2d\\u0e19\\u0e22\\u0e38\\u0e04 60s \\u0e23\\u0e49\\u0e32\\u0e19\\u0e08\\u0e30\\u0e40\\u0e15\\u0e47\\u0e21\\u0e44\\u0e1b\\u0e14\\u0e49\\u0e27\\u0e22\\u0e41\\u0e1c\\u0e48\\u0e19\\u0e40\\u0e2a\\u0e35\\u0e22\\u0e07\\u0e41\\u0e1b\\u0e30\\u0e46\\u0e23\\u0e2d\\u0e1a\\u0e23\\u0e49\\u0e32\\u0e19\\u0e41\\u0e25\\u0e30\\u0e40\\u0e04\\u0e23\\u0e37\\u0e48\\u0e2d\\u0e07\\u0e40\\u0e2a\\u0e35\\u0e22\\u0e07 \\u0e02\\u0e2d\\u0e07\\u0e40\\u0e01\\u0e48\\u0e32 \\u0e23\\u0e49\\u0e32\\u0e19\\u0e21\\u0e35\\u0e42\\u0e15\\u0e4a\\u0e30\\u0e17\\u0e35\\u0e48\\u0e0a\\u0e31\\u0e49\\u0e19\\u0e25\\u0e2d\\u0e22\\u0e14\\u0e49\\u0e27\\u0e22 \\u0e04\\u0e19\\u0e41\\u0e19\\u0e48\\u0e19\\u0e23\\u0e49\\u0e32\\u0e19\\u0e15\\u0e25\\u0e2d\\u0e14 \\u0e21\\u0e35\\u0e0a\\u0e32\\u0e27\\u0e15\\u0e48\\u0e32\\u0e07\\u0e0a\\u0e32\\u0e15\\u0e34\\u0e14\\u0e49\\u0e27\\u0e22\",\n          \"\\u0e2a\\u0e32\\u0e02\\u0e32\\u0e19\\u0e35\\u0e49\\u0e40\\u0e1b\\u0e47\\u0e19\\u0e41\\u0e1a\\u0e1a\\u0e19\\u0e35\\u0e49\\u0e17\\u0e38\\u0e01\\u0e17\\u0e35\\u0e44\\u0e21\\u0e48\\u0e40\\u0e02\\u0e49\\u0e32\\u0e43\\u0e08\\u0e40\\u0e25\\u0e22\\n\\u0e23\\u0e31\\u0e01\\u0e41\\u0e1a\\u0e23\\u0e19\\u0e14\\u0e4c\\u0e08\\u0e36\\u0e07\\u0e2d\\u0e14\\u0e15\\u0e33\\u0e2b\\u0e19\\u0e34\\u0e44\\u0e21\\u0e48\\u0e44\\u0e14\\u0e49\\n\\n\\u0e21\\u0e32\\u0e01\\u0e34\\u0e19 Zen \\u0e17\\u0e35\\u0e48\\u0e40\\u0e0b\\u0e47\\u0e19\\u0e17\\u0e23\\u0e31\\u0e25\\u0e25\\u0e32\\u0e14\\u0e1e\\u0e23\\u0e49\\u0e32\\u0e27\\u0e17\\u0e35\\u0e44\\u0e23\\u0e23\\u0e39\\u0e49\\u0e2a\\u0e36\\u0e01\\u0e02\\u0e2d\\u0e07\\u0e44\\u0e21\\u0e48\\u0e2a\\u0e14\\n\\u0e01\\u0e34\\u0e19\\u0e17\\u0e35\\u0e48\\u0e1f\\u0e34\\u0e27\\u0e40\\u0e08\\u0e2d\\u0e23\\u0e4c\\u0e23\\u0e31\\u0e07\\u0e2a\\u0e34\\u0e15\\u0e2a\\u0e14\\u0e01\\u0e27\\u0e48\\u0e32\\u0e21\\u0e32\\u0e01\\u0e46\\n\\n\\u0e2a\\u0e31\\u0e48\\u0e07\\u0e44\\u0e1b\\u0e2b\\u0e25\\u0e32\\u0e22\\u0e2d\\u0e22\\u0e48\\u0e32\\u0e07\\u0e04\\u0e48\\u0e30\\n\\u0e42\\u0e0b\\u0e30\\u0e1a\\u0e30\\u0e40\\u0e17\\u0e21\\u0e1b\\u0e38\\u0e23\\u0e30 \\u0e01\\u0e38\\u0e49\\u0e07\\u0e2a\\u0e2d\\u0e07\\u0e15\\u0e31\\u0e27 \\u0e19\\u0e49\\u0e33\\u0e0b\\u0e38\\u0e1b\\u0e23\\u0e49\\u0e2d\\u0e19 \\u0e2d\\u0e2d\\u0e01\\u0e2b\\u0e27\\u0e32\\u0e19 \\u0e01\\u0e34\\u0e19\\u0e44\\u0e14\\u0e49\\n\\u0e2b\\u0e21\\u0e36\\u0e01\\u0e22\\u0e33 \\u0e17\\u0e35\\u0e48\\u0e40\\u0e1b\\u0e47\\u0e19\\u0e40\\u0e04\\u0e23\\u0e37\\u0e48\\u0e2d\\u0e07\\u0e40\\u0e04\\u0e35\\u0e22\\u0e07 \\u0e2b\\u0e21\\u0e36\\u0e01\\u0e01\\u0e23\\u0e38\\u0e1a\\u0e46 \\u0e2d\\u0e2d\\u0e01\\u0e2b\\u0e27\\u0e32\\u0e19\\u0e19\\u0e34\\u0e14\\u0e46 \\u0e23\\u0e2a\\u0e0a\\u0e32\\u0e15\\u0e34\\u0e1e\\u0e2d\\u0e43\\u0e0a\\u0e49\\n\\u0e22\\u0e33\\u0e2a\\u0e32\\u0e2b\\u0e23\\u0e48\\u0e32\\u0e22 \\u0e21\\u0e32\\u0e15\\u0e23\\u0e10\\u0e32\\u0e19\\u0e17\\u0e31\\u0e48\\u0e27\\u0e44\\u0e1b\\n\\u0e41\\u0e0b\\u0e25\\u0e21\\u0e2d\\u0e19\\u0e22\\u0e33\\u0e44\\u0e17\\u0e22 \\u0e17\\u0e35\\u0e48\\u0e19\\u0e35\\u0e48\\u0e43\\u0e2b\\u0e49\\u0e2b\\u0e19\\u0e31\\u0e07\\u0e40\\u0e22\\u0e2d\\u0e30 \\u0e40\\u0e19\\u0e37\\u0e49\\u0e2d\\u0e1b\\u0e25\\u0e32\\u0e2b\\u0e31\\u0e32\\u0e19\\u0e40\\u0e15\\u0e4b\\u0e32\\u0e41\\u0e15\\u0e48\\u0e44\\u0e21\\u0e48\\u0e04\\u0e48\\u0e2d\\u0e22\\u0e2a\\u0e14 \\u0e15\\u0e34\\u0e14\\u0e2a\\u0e48\\u0e27\\u0e19\\u0e2b\\u0e19\\u0e31\\u0e07\\u0e21\\u0e32 \\u0e1b\\u0e23\\u0e34\\u0e21\\u0e32\\u0e13\\u0e1e\\u0e2d\\u0e2a\\u0e21\\u0e04\\u0e27\\u0e23 \\n\\u0e0b\\u0e32\\u0e0b\\u0e34\\u0e21\\u0e34\\u0e44\\u0e14\\u0e49\\u0e1f\\u0e23\\u0e35\\u0e08\\u0e32\\u0e01 gift voucher \\u0e40\\u0e1e\\u0e23\\u0e32\\u0e30\\u0e40\\u0e1b\\u0e47\\u0e19\\u0e2a\\u0e21\\u0e32\\u0e0a\\u0e34\\u0e01 \\u0e1b\\u0e25\\u0e32\\u0e0a\\u0e34\\u0e49\\u0e19\\u0e1a\\u0e32\\u0e07 \\u0e44\\u0e21\\u0e48\\u0e2a\\u0e14 \\u0e22\\u0e34\\u0e48\\u0e07\\u0e1b\\u0e25\\u0e32\\u0e2a\\u0e35\\u0e02\\u0e32\\u0e27\\u0e44\\u0e21\\u0e48\\u0e41\\u0e19\\u0e48\\u0e43\\u0e08\\u0e01\\u0e30\\u0e1e\\u0e07\\u0e2b\\u0e23\\u0e37\\u0e2d\\u0e2d\\u0e30\\u0e44\\u0e23 \\u0e44\\u0e21\\u0e48\\u0e2a\\u0e14\\u0e40\\u0e2d\\u0e32\\u0e21\\u0e32\\u0e01\\u0e46 \\u0e40\\u0e2d\\u0e47\\u0e19\\u0e40\\u0e22\\u0e2d\\u0e30 \\u0e40\\u0e2b\\u0e19\\u0e35\\u0e22\\u0e27\\u0e40\\u0e04\\u0e35\\u0e49\\u0e22\\u0e27\\u0e22\\u0e32\\u0e01 \\n\\u0e0a\\u0e38\\u0e14\\u0e02\\u0e49\\u0e32\\u0e27\\u0e1b\\u0e31\\u0e49\\u0e19 \\u0e44\\u0e21\\u0e48\\u0e2d\\u0e23\\u0e48\\u0e2d\\u0e22\\u0e2d\\u0e48\\u0e30 \\u0e1b\\u0e31\\u0e49\\u0e19\\u0e44\\u0e21\\u0e48\\u0e2d\\u0e23\\u0e48\\u0e2d\\u0e22 \\n\\u0e44\\u0e02\\u0e48\\u0e2b\\u0e27\\u0e32\\u0e19\\u0e2a\\u0e25\\u0e31\\u0e14\\u0e1b\\u0e39\\u0e2d\\u0e31\\u0e14\\u0e01\\u0e47\\u0e44\\u0e21\\u0e48\\u0e2d\\u0e23\\u0e48\\u0e2d\\u0e22 \\u0e44\\u0e02\\u0e48\\u0e2b\\u0e27\\u0e32\\u0e19\\u0e15\\u0e23\\u0e07\\u0e01\\u0e25\\u0e32\\u0e07\\u0e21\\u0e35\\u0e40\\u0e2a\\u0e35\\u0e22\\u0e27\\u0e40\\u0e02\\u0e35\\u0e22\\u0e27\\u0e04\\u0e25\\u0e49\\u0e33\\u0e46\\u0e19\\u0e34\\u0e14\\u0e46 \\u0e40\\u0e22\\u0e47\\u0e19\\u0e0a\\u0e37\\u0e14\\n\\n4\\u0e40\\u0e21\\u0e19\\u0e39\\u0e2b\\u0e25\\u0e31\\u0e07\\u0e44\\u0e21\\u0e48\\u0e42\\u0e2d\\u0e40\\u0e04\\u0e04\\u0e48\\u0e30 \\u0e17\\u0e35\\u0e48\\u0e1f\\u0e34\\u0e27\\u0e2d\\u0e23\\u0e48\\u0e2d\\u0e22\\u0e01\\u0e27\\u0e48\\u0e32\\u0e40\\u0e22\\u0e2d\\u0e30 \\u0e2a\\u0e23\\u0e38\\u0e1b\\u0e27\\u0e48\\u0e32\\u0e1e\\u0e19\\u0e31\\u0e01\\u0e07\\u0e32\\u0e19\\u0e1a\\u0e23\\u0e34\\u0e01\\u0e32\\u0e23\\u0e14\\u0e35 \\u0e2d\\u0e32\\u0e2b\\u0e32\\u0e23\\u0e44\\u0e21\\u0e48\\u0e2a\\u0e14\\u0e40\\u0e17\\u0e48\\u0e32\\u0e17\\u0e35\\u0e48\\u0e04\\u0e27\\u0e23 \\u0e44\\u0e21\\u0e48\\u0e1b\\u0e23\\u0e30\\u0e17\\u0e31\\u0e1a\\u0e43\\u0e08 \\u0e40\\u0e2a\\u0e35\\u0e22\\u0e2b\\u0e32\\u0e22\\u0e44\\u0e1b1,110 \\u0e1a\\u0e32\\u0e17\",\n          \"\\u0e23\\u0e49\\u0e32\\u0e19\\u0e19\\u0e34\\u0e27\\u0e40\\u0e04\\u0e25\\u0e35\\u0e22\\u0e23\\u0e4c\\u0e23\\u0e32\\u0e14\\u0e2b\\u0e19\\u0e49\\u0e32\\u0e22\\u0e2d\\u0e14\\u0e1c\\u0e31\\u0e01\\u0e41\\u0e25\\u0e30\\u0e2d\\u0e32\\u0e2b\\u0e32\\u0e23\\u0e15\\u0e32\\u0e21\\u0e2a\\u0e31\\u0e48\\u0e07 \\u0e40\\u0e1b\\u0e47\\u0e19\\u0e2d\\u0e35\\u0e01 1 \\u0e23\\u0e49\\u0e32\\u0e19\\u0e2d\\u0e32\\u0e2b\\u0e32\\u0e23\\u0e17\\u0e35\\u0e48\\u0e40\\u0e2d\\u0e23\\u0e47\\u0e14\\u0e2d\\u0e23\\u0e48\\u0e2d\\u0e22\\u0e21\\u0e32\\u0e01 \\u0e43\\u0e19\\u0e40\\u0e21\\u0e37\\u0e2d\\u0e07\\u0e1a\\u0e49\\u0e32\\u0e19\\u0e09\\u0e32\\u0e07\\u0e17\\u0e08\\u0e31\\u0e07\\u0e2b\\u0e27\\u0e31\\u0e14\\u0e23\\u0e30\\u0e22\\u0e2d\\u0e07 \\u0e23\\u0e49\\u0e32\\u0e19\\u0e19\\u0e35\\u0e49\\u0e15\\u0e31\\u0e49\\u0e07\\u0e2d\\u0e22\\u0e39\\u0e48\\u0e1a\\u0e19\\u0e16\\u0e19\\u0e19\\u0e43\\u0e2b\\u0e0d\\u0e48\\u0e40\\u0e25\\u0e22\\u0e08\\u0e2d\\u0e14\\u0e23\\u0e16\\u0e02\\u0e49\\u0e32\\u0e07\\u0e17\\u0e32\\u0e07 \\u0e2a\\u0e48\\u0e27\\u0e19\\u0e21\\u0e32\\u0e01\\u0e02\\u0e32\\u0e22\\u0e2d\\u0e32\\u0e2b\\u0e32\\u0e23\\u0e15\\u0e32\\u0e21\\u0e2a\\u0e31\\u0e48\\u0e07\\u0e15\\u0e48\\u0e32\\u0e07\\u0e46 \\u0e23\\u0e32\\u0e14\\u0e2b\\u0e19\\u0e49\\u0e32\\u0e2b\\u0e21\\u0e39\\u0e2b\\u0e21\\u0e31\\u0e01 \\u0e23\\u0e32\\u0e14\\u0e2b\\u0e19\\u0e49\\u0e32\\u0e17\\u0e30\\u0e40\\u0e25 \\u0e41\\u0e25\\u0e30\\u0e1e\\u0e27\\u0e01\\u0e1c\\u0e31\\u0e14\\u0e0b\\u0e35\\u0e2d\\u0e34\\u0e49\\u0e27\\u0e15\\u0e48\\u0e32\\u0e07\\u0e46 \\u0e40\\u0e04\\u0e22\\u0e21\\u0e32\\u0e17\\u0e32\\u0e19\\u0e23\\u0e32\\u0e14\\u0e2b\\u0e19\\u0e49\\u0e32\\u0e2b\\u0e21\\u0e39\\u0e2b\\u0e21\\u0e31\\u0e01\\u0e41\\u0e25\\u0e49\\u0e27 1 \\u0e23\\u0e2d\\u0e1a\\u0e2d\\u0e23\\u0e48\\u0e2d\\u0e22\\u0e14\\u0e35 \\u0e04\\u0e23\\u0e32\\u0e27\\u0e19\\u0e35\\u0e49\\u0e40\\u0e25\\u0e22\\u0e25\\u0e2d\\u0e07\\u0e40\\u0e1b\\u0e25\\u0e35\\u0e48\\u0e22\\u0e19\\u0e21\\u0e32\\u0e17\\u0e32\\u0e07\\u0e40\\u0e1b\\u0e47\\u0e19\\u0e23\\u0e32\\u0e14\\u0e2b\\u0e19\\u0e49\\u0e32\\u0e17\\u0e30\\u0e40\\u0e25\\u0e14\\u0e39\\u0e27\\u0e48\\u0e32\\u0e08\\u0e30\\u0e2d\\u0e23\\u0e48\\u0e2d\\u0e22\\u0e2b\\u0e23\\u0e37\\u0e2d\\u0e40\\u0e1b\\u0e25\\u0e48\\u0e32 \\u0e41\\u0e25\\u0e30\\u0e40\\u0e04\\u0e49\\u0e32\\u0e01\\u0e47\\u0e44\\u0e21\\u0e48\\u0e17\\u0e33\\u0e43\\u0e2b\\u0e49\\u0e1c\\u0e34\\u0e14\\u0e2b\\u0e27\\u0e31\\u0e07\\u0e08\\u0e23\\u0e34\\u0e07\\u0e46 \\u0e44\\u0e14\\u0e49\\u0e40\\u0e22\\u0e2d\\u0e30\\u0e14\\u0e49\\u0e27\\u0e22\\u0e41\\u0e25\\u0e49\\u0e27\\u0e01\\u0e47\\u0e2d\\u0e23\\u0e48\\u0e2d\\u0e22\\u0e2d\\u0e22\\u0e48\\u0e32\\u0e07\\u0e17\\u0e35\\u0e48\\u0e04\\u0e32\\u0e14\\u0e2b\\u0e27\\u0e31\\u0e07\\u0e44\\u0e27\\u0e49\\u0e08\\u0e23\\u0e34\\u0e07\\u0e46 \\u0e40\\u0e04\\u0e23\\u0e37\\u0e48\\u0e2d\\u0e07\\u0e16\\u0e25\\u0e14\\u0e40\\u0e0a\\u0e48\\u0e19\\u0e01\\u0e38\\u0e49\\u0e07 \\u0e1b\\u0e25\\u0e32\\u0e2b\\u0e21\\u0e36\\u0e01 \\u0e2a\\u0e14\\u0e41\\u0e25\\u0e30\\u0e44\\u0e21\\u0e48\\u0e40\\u0e2b\\u0e21\\u0e47\\u0e19\\u0e04\\u0e32\\u0e27\\u0e40\\u0e25\\u0e22 \\u0e23\\u0e32\\u0e04\\u0e32\\u0e01\\u0e47\\u0e17\\u0e31\\u0e48\\u0e27\\u0e44\\u0e1b\\u0e44\\u0e21\\u0e48\\u0e41\\u0e1e\\u0e07\\u0e21\\u0e32\\u0e01 \\u0e04\\u0e19\\u0e40\\u0e22\\u0e2d\\u0e30\\u0e21\\u0e32\\u0e01\\u0e42\\u0e14\\u0e22\\u0e40\\u0e09\\u0e1e\\u0e32\\u0e30\\u0e0a\\u0e48\\u0e27\\u0e07\\u0e2b\\u0e31\\u0e27\\u0e04\\u0e48\\u0e33 \\u0e02\\u0e2d\\u0e07\\u0e40\\u0e04\\u0e49\\u0e32\\u0e14\\u0e35\\u0e02\\u0e2d\\u0e07\\u0e40\\u0e04\\u0e49\\u0e32\\u0e2d\\u0e23\\u0e48\\u0e2d\\u0e22\\u0e08\\u0e23\\u0e34\\u0e07\\u0e46\"\n        ],\n        \"semantic_type\": \"\",\n        \"description\": \"\"\n      }\n    },\n    {\n      \"column\": \"star_rating\",\n      \"properties\": {\n        \"dtype\": \"number\",\n        \"std\": 0,\n        \"min\": 0,\n        \"max\": 4,\n        \"num_unique_values\": 5,\n        \"samples\": [\n          3,\n          0,\n          4\n        ],\n        \"semantic_type\": \"\",\n        \"description\": \"\"\n      }\n    },\n    {\n      \"column\": \"sentiment\",\n      \"properties\": {\n        \"dtype\": \"category\",\n        \"num_unique_values\": 2,\n        \"samples\": [\n          \"positive\",\n          \"negative\"\n        ],\n        \"semantic_type\": \"\",\n        \"description\": \"\"\n      }\n    }\n  ]\n}"
            }
          },
          "metadata": {},
          "execution_count": 5
        }
      ],
      "source": [
        "# แปลงคะแนนเป็น labels: 'positive' และ 'negative'\n",
        "df['sentiment'] = df['star_rating'].apply(lambda x: 'positive' if x >= 4 else 'negative')\n",
        "\n",
        "df.head()"
      ]
    },
    {
      "cell_type": "code",
      "execution_count": null,
      "metadata": {
        "id": "yy57Bg-Lymo9"
      },
      "outputs": [],
      "source": [
        "df_cleaned = df.dropna(subset=['star_rating'])"
      ]
    },
    {
      "cell_type": "code",
      "source": [
        "df = df_cleaned.iloc[:5000]\n",
        "df.shape"
      ],
      "metadata": {
        "colab": {
          "base_uri": "https://localhost:8080/"
        },
        "id": "nEOlXL3bvnTJ",
        "outputId": "aee3404d-8c57-4be1-ed15-596116afa762"
      },
      "execution_count": null,
      "outputs": [
        {
          "output_type": "execute_result",
          "data": {
            "text/plain": [
              "(5000, 3)"
            ]
          },
          "metadata": {},
          "execution_count": 7
        }
      ]
    },
    {
      "cell_type": "code",
      "execution_count": null,
      "metadata": {
        "colab": {
          "base_uri": "https://localhost:8080/"
        },
        "id": "0PdxkqDTvp0P",
        "outputId": "c2124113-8c82-4864-faf0-310b05f7167d"
      },
      "outputs": [
        {
          "output_type": "stream",
          "name": "stdout",
          "text": [
            "['negative', 'positive']\n"
          ]
        }
      ],
      "source": [
        "# ใช้ pd.factorize() เพื่อสร้างตัวเลขแทนค่าคะแนน\n",
        "labels, class_names = pd.factorize(df.sentiment)\n",
        "\n",
        "# เปลี่ยน class names ให้เป็น list\n",
        "class_names = class_names.tolist()\n",
        "\n",
        "print(class_names)"
      ]
    },
    {
      "cell_type": "markdown",
      "metadata": {
        "id": "jfjrA7sDzRD8"
      },
      "source": [
        "### เตรียมข้อมูล train และ test"
      ]
    },
    {
      "cell_type": "code",
      "execution_count": null,
      "metadata": {
        "colab": {
          "base_uri": "https://localhost:8080/"
        },
        "id": "nYJ63EqyzVMa",
        "outputId": "21a85dd6-e206-41fc-c66b-793ba96f40ae"
      },
      "outputs": [
        {
          "output_type": "execute_result",
          "data": {
            "text/plain": [
              "((4000,), (1000,))"
            ]
          },
          "metadata": {},
          "execution_count": 27
        }
      ],
      "source": [
        "from sklearn.model_selection import train_test_split\n",
        "\n",
        "X_train , X_test, y_train, y_test = train_test_split(df['review_body'], df['sentiment'], test_size=0.2, random_state=42)\n",
        "\n",
        "X_train.shape, X_test.shape"
      ]
    },
    {
      "cell_type": "markdown",
      "metadata": {
        "id": "YH4fSVMLoe9X"
      },
      "source": []
    },
    {
      "cell_type": "markdown",
      "metadata": {
        "id": "fWGHpjjBNJgT"
      },
      "source": [
        "ติดตั้ง pretrained model BERT : \"airesearch/wangchanberta-base-att-spm-uncased\""
      ]
    },
    {
      "cell_type": "code",
      "execution_count": null,
      "metadata": {
        "id": "7HY_Nw8JzuEV"
      },
      "outputs": [],
      "source": [
        "pretrain_model = \"airesearch/wangchanberta-base-att-spm-uncased\"\n",
        "transformer = text.Transformer(pretrain_model, maxlen=160, class_names=class_names)"
      ]
    },
    {
      "cell_type": "markdown",
      "metadata": {
        "id": "NiyRyaoeM9m7"
      },
      "source": [
        "สถาปัตยกรรม BERT (Bidirectional Encoder Representations from Transformers) จะทำ processing ส่วนของ train และ test ไม่เหมือนกัน"
      ]
    },
    {
      "cell_type": "code",
      "execution_count": null,
      "metadata": {
        "colab": {
          "base_uri": "https://localhost:8080/",
          "height": 292
        },
        "id": "hcTMSD1LLVRu",
        "outputId": "3a5c6392-66d8-4494-8055-1026e51f1804"
      },
      "outputs": [
        {
          "output_type": "stream",
          "name": "stdout",
          "text": [
            "preprocessing train...\n",
            "language: th\n",
            "train sequence lengths:\n",
            "\tmean : 37\n",
            "\t95percentile : 104\n",
            "\t99percentile : 161\n"
          ]
        },
        {
          "output_type": "stream",
          "name": "stderr",
          "text": [
            "/usr/local/lib/python3.10/dist-packages/ktrain/utils.py:744: UserWarning: class_names argument was ignored, as they were extracted from string labels in dataset\n",
            "  warnings.warn(\n"
          ]
        },
        {
          "output_type": "display_data",
          "data": {
            "text/plain": [
              "<IPython.core.display.HTML object>"
            ],
            "text/html": [
              "\n",
              "<style>\n",
              "    /* Turns off some styling */\n",
              "    progress {\n",
              "        /* gets rid of default border in Firefox and Opera. */\n",
              "        border: none;\n",
              "        /* Needs to be in here for Safari polyfill so background images work as expected. */\n",
              "        background-size: auto;\n",
              "    }\n",
              "    progress:not([value]), progress:not([value])::-webkit-progress-bar {\n",
              "        background: repeating-linear-gradient(45deg, #7e7e7e, #7e7e7e 10px, #5c5c5c 10px, #5c5c5c 20px);\n",
              "    }\n",
              "    .progress-bar-interrupted, .progress-bar-interrupted::-webkit-progress-bar {\n",
              "        background: #F44336;\n",
              "    }\n",
              "</style>\n"
            ]
          },
          "metadata": {}
        },
        {
          "output_type": "display_data",
          "data": {
            "text/plain": [
              "<IPython.core.display.HTML object>"
            ],
            "text/html": []
          },
          "metadata": {}
        },
        {
          "output_type": "stream",
          "name": "stdout",
          "text": [
            "Is Multi-Label? False\n",
            "preprocessing test...\n",
            "language: th\n",
            "test sequence lengths:\n",
            "\tmean : 36\n",
            "\t95percentile : 96\n",
            "\t99percentile : 151\n"
          ]
        },
        {
          "output_type": "display_data",
          "data": {
            "text/plain": [
              "<IPython.core.display.HTML object>"
            ],
            "text/html": [
              "\n",
              "<style>\n",
              "    /* Turns off some styling */\n",
              "    progress {\n",
              "        /* gets rid of default border in Firefox and Opera. */\n",
              "        border: none;\n",
              "        /* Needs to be in here for Safari polyfill so background images work as expected. */\n",
              "        background-size: auto;\n",
              "    }\n",
              "    progress:not([value]), progress:not([value])::-webkit-progress-bar {\n",
              "        background: repeating-linear-gradient(45deg, #7e7e7e, #7e7e7e 10px, #5c5c5c 10px, #5c5c5c 20px);\n",
              "    }\n",
              "    .progress-bar-interrupted, .progress-bar-interrupted::-webkit-progress-bar {\n",
              "        background: #F44336;\n",
              "    }\n",
              "</style>\n"
            ]
          },
          "metadata": {}
        },
        {
          "output_type": "display_data",
          "data": {
            "text/plain": [
              "<IPython.core.display.HTML object>"
            ],
            "text/html": []
          },
          "metadata": {}
        }
      ],
      "source": [
        "train = transformer.preprocess_train(X_train.to_list(), y_train.to_list())\n",
        "test = transformer.preprocess_test(X_test.to_list(), y_test.to_list())"
      ]
    },
    {
      "cell_type": "markdown",
      "metadata": {
        "id": "M-NmCnWwMmR1"
      },
      "source": [
        "เนื่องจาก output ขึ้น UserWarning: class_names argument was ignored, as they were extracted from string labels in dataset จึงทำการตรวจเช็ค classes"
      ]
    },
    {
      "cell_type": "code",
      "execution_count": null,
      "metadata": {
        "colab": {
          "base_uri": "https://localhost:8080/"
        },
        "id": "fYCo2L-KMcof",
        "outputId": "1a3f2b3b-e999-49cb-cf8a-996ecf76a6ef"
      },
      "outputs": [
        {
          "output_type": "stream",
          "name": "stdout",
          "text": [
            "['negative', 'positive']\n"
          ]
        }
      ],
      "source": [
        "print(transformer.get_classes())"
      ]
    },
    {
      "cell_type": "markdown",
      "metadata": {
        "id": "jA9Mz7IINTUN"
      },
      "source": [
        "ตรวจสอบมิติ X,y หลังจากที่ผ่านการ Preprocessing แล้ว"
      ]
    },
    {
      "cell_type": "code",
      "execution_count": null,
      "metadata": {
        "colab": {
          "base_uri": "https://localhost:8080/"
        },
        "id": "doLdoroyMdme",
        "outputId": "5b7792aa-4b92-40f4-acc0-0bb9e0e2fd46"
      },
      "outputs": [
        {
          "output_type": "execute_result",
          "data": {
            "text/plain": [
              "((4000, 3, 160), (4000, 2))"
            ]
          },
          "metadata": {},
          "execution_count": 32
        }
      ],
      "source": [
        "train.x.shape, train.y.shape"
      ]
    },
    {
      "cell_type": "markdown",
      "metadata": {
        "id": "qHlXfODHN277"
      },
      "source": [
        "ถ้าเป็นข้อความ: 4000 ตัวอย่างข้อความ\n",
        "\n",
        "แต่ละตัวอย่างมี 3 embeddings (e.g., Token embeddings, Positional embeddings, Segment embeddings)\n",
        "\n",
        "แต่ละ embedding มีความยาว 160 token"
      ]
    },
    {
      "cell_type": "code",
      "execution_count": null,
      "metadata": {
        "colab": {
          "base_uri": "https://localhost:8080/"
        },
        "id": "fRsWyOLoNcNs",
        "outputId": "5008f09e-afe1-4509-eb4e-b86842edba1e"
      },
      "outputs": [
        {
          "output_type": "execute_result",
          "data": {
            "text/plain": [
              "array([[[    5,    10,  9619, ...,  1269,    10,     6],\n",
              "        [    1,     1,     1, ...,     1,     1,     1],\n",
              "        [    0,     0,     0, ...,     0,     0,     0]],\n",
              "\n",
              "       [[    5,  3865,  3564, ...,  4487, 13560,     6],\n",
              "        [    1,     1,     1, ...,     1,     1,     1],\n",
              "        [    0,     0,     0, ...,     0,     0,     0]],\n",
              "\n",
              "       [[    5,  6172, 13414, ...,     1,     1,     1],\n",
              "        [    1,     1,     1, ...,     0,     0,     0],\n",
              "        [    0,     0,     0, ...,     0,     0,     0]],\n",
              "\n",
              "       ...,\n",
              "\n",
              "       [[    5,  6172,  4791, ...,     6,     1,     1],\n",
              "        [    1,     1,     1, ...,     1,     0,     0],\n",
              "        [    0,     0,     0, ...,     0,     0,     0]],\n",
              "\n",
              "       [[    5,    10,  1577, ...,  2548,   195,     6],\n",
              "        [    1,     1,     1, ...,     1,     1,     1],\n",
              "        [    0,     0,     0, ...,     0,     0,     0]],\n",
              "\n",
              "       [[    5,    10,  4920, ...,     6,     1,     1],\n",
              "        [    1,     1,     1, ...,     1,     0,     0],\n",
              "        [    0,     0,     0, ...,     0,     0,     0]]])"
            ]
          },
          "metadata": {},
          "execution_count": 33
        }
      ],
      "source": [
        "train.x"
      ]
    },
    {
      "cell_type": "markdown",
      "metadata": {
        "id": "rYYyOa_ROGi8"
      },
      "source": [
        "### สร้างโมเดล"
      ]
    },
    {
      "cell_type": "code",
      "execution_count": null,
      "metadata": {
        "id": "wDQb-YEyOIb0"
      },
      "outputs": [],
      "source": [
        "model = transformer.get_classifier()"
      ]
    },
    {
      "cell_type": "markdown",
      "metadata": {
        "id": "B3s7fGAbWuj6"
      },
      "source": [
        "### Train1"
      ]
    },
    {
      "cell_type": "code",
      "execution_count": null,
      "metadata": {
        "id": "RnTNMQRMWxyS"
      },
      "outputs": [],
      "source": [
        "learner = ktrain.get_learner(model, train_data=train, val_data=test, batch_size=16)"
      ]
    },
    {
      "cell_type": "code",
      "execution_count": null,
      "metadata": {
        "colab": {
          "base_uri": "https://localhost:8080/"
        },
        "id": "iW1XVrXQ3SHr",
        "outputId": "4e0a3e6e-dccb-4f0a-a9a9-33134fa444c6"
      },
      "outputs": [
        {
          "name": "stdout",
          "output_type": "stream",
          "text": [
            "TensorFlow: 2.11.0\n",
            "Keras: 2.11.0\n",
            "Transformers: 4.26.1\n",
            "Ktrain: 0.35.0\n"
          ]
        }
      ],
      "source": [
        "import tensorflow as tf\n",
        "import keras\n",
        "import transformers\n",
        "import ktrain\n",
        "\n",
        "print(f\"TensorFlow: {tf.__version__}\")\n",
        "print(f\"Keras: {keras.__version__}\")\n",
        "print(f\"Transformers: {transformers.__version__}\")\n",
        "print(f\"Ktrain: {ktrain.__version__}\")\n"
      ]
    },
    {
      "cell_type": "code",
      "execution_count": null,
      "metadata": {
        "colab": {
          "base_uri": "https://localhost:8080/"
        },
        "id": "z3T_UIZU78iK",
        "outputId": "136a1be6-8bde-49bb-ff12-05068060d878"
      },
      "outputs": [
        {
          "output_type": "stream",
          "name": "stdout",
          "text": [
            "simulating training for different learning rates... this may take a few moments...\n",
            "250/250 [==============================] - 6356s 25s/step - loss: 7.2587 - accuracy: 0.8017\n",
            "\n",
            "\n",
            "done.\n",
            "Please invoke the Learner.lr_plot() method to visually inspect the loss plot to help identify the maximal learning rate associated with falling loss.\n"
          ]
        }
      ],
      "source": [
        "learner.lr_find(max_epochs = 1)  # ลดจำนวน epochs ในการค้นหา"
      ]
    },
    {
      "cell_type": "code",
      "source": [
        "learner.lr_plot()"
      ],
      "metadata": {
        "colab": {
          "base_uri": "https://localhost:8080/",
          "height": 454
        },
        "id": "1gDkNoPvKZGP",
        "outputId": "477acf61-b70e-42c8-e630-94108896785a"
      },
      "execution_count": null,
      "outputs": [
        {
          "output_type": "display_data",
          "data": {
            "text/plain": [
              "<Figure size 640x480 with 1 Axes>"
            ],
            "image/png": "[encoded data removed]"
          },
          "metadata": {}
        }
      ]
    },
    {
      "cell_type": "code",
      "execution_count": null,
      "metadata": {
        "colab": {
          "base_uri": "https://localhost:8080/"
        },
        "id": "yKK1xT5u4uw7",
        "outputId": "a4765cd0-d61c-4283-dcbd-7f074be18f71"
      },
      "outputs": [
        {
          "output_type": "stream",
          "name": "stdout",
          "text": [
            "\n",
            "\n",
            "begin training using onecycle policy with max lr of 0.005...\n",
            "250/250 [==============================] - 7506s 30s/step - loss: 0.4577 - accuracy: 0.8568 - val_loss: 0.4184 - val_accuracy: 0.8540\n"
          ]
        },
        {
          "output_type": "execute_result",
          "data": {
            "text/plain": [
              "<keras.callbacks.History at 0x7ec2db736050>"
            ]
          },
          "metadata": {},
          "execution_count": 41
        }
      ],
      "source": [
        "learner.fit_onecycle(5e-3, 1)"
      ]
    },
    {
      "cell_type": "code",
      "source": [
        "learner.validate(class_names=transformer.get_classes())"
      ],
      "metadata": {
        "colab": {
          "base_uri": "https://localhost:8080/"
        },
        "id": "4HTBBvnM9OW0",
        "outputId": "2412dc09-7537-412c-fdcd-5692064acab6"
      },
      "execution_count": null,
      "outputs": [
        {
          "output_type": "stream",
          "name": "stdout",
          "text": [
            "32/32 [==============================] - 562s 17s/step\n",
            "              precision    recall  f1-score   support\n",
            "\n",
            "    negative       0.85      1.00      0.92       854\n",
            "    positive       0.00      0.00      0.00       146\n",
            "\n",
            "    accuracy                           0.85      1000\n",
            "   macro avg       0.43      0.50      0.46      1000\n",
            "weighted avg       0.73      0.85      0.79      1000\n",
            "\n"
          ]
        },
        {
          "output_type": "stream",
          "name": "stderr",
          "text": [
            "/usr/local/lib/python3.10/dist-packages/sklearn/metrics/_classification.py:1565: UndefinedMetricWarning: Precision is ill-defined and being set to 0.0 in labels with no predicted samples. Use `zero_division` parameter to control this behavior.\n",
            "  _warn_prf(average, modifier, f\"{metric.capitalize()} is\", len(result))\n",
            "/usr/local/lib/python3.10/dist-packages/sklearn/metrics/_classification.py:1565: UndefinedMetricWarning: Precision is ill-defined and being set to 0.0 in labels with no predicted samples. Use `zero_division` parameter to control this behavior.\n",
            "  _warn_prf(average, modifier, f\"{metric.capitalize()} is\", len(result))\n",
            "/usr/local/lib/python3.10/dist-packages/sklearn/metrics/_classification.py:1565: UndefinedMetricWarning: Precision is ill-defined and being set to 0.0 in labels with no predicted samples. Use `zero_division` parameter to control this behavior.\n",
            "  _warn_prf(average, modifier, f\"{metric.capitalize()} is\", len(result))\n"
          ]
        },
        {
          "output_type": "execute_result",
          "data": {
            "text/plain": [
              "array([[854,   0],\n",
              "       [146,   0]])"
            ]
          },
          "metadata": {},
          "execution_count": 42
        }
      ]
    },
    {
      "cell_type": "code",
      "source": [
        "learner.view_top_losses(n=3, preproc=transformer)"
      ],
      "metadata": {
        "colab": {
          "base_uri": "https://localhost:8080/"
        },
        "id": "dOwvMmlZ9gin",
        "outputId": "24f64e4f-ada1-498e-b1a8-c13478386268"
      },
      "execution_count": null,
      "outputs": [
        {
          "output_type": "stream",
          "name": "stdout",
          "text": [
            "32/32 [==============================] - 544s 17s/step\n",
            "----------\n",
            "id:13 | loss:2.11 | true:positive | pred:negative)\n",
            "\n",
            "----------\n",
            "id:22 | loss:2.11 | true:positive | pred:negative)\n",
            "\n",
            "----------\n",
            "id:39 | loss:2.11 | true:positive | pred:negative)\n",
            "\n"
          ]
        }
      ]
    },
    {
      "cell_type": "code",
      "source": [
        "X_test.iloc[22]"
      ],
      "metadata": {
        "colab": {
          "base_uri": "https://localhost:8080/",
          "height": 69
        },
        "id": "YaRvmN_bAogQ",
        "outputId": "92ae265e-2299-4ce2-f751-d10f9a499842"
      },
      "execution_count": null,
      "outputs": [
        {
          "output_type": "execute_result",
          "data": {
            "text/plain": [
              "'ด้วยความปราณีตและสร้างสรรค์อย่างมีศิลปะในแบบฉบับของอาหาร จากแดนอาทิตย์อุทัยแท้ ๆ “ฮากิ” มีเมนูหลากหลายให้คุณได้เลือกรับประทานมากกว่า 50 ชนิด ท่ามกลางบรรยากาศแบบญี่ปุ่น หรือเลือกรับประทานในห้องเพื่อความเป็นส่วนตัวถึง 7 ห้อง\\n\\nนอกจากนี้ทุกวันหยุดสุดสัปดาห์และวันหยุดนักขัตฤกษ์เรายังมีบุฟเฟต์ตามสั่งให้รับประทานกันอย่างจุใจค่ะ\\n\\nราคา 650++ บาท ต่อคนค่ะ\\n\\nเปิดบริการ :ทุกวัน เวลา: 11.30-14.30, 18.00-22.30 น.\\n\\nสำรองที่นั่งและสอบถามเพิ่มเติมได้ที่ โทร. 025411234#4081\\n'"
            ],
            "application/vnd.google.colaboratory.intrinsic+json": {
              "type": "string"
            }
          },
          "metadata": {},
          "execution_count": 47
        }
      ]
    },
    {
      "cell_type": "markdown",
      "source": [
        "## แก้ปัญหา Imbalance : oversampling"
      ],
      "metadata": {
        "id": "R2_sH1lcGwE4"
      }
    },
    {
      "cell_type": "code",
      "source": [
        "# ตรวจสอบจำนวนตัวอย่างในแต่ละคลาส\n",
        "class_counts = df['sentiment'].value_counts()\n",
        "\n",
        "# แสดงผลจำนวนตัวอย่าง\n",
        "for label, count in class_counts.items():\n",
        "    print(f\"คลาส: {label}, จำนวน: {count}\")\n"
      ],
      "metadata": {
        "colab": {
          "base_uri": "https://localhost:8080/"
        },
        "id": "nPBGLt1jD5o6",
        "outputId": "d0592e31-895d-4804-85de-275bfb0ab682"
      },
      "execution_count": null,
      "outputs": [
        {
          "output_type": "stream",
          "name": "stdout",
          "text": [
            "คลาส: negative, จำนวน: 4314\n",
            "คลาส: positive, จำนวน: 686\n"
          ]
        }
      ]
    },
    {
      "cell_type": "code",
      "source": [
        "# 1. เก็บ text ดิบและทำ mapping\n",
        "X = df['review_body'].values\n",
        "y = df['sentiment'].map({'negative': 0, 'positive': 1}).values\n",
        "text_mapping = {i: text for i, text in enumerate(X)}\n",
        "\n",
        "# 2. แปลงข้อความเป็น TF-IDF vectors\n",
        "from sklearn.feature_extraction.text import TfidfVectorizer\n",
        "\n",
        "vectorizer = TfidfVectorizer(max_features=5000)\n",
        "X_vectorized = vectorizer.fit_transform(X)\n",
        "\n",
        "# 3. ใช้ SMOTE และ RandomUnderSampler\n",
        "from imblearn.over_sampling import SMOTE\n",
        "from imblearn.under_sampling import RandomUnderSampler\n",
        "\n",
        "# 4. ทำ SMOTE\n",
        "smote = SMOTE(random_state=42)\n",
        "X_smote, y_smote = smote.fit_resample(X_vectorized, y)"
      ],
      "metadata": {
        "id": "Wd1myXDfMaFp"
      },
      "execution_count": null,
      "outputs": []
    },
    {
      "cell_type": "code",
      "source": [
        "# ทำ undersampling ให้แต่ละคลาสเหลือประมาณ 2,500 ตัวอย่าง\n",
        "rus = RandomUnderSampler(sampling_strategy={0: 2500, 1: 2500}, random_state=42)\n",
        "X_final, y_final = rus.fit_resample(X_smote, y_smote)\n",
        "\n",
        "# ตรวจสอบจำนวนข้อมูลสุดท้าย\n",
        "print(\"จำนวนข้อมูลหลัง final undersampling:\")\n",
        "print(pd.Series(y_final).value_counts())"
      ],
      "metadata": {
        "colab": {
          "base_uri": "https://localhost:8080/"
        },
        "id": "o6SbjRaTNirE",
        "outputId": "d75555d5-bc59-40f6-921b-5f7196695da9"
      },
      "execution_count": null,
      "outputs": [
        {
          "output_type": "stream",
          "name": "stdout",
          "text": [
            "จำนวนข้อมูลหลัง final undersampling:\n",
            "0    2500\n",
            "1    2500\n",
            "Name: count, dtype: int64\n"
          ]
        }
      ]
    },
    {
      "cell_type": "markdown",
      "source": [
        "## Train2"
      ],
      "metadata": {
        "id": "jRiXHF9OOib4"
      }
    },
    {
      "cell_type": "code",
      "source": [
        "from sklearn.model_selection import train_test_split\n",
        "\n",
        "X_train_vec, X_test_vec, y_train, y_test = train_test_split(X_final, y_final, test_size=0.2, random_state=42)"
      ],
      "metadata": {
        "id": "UKHpapq6OhB4"
      },
      "execution_count": null,
      "outputs": []
    },
    {
      "cell_type": "code",
      "source": [
        "# 6. แปลง vector กลับเป็น text\n",
        "X_train = [str(x) for x in X_train_vec]\n",
        "X_test = [str(x) for x in X_test_vec]"
      ],
      "metadata": {
        "id": "hsw0aAh9UPnB"
      },
      "execution_count": null,
      "outputs": []
    },
    {
      "cell_type": "code",
      "source": [
        "pretrain_model = \"airesearch/wangchanberta-base-att-spm-uncased\"\n",
        "transformer = text.Transformer(pretrain_model, maxlen=160, class_names=class_names)"
      ],
      "metadata": {
        "id": "zwRrrw0kO3jQ",
        "colab": {
          "base_uri": "https://localhost:8080/",
          "height": 81,
          "referenced_widgets": [
            "e2d96db01b9347ed96cabd2e8bce5afa",
            "7ebe1df4da0746db9b043b0d81ae99c5",
            "102fcd4ce42547e0ad8894d23be02035",
            "dae86f3b2193438486eb6f2fe49db51f",
            "3696be79a1d642e8a1c977d1c26b7d2f",
            "c80a17bdd669433e999a662bb3825c61",
            "b0b1553e673140bbaed40fa021bec160",
            "0c20f1798a614fbd8782aea5ae2a28aa",
            "a6f29582e6994b72b7c0d8436210a1a4",
            "effa511cd27243ddb3f4b61c863c33d9",
            "d85561f0fae7428ab422e21e9a56ffeb",
            "d6973aff20f542d2a11036d941979000",
            "e7769030089f40bdab73916cdd34cbbb",
            "5795e3559638477484a6f0fce18bbff4",
            "3ef86f8581394f44ab6d5e8efe01fadf",
            "80aaf4d96bfd44bf915d927344c86a5b",
            "725dc3f0d775432286d7a4113c5aad64",
            "734dc390bf774493ac77c010f8760f66",
            "b6be714f6f524f3ba0541682f5a22d16",
            "63a5ec33ef0b410dab1ee7b1eef9ff02",
            "205c86f8ca704daf9119b47ee9989c65",
            "3f16515f92e9443684e261001d8cac08"
          ]
        },
        "outputId": "339ef545-257b-4ab1-ed22-00a2d9fe3aa8"
      },
      "execution_count": null,
      "outputs": [
        {
          "output_type": "display_data",
          "data": {
            "text/plain": [
              "config.json:   0%|          | 0.00/546 [00:00<?, ?B/s]"
            ],
            "application/vnd.jupyter.widget-view+json": {
              "version_major": 2,
              "version_minor": 0,
              "model_id": "e2d96db01b9347ed96cabd2e8bce5afa"
            }
          },
          "metadata": {}
        },
        {
          "output_type": "display_data",
          "data": {
            "text/plain": [
              "model.safetensors:   0%|          | 0.00/423M [00:00<?, ?B/s]"
            ],
            "application/vnd.jupyter.widget-view+json": {
              "version_major": 2,
              "version_minor": 0,
              "model_id": "d6973aff20f542d2a11036d941979000"
            }
          },
          "metadata": {}
        }
      ]
    },
    {
      "cell_type": "code",
      "source": [
        "# 7. ใช้กับ transformer\n",
        "train = transformer.preprocess_train(X_train, y_train.tolist())\n",
        "test = transformer.preprocess_test(X_test, y_test.tolist())"
      ],
      "metadata": {
        "colab": {
          "base_uri": "https://localhost:8080/",
          "height": 356,
          "referenced_widgets": [
            "d0872d0fef894029bc8d1f47606bf936",
            "b457746bf8434d5ebb8a6750e1723d6d",
            "45319eb6cbea4b0383819e70b2c5677d",
            "bcf05e0164f84877837d7bab7efb12d6",
            "f4477d2462334dbd982e33559acc55b5",
            "a0dd8c1eece44f1b85f64e0d2c4bc8c4",
            "3d8896eb82874060957c3ef943119e75",
            "852dacd4cb754e01ae4996e9cefc8ea1",
            "fc8d44eff2854ae7be9fc8ba43836405",
            "48b79c0101ce4738827e7365fd448ebc",
            "2f0dcda167cc41238faeabacb830085a",
            "e5f162ab92834aa7acd122d6573f5425",
            "68ad2cbc6bfd4e948a2235f83a6ec25f",
            "052c1237b6cb43038956d6e68fb8a493",
            "25925e4f835d49a19f3f79bf6e296e58",
            "8b2a1176618c488fae19e505ba8db31d",
            "72e6d40c551746849eb66d99abcde3cd",
            "06e9cd12f3d14067abc73a275dc8d1ac",
            "344d8646519e423784debb1885ae5f43",
            "b04cfcfa436647e8b15edaf828133011",
            "8021e0553f2b478180059ff4185cad97",
            "39cafbb2dfaf45499b8e42f4eac2244f"
          ]
        },
        "id": "But4d0JbRl_d",
        "outputId": "65ce1ef9-02e3-45ef-b4f9-93dfa44cc85d"
      },
      "execution_count": null,
      "outputs": [
        {
          "output_type": "stream",
          "name": "stdout",
          "text": [
            "preprocessing train...\n"
          ]
        },
        {
          "output_type": "stream",
          "name": "stderr",
          "text": [
            "/usr/local/lib/python3.10/dist-packages/ktrain/text/textutils.py:265: UserWarning: Defaulting to English for language detection: could not detect language from documents. This may be due to empty or invalid texts being provided to detect_lang.\n",
            "  warnings.warn(\n"
          ]
        },
        {
          "output_type": "stream",
          "name": "stdout",
          "text": [
            "language: en\n",
            "train sequence lengths:\n",
            "\tmean : 139\n",
            "\t95percentile : 152\n",
            "\t99percentile : 152\n"
          ]
        },
        {
          "output_type": "display_data",
          "data": {
            "text/plain": [
              "tokenizer_config.json:   0%|          | 0.00/282 [00:00<?, ?B/s]"
            ],
            "application/vnd.jupyter.widget-view+json": {
              "version_major": 2,
              "version_minor": 0,
              "model_id": "d0872d0fef894029bc8d1f47606bf936"
            }
          },
          "metadata": {}
        },
        {
          "output_type": "display_data",
          "data": {
            "text/plain": [
              "sentencepiece.bpe.model:   0%|          | 0.00/905k [00:00<?, ?B/s]"
            ],
            "application/vnd.jupyter.widget-view+json": {
              "version_major": 2,
              "version_minor": 0,
              "model_id": "e5f162ab92834aa7acd122d6573f5425"
            }
          },
          "metadata": {}
        },
        {
          "output_type": "display_data",
          "data": {
            "text/plain": [
              "<IPython.core.display.HTML object>"
            ],
            "text/html": [
              "\n",
              "<style>\n",
              "    /* Turns off some styling */\n",
              "    progress {\n",
              "        /* gets rid of default border in Firefox and Opera. */\n",
              "        border: none;\n",
              "        /* Needs to be in here for Safari polyfill so background images work as expected. */\n",
              "        background-size: auto;\n",
              "    }\n",
              "    progress:not([value]), progress:not([value])::-webkit-progress-bar {\n",
              "        background: repeating-linear-gradient(45deg, #7e7e7e, #7e7e7e 10px, #5c5c5c 10px, #5c5c5c 20px);\n",
              "    }\n",
              "    .progress-bar-interrupted, .progress-bar-interrupted::-webkit-progress-bar {\n",
              "        background: #F44336;\n",
              "    }\n",
              "</style>\n"
            ]
          },
          "metadata": {}
        },
        {
          "output_type": "display_data",
          "data": {
            "text/plain": [
              "<IPython.core.display.HTML object>"
            ],
            "text/html": []
          },
          "metadata": {}
        },
        {
          "output_type": "stream",
          "name": "stdout",
          "text": [
            "Is Multi-Label? False\n",
            "preprocessing test...\n",
            "language: en\n",
            "test sequence lengths:\n",
            "\tmean : 139\n",
            "\t95percentile : 152\n",
            "\t99percentile : 152\n"
          ]
        },
        {
          "output_type": "display_data",
          "data": {
            "text/plain": [
              "<IPython.core.display.HTML object>"
            ],
            "text/html": [
              "\n",
              "<style>\n",
              "    /* Turns off some styling */\n",
              "    progress {\n",
              "        /* gets rid of default border in Firefox and Opera. */\n",
              "        border: none;\n",
              "        /* Needs to be in here for Safari polyfill so background images work as expected. */\n",
              "        background-size: auto;\n",
              "    }\n",
              "    progress:not([value]), progress:not([value])::-webkit-progress-bar {\n",
              "        background: repeating-linear-gradient(45deg, #7e7e7e, #7e7e7e 10px, #5c5c5c 10px, #5c5c5c 20px);\n",
              "    }\n",
              "    .progress-bar-interrupted, .progress-bar-interrupted::-webkit-progress-bar {\n",
              "        background: #F44336;\n",
              "    }\n",
              "</style>\n"
            ]
          },
          "metadata": {}
        },
        {
          "output_type": "display_data",
          "data": {
            "text/plain": [
              "<IPython.core.display.HTML object>"
            ],
            "text/html": []
          },
          "metadata": {}
        }
      ]
    },
    {
      "cell_type": "code",
      "source": [
        "print(transformer.get_classes())"
      ],
      "metadata": {
        "colab": {
          "base_uri": "https://localhost:8080/"
        },
        "id": "7gp3tKqDi-T7",
        "outputId": "d9dec2d7-8097-43be-d817-61fca4efe2d7"
      },
      "execution_count": null,
      "outputs": [
        {
          "output_type": "stream",
          "name": "stdout",
          "text": [
            "['negative', 'positive']\n"
          ]
        }
      ]
    },
    {
      "cell_type": "code",
      "source": [
        "model = transformer.get_classifier()"
      ],
      "metadata": {
        "id": "F9JkXZT1jFHX"
      },
      "execution_count": null,
      "outputs": []
    },
    {
      "cell_type": "code",
      "source": [
        "learner = ktrain.get_learner(model, train_data=train, val_data=test, batch_size=16)"
      ],
      "metadata": {
        "id": "fVyE3ysHjFx7"
      },
      "execution_count": null,
      "outputs": []
    },
    {
      "cell_type": "code",
      "source": [
        "learner.lr_find(max_epochs = 1)  # ลดจำนวน epochs ในการค้นหา"
      ],
      "metadata": {
        "colab": {
          "base_uri": "https://localhost:8080/"
        },
        "id": "dduwGAMLjPPX",
        "outputId": "211bfa32-4f73-40fc-fec7-cd18aea39d37"
      },
      "execution_count": null,
      "outputs": [
        {
          "output_type": "stream",
          "name": "stdout",
          "text": [
            "simulating training for different learning rates... this may take a few moments...\n",
            "250/250 [==============================] - 6283s 25s/step - loss: 12.6027 - accuracy: 0.5003\n",
            "\n",
            "\n",
            "done.\n",
            "Please invoke the Learner.lr_plot() method to visually inspect the loss plot to help identify the maximal learning rate associated with falling loss.\n"
          ]
        }
      ]
    },
    {
      "cell_type": "code",
      "source": [
        "learner.lr_plot()"
      ],
      "metadata": {
        "colab": {
          "base_uri": "https://localhost:8080/",
          "height": 454
        },
        "id": "q24R2NyV9siR",
        "outputId": "7a1d7924-e525-467c-ba9d-63706bb4e065"
      },
      "execution_count": null,
      "outputs": [
        {
          "output_type": "display_data",
          "data": {
            "text/plain": [
              "<Figure size 640x480 with 1 Axes>"
            ],
            "image/png": "[encoded data removed]"
          },
          "metadata": {}
        }
      ]
    },
    {
      "cell_type": "code",
      "source": [
        "learner.fit_onecycle(1e-5, 1)"
      ],
      "metadata": {
        "colab": {
          "base_uri": "https://localhost:8080/"
        },
        "id": "EL6dbGCG9tAD",
        "outputId": "e5c96f26-a128-4804-87b4-215da9ec887c"
      },
      "execution_count": null,
      "outputs": [
        {
          "output_type": "stream",
          "name": "stdout",
          "text": [
            "\n",
            "\n",
            "begin training using onecycle policy with max lr of 1e-05...\n",
            "250/250 [==============================] - 7705s 31s/step - loss: 0.5661 - accuracy: 0.6793 - val_loss: 0.3123 - val_accuracy: 0.8870\n"
          ]
        },
        {
          "output_type": "execute_result",
          "data": {
            "text/plain": [
              "<keras.callbacks.History at 0x79f706ad7160>"
            ]
          },
          "metadata": {},
          "execution_count": 20
        }
      ]
    },
    {
      "cell_type": "code",
      "source": [
        "learner.validate(class_names=transformer.get_classes())"
      ],
      "metadata": {
        "colab": {
          "base_uri": "https://localhost:8080/"
        },
        "id": "HpXlwCX7InWo",
        "outputId": "d59875bd-f75d-42e5-c33a-a648071a5421"
      },
      "execution_count": null,
      "outputs": [
        {
          "output_type": "stream",
          "name": "stdout",
          "text": [
            "32/32 [==============================] - 636s 20s/step\n",
            "              precision    recall  f1-score   support\n",
            "\n",
            "    negative       0.85      0.94      0.89       500\n",
            "    positive       0.93      0.84      0.88       500\n",
            "\n",
            "    accuracy                           0.89      1000\n",
            "   macro avg       0.89      0.89      0.89      1000\n",
            "weighted avg       0.89      0.89      0.89      1000\n",
            "\n"
          ]
        },
        {
          "output_type": "execute_result",
          "data": {
            "text/plain": [
              "array([[468,  32],\n",
              "       [ 81, 419]])"
            ]
          },
          "metadata": {},
          "execution_count": 21
        }
      ]
    }
  ],
  "metadata": {
    "accelerator": "GPU",
    "colab": {
      "gpuType": "T4",
      "provenance": []
    },
    "kernelspec": {
      "display_name": "Python 3",
      "name": "python3"
    },
    "language_info": {
      "name": "python"
    },
    "widgets": {
      "application/vnd.jupyter.widget-state+json": {
        "e2d96db01b9347ed96cabd2e8bce5afa": {
          "model_module": "@jupyter-widgets/controls",
          "model_name": "HBoxModel",
          "model_module_version": "1.5.0",
          "state": {
            "_dom_classes": [],
            "_model_module": "@jupyter-widgets/controls",
            "_model_module_version": "1.5.0",
            "_model_name": "HBoxModel",
            "_view_count": null,
            "_view_module": "@jupyter-widgets/controls",
            "_view_module_version": "1.5.0",
            "_view_name": "HBoxView",
            "box_style": "",
            "children": [
              "IPY_MODEL_7ebe1df4da0746db9b043b0d81ae99c5",
              "IPY_MODEL_102fcd4ce42547e0ad8894d23be02035",
              "IPY_MODEL_dae86f3b2193438486eb6f2fe49db51f"
            ],
            "layout": "IPY_MODEL_3696be79a1d642e8a1c977d1c26b7d2f"
          }
        },
        "7ebe1df4da0746db9b043b0d81ae99c5": {
          "model_module": "@jupyter-widgets/controls",
          "model_name": "HTMLModel",
          "model_module_version": "1.5.0",
          "state": {
            "_dom_classes": [],
            "_model_module": "@jupyter-widgets/controls",
            "_model_module_version": "1.5.0",
            "_model_name": "HTMLModel",
            "_view_count": null,
            "_view_module": "@jupyter-widgets/controls",
            "_view_module_version": "1.5.0",
            "_view_name": "HTMLView",
            "description": "",
            "description_tooltip": null,
            "layout": "IPY_MODEL_c80a17bdd669433e999a662bb3825c61",
            "placeholder": "​",
            "style": "IPY_MODEL_b0b1553e673140bbaed40fa021bec160",
            "value": "config.json: 100%"
          }
        },
        "102fcd4ce42547e0ad8894d23be02035": {
          "model_module": "@jupyter-widgets/controls",
          "model_name": "FloatProgressModel",
          "model_module_version": "1.5.0",
          "state": {
            "_dom_classes": [],
            "_model_module": "@jupyter-widgets/controls",
            "_model_module_version": "1.5.0",
            "_model_name": "FloatProgressModel",
            "_view_count": null,
            "_view_module": "@jupyter-widgets/controls",
            "_view_module_version": "1.5.0",
            "_view_name": "ProgressView",
            "bar_style": "success",
            "description": "",
            "description_tooltip": null,
            "layout": "IPY_MODEL_0c20f1798a614fbd8782aea5ae2a28aa",
            "max": 546,
            "min": 0,
            "orientation": "horizontal",
            "style": "IPY_MODEL_a6f29582e6994b72b7c0d8436210a1a4",
            "value": 546
          }
        },
        "dae86f3b2193438486eb6f2fe49db51f": {
          "model_module": "@jupyter-widgets/controls",
          "model_name": "HTMLModel",
          "model_module_version": "1.5.0",
          "state": {
            "_dom_classes": [],
            "_model_module": "@jupyter-widgets/controls",
            "_model_module_version": "1.5.0",
            "_model_name": "HTMLModel",
            "_view_count": null,
            "_view_module": "@jupyter-widgets/controls",
            "_view_module_version": "1.5.0",
            "_view_name": "HTMLView",
            "description": "",
            "description_tooltip": null,
            "layout": "IPY_MODEL_effa511cd27243ddb3f4b61c863c33d9",
            "placeholder": "​",
            "style": "IPY_MODEL_d85561f0fae7428ab422e21e9a56ffeb",
            "value": " 546/546 [00:00&lt;00:00, 8.07kB/s]"
          }
        },
        "3696be79a1d642e8a1c977d1c26b7d2f": {
          "model_module": "@jupyter-widgets/base",
          "model_name": "LayoutModel",
          "model_module_version": "1.2.0",
          "state": {
            "_model_module": "@jupyter-widgets/base",
            "_model_module_version": "1.2.0",
            "_model_name": "LayoutModel",
            "_view_count": null,
            "_view_module": "@jupyter-widgets/base",
            "_view_module_version": "1.2.0",
            "_view_name": "LayoutView",
            "align_content": null,
            "align_items": null,
            "align_self": null,
            "border": null,
            "bottom": null,
            "display": null,
            "flex": null,
            "flex_flow": null,
            "grid_area": null,
            "grid_auto_columns": null,
            "grid_auto_flow": null,
            "grid_auto_rows": null,
            "grid_column": null,
            "grid_gap": null,
            "grid_row": null,
            "grid_template_areas": null,
            "grid_template_columns": null,
            "grid_template_rows": null,
            "height": null,
            "justify_content": null,
            "justify_items": null,
            "left": null,
            "margin": null,
            "max_height": null,
            "max_width": null,
            "min_height": null,
            "min_width": null,
            "object_fit": null,
            "object_position": null,
            "order": null,
            "overflow": null,
            "overflow_x": null,
            "overflow_y": null,
            "padding": null,
            "right": null,
            "top": null,
            "visibility": null,
            "width": null
          }
        },
        "c80a17bdd669433e999a662bb3825c61": {
          "model_module": "@jupyter-widgets/base",
          "model_name": "LayoutModel",
          "model_module_version": "1.2.0",
          "state": {
            "_model_module": "@jupyter-widgets/base",
            "_model_module_version": "1.2.0",
            "_model_name": "LayoutModel",
            "_view_count": null,
            "_view_module": "@jupyter-widgets/base",
            "_view_module_version": "1.2.0",
            "_view_name": "LayoutView",
            "align_content": null,
            "align_items": null,
            "align_self": null,
            "border": null,
            "bottom": null,
            "display": null,
            "flex": null,
            "flex_flow": null,
            "grid_area": null,
            "grid_auto_columns": null,
            "grid_auto_flow": null,
            "grid_auto_rows": null,
            "grid_column": null,
            "grid_gap": null,
            "grid_row": null,
            "grid_template_areas": null,
            "grid_template_columns": null,
            "grid_template_rows": null,
            "height": null,
            "justify_content": null,
            "justify_items": null,
            "left": null,
            "margin": null,
            "max_height": null,
            "max_width": null,
            "min_height": null,
            "min_width": null,
            "object_fit": null,
            "object_position": null,
            "order": null,
            "overflow": null,
            "overflow_x": null,
            "overflow_y": null,
            "padding": null,
            "right": null,
            "top": null,
            "visibility": null,
            "width": null
          }
        },
        "b0b1553e673140bbaed40fa021bec160": {
          "model_module": "@jupyter-widgets/controls",
          "model_name": "DescriptionStyleModel",
          "model_module_version": "1.5.0",
          "state": {
            "_model_module": "@jupyter-widgets/controls",
            "_model_module_version": "1.5.0",
            "_model_name": "DescriptionStyleModel",
            "_view_count": null,
            "_view_module": "@jupyter-widgets/base",
            "_view_module_version": "1.2.0",
            "_view_name": "StyleView",
            "description_width": ""
          }
        },
        "0c20f1798a614fbd8782aea5ae2a28aa": {
          "model_module": "@jupyter-widgets/base",
          "model_name": "LayoutModel",
          "model_module_version": "1.2.0",
          "state": {
            "_model_module": "@jupyter-widgets/base",
            "_model_module_version": "1.2.0",
            "_model_name": "LayoutModel",
            "_view_count": null,
            "_view_module": "@jupyter-widgets/base",
            "_view_module_version": "1.2.0",
            "_view_name": "LayoutView",
            "align_content": null,
            "align_items": null,
            "align_self": null,
            "border": null,
            "bottom": null,
            "display": null,
            "flex": null,
            "flex_flow": null,
            "grid_area": null,
            "grid_auto_columns": null,
            "grid_auto_flow": null,
            "grid_auto_rows": null,
            "grid_column": null,
            "grid_gap": null,
            "grid_row": null,
            "grid_template_areas": null,
            "grid_template_columns": null,
            "grid_template_rows": null,
            "height": null,
            "justify_content": null,
            "justify_items": null,
            "left": null,
            "margin": null,
            "max_height": null,
            "max_width": null,
            "min_height": null,
            "min_width": null,
            "object_fit": null,
            "object_position": null,
            "order": null,
            "overflow": null,
            "overflow_x": null,
            "overflow_y": null,
            "padding": null,
            "right": null,
            "top": null,
            "visibility": null,
            "width": null
          }
        },
        "a6f29582e6994b72b7c0d8436210a1a4": {
          "model_module": "@jupyter-widgets/controls",
          "model_name": "ProgressStyleModel",
          "model_module_version": "1.5.0",
          "state": {
            "_model_module": "@jupyter-widgets/controls",
            "_model_module_version": "1.5.0",
            "_model_name": "ProgressStyleModel",
            "_view_count": null,
            "_view_module": "@jupyter-widgets/base",
            "_view_module_version": "1.2.0",
            "_view_name": "StyleView",
            "bar_color": null,
            "description_width": ""
          }
        },
        "effa511cd27243ddb3f4b61c863c33d9": {
          "model_module": "@jupyter-widgets/base",
          "model_name": "LayoutModel",
          "model_module_version": "1.2.0",
          "state": {
            "_model_module": "@jupyter-widgets/base",
            "_model_module_version": "1.2.0",
            "_model_name": "LayoutModel",
            "_view_count": null,
            "_view_module": "@jupyter-widgets/base",
            "_view_module_version": "1.2.0",
            "_view_name": "LayoutView",
            "align_content": null,
            "align_items": null,
            "align_self": null,
            "border": null,
            "bottom": null,
            "display": null,
            "flex": null,
            "flex_flow": null,
            "grid_area": null,
            "grid_auto_columns": null,
            "grid_auto_flow": null,
            "grid_auto_rows": null,
            "grid_column": null,
            "grid_gap": null,
            "grid_row": null,
            "grid_template_areas": null,
            "grid_template_columns": null,
            "grid_template_rows": null,
            "height": null,
            "justify_content": null,
            "justify_items": null,
            "left": null,
            "margin": null,
            "max_height": null,
            "max_width": null,
            "min_height": null,
            "min_width": null,
            "object_fit": null,
            "object_position": null,
            "order": null,
            "overflow": null,
            "overflow_x": null,
            "overflow_y": null,
            "padding": null,
            "right": null,
            "top": null,
            "visibility": null,
            "width": null
          }
        },
        "d85561f0fae7428ab422e21e9a56ffeb": {
          "model_module": "@jupyter-widgets/controls",
          "model_name": "DescriptionStyleModel",
          "model_module_version": "1.5.0",
          "state": {
            "_model_module": "@jupyter-widgets/controls",
            "_model_module_version": "1.5.0",
            "_model_name": "DescriptionStyleModel",
            "_view_count": null,
            "_view_module": "@jupyter-widgets/base",
            "_view_module_version": "1.2.0",
            "_view_name": "StyleView",
            "description_width": ""
          }
        },
        "d6973aff20f542d2a11036d941979000": {
          "model_module": "@jupyter-widgets/controls",
          "model_name": "HBoxModel",
          "model_module_version": "1.5.0",
          "state": {
            "_dom_classes": [],
            "_model_module": "@jupyter-widgets/controls",
            "_model_module_version": "1.5.0",
            "_model_name": "HBoxModel",
            "_view_count": null,
            "_view_module": "@jupyter-widgets/controls",
            "_view_module_version": "1.5.0",
            "_view_name": "HBoxView",
            "box_style": "",
            "children": [
              "IPY_MODEL_e7769030089f40bdab73916cdd34cbbb",
              "IPY_MODEL_5795e3559638477484a6f0fce18bbff4",
              "IPY_MODEL_3ef86f8581394f44ab6d5e8efe01fadf"
            ],
            "layout": "IPY_MODEL_80aaf4d96bfd44bf915d927344c86a5b"
          }
        },
        "e7769030089f40bdab73916cdd34cbbb": {
          "model_module": "@jupyter-widgets/controls",
          "model_name": "HTMLModel",
          "model_module_version": "1.5.0",
          "state": {
            "_dom_classes": [],
            "_model_module": "@jupyter-widgets/controls",
            "_model_module_version": "1.5.0",
            "_model_name": "HTMLModel",
            "_view_count": null,
            "_view_module": "@jupyter-widgets/controls",
            "_view_module_version": "1.5.0",
            "_view_name": "HTMLView",
            "description": "",
            "description_tooltip": null,
            "layout": "IPY_MODEL_725dc3f0d775432286d7a4113c5aad64",
            "placeholder": "​",
            "style": "IPY_MODEL_734dc390bf774493ac77c010f8760f66",
            "value": "model.safetensors: 100%"
          }
        },
        "5795e3559638477484a6f0fce18bbff4": {
          "model_module": "@jupyter-widgets/controls",
          "model_name": "FloatProgressModel",
          "model_module_version": "1.5.0",
          "state": {
            "_dom_classes": [],
            "_model_module": "@jupyter-widgets/controls",
            "_model_module_version": "1.5.0",
            "_model_name": "FloatProgressModel",
            "_view_count": null,
            "_view_module": "@jupyter-widgets/controls",
            "_view_module_version": "1.5.0",
            "_view_name": "ProgressView",
            "bar_style": "success",
            "description": "",
            "description_tooltip": null,
            "layout": "IPY_MODEL_b6be714f6f524f3ba0541682f5a22d16",
            "max": 423470574,
            "min": 0,
            "orientation": "horizontal",
            "style": "IPY_MODEL_63a5ec33ef0b410dab1ee7b1eef9ff02",
            "value": 423470574
          }
        },
        "3ef86f8581394f44ab6d5e8efe01fadf": {
          "model_module": "@jupyter-widgets/controls",
          "model_name": "HTMLModel",
          "model_module_version": "1.5.0",
          "state": {
            "_dom_classes": [],
            "_model_module": "@jupyter-widgets/controls",
            "_model_module_version": "1.5.0",
            "_model_name": "HTMLModel",
            "_view_count": null,
            "_view_module": "@jupyter-widgets/controls",
            "_view_module_version": "1.5.0",
            "_view_name": "HTMLView",
            "description": "",
            "description_tooltip": null,
            "layout": "IPY_MODEL_205c86f8ca704daf9119b47ee9989c65",
            "placeholder": "​",
            "style": "IPY_MODEL_3f16515f92e9443684e261001d8cac08",
            "value": " 423M/423M [00:04&lt;00:00, 112MB/s]"
          }
        },
        "80aaf4d96bfd44bf915d927344c86a5b": {
          "model_module": "@jupyter-widgets/base",
          "model_name": "LayoutModel",
          "model_module_version": "1.2.0",
          "state": {
            "_model_module": "@jupyter-widgets/base",
            "_model_module_version": "1.2.0",
            "_model_name": "LayoutModel",
            "_view_count": null,
            "_view_module": "@jupyter-widgets/base",
            "_view_module_version": "1.2.0",
            "_view_name": "LayoutView",
            "align_content": null,
            "align_items": null,
            "align_self": null,
            "border": null,
            "bottom": null,
            "display": null,
            "flex": null,
            "flex_flow": null,
            "grid_area": null,
            "grid_auto_columns": null,
            "grid_auto_flow": null,
            "grid_auto_rows": null,
            "grid_column": null,
            "grid_gap": null,
            "grid_row": null,
            "grid_template_areas": null,
            "grid_template_columns": null,
            "grid_template_rows": null,
            "height": null,
            "justify_content": null,
            "justify_items": null,
            "left": null,
            "margin": null,
            "max_height": null,
            "max_width": null,
            "min_height": null,
            "min_width": null,
            "object_fit": null,
            "object_position": null,
            "order": null,
            "overflow": null,
            "overflow_x": null,
            "overflow_y": null,
            "padding": null,
            "right": null,
            "top": null,
            "visibility": null,
            "width": null
          }
        },
        "725dc3f0d775432286d7a4113c5aad64": {
          "model_module": "@jupyter-widgets/base",
          "model_name": "LayoutModel",
          "model_module_version": "1.2.0",
          "state": {
            "_model_module": "@jupyter-widgets/base",
            "_model_module_version": "1.2.0",
            "_model_name": "LayoutModel",
            "_view_count": null,
            "_view_module": "@jupyter-widgets/base",
            "_view_module_version": "1.2.0",
            "_view_name": "LayoutView",
            "align_content": null,
            "align_items": null,
            "align_self": null,
            "border": null,
            "bottom": null,
            "display": null,
            "flex": null,
            "flex_flow": null,
            "grid_area": null,
            "grid_auto_columns": null,
            "grid_auto_flow": null,
            "grid_auto_rows": null,
            "grid_column": null,
            "grid_gap": null,
            "grid_row": null,
            "grid_template_areas": null,
            "grid_template_columns": null,
            "grid_template_rows": null,
            "height": null,
            "justify_content": null,
            "justify_items": null,
            "left": null,
            "margin": null,
            "max_height": null,
            "max_width": null,
            "min_height": null,
            "min_width": null,
            "object_fit": null,
            "object_position": null,
            "order": null,
            "overflow": null,
            "overflow_x": null,
            "overflow_y": null,
            "padding": null,
            "right": null,
            "top": null,
            "visibility": null,
            "width": null
          }
        },
        "734dc390bf774493ac77c010f8760f66": {
          "model_module": "@jupyter-widgets/controls",
          "model_name": "DescriptionStyleModel",
          "model_module_version": "1.5.0",
          "state": {
            "_model_module": "@jupyter-widgets/controls",
            "_model_module_version": "1.5.0",
            "_model_name": "DescriptionStyleModel",
            "_view_count": null,
            "_view_module": "@jupyter-widgets/base",
            "_view_module_version": "1.2.0",
            "_view_name": "StyleView",
            "description_width": ""
          }
        },
        "b6be714f6f524f3ba0541682f5a22d16": {
          "model_module": "@jupyter-widgets/base",
          "model_name": "LayoutModel",
          "model_module_version": "1.2.0",
          "state": {
            "_model_module": "@jupyter-widgets/base",
            "_model_module_version": "1.2.0",
            "_model_name": "LayoutModel",
            "_view_count": null,
            "_view_module": "@jupyter-widgets/base",
            "_view_module_version": "1.2.0",
            "_view_name": "LayoutView",
            "align_content": null,
            "align_items": null,
            "align_self": null,
            "border": null,
            "bottom": null,
            "display": null,
            "flex": null,
            "flex_flow": null,
            "grid_area": null,
            "grid_auto_columns": null,
            "grid_auto_flow": null,
            "grid_auto_rows": null,
            "grid_column": null,
            "grid_gap": null,
            "grid_row": null,
            "grid_template_areas": null,
            "grid_template_columns": null,
            "grid_template_rows": null,
            "height": null,
            "justify_content": null,
            "justify_items": null,
            "left": null,
            "margin": null,
            "max_height": null,
            "max_width": null,
            "min_height": null,
            "min_width": null,
            "object_fit": null,
            "object_position": null,
            "order": null,
            "overflow": null,
            "overflow_x": null,
            "overflow_y": null,
            "padding": null,
            "right": null,
            "top": null,
            "visibility": null,
            "width": null
          }
        },
        "63a5ec33ef0b410dab1ee7b1eef9ff02": {
          "model_module": "@jupyter-widgets/controls",
          "model_name": "ProgressStyleModel",
          "model_module_version": "1.5.0",
          "state": {
            "_model_module": "@jupyter-widgets/controls",
            "_model_module_version": "1.5.0",
            "_model_name": "ProgressStyleModel",
            "_view_count": null,
            "_view_module": "@jupyter-widgets/base",
            "_view_module_version": "1.2.0",
            "_view_name": "StyleView",
            "bar_color": null,
            "description_width": ""
          }
        },
        "205c86f8ca704daf9119b47ee9989c65": {
          "model_module": "@jupyter-widgets/base",
          "model_name": "LayoutModel",
          "model_module_version": "1.2.0",
          "state": {
            "_model_module": "@jupyter-widgets/base",
            "_model_module_version": "1.2.0",
            "_model_name": "LayoutModel",
            "_view_count": null,
            "_view_module": "@jupyter-widgets/base",
            "_view_module_version": "1.2.0",
            "_view_name": "LayoutView",
            "align_content": null,
            "align_items": null,
            "align_self": null,
            "border": null,
            "bottom": null,
            "display": null,
            "flex": null,
            "flex_flow": null,
            "grid_area": null,
            "grid_auto_columns": null,
            "grid_auto_flow": null,
            "grid_auto_rows": null,
            "grid_column": null,
            "grid_gap": null,
            "grid_row": null,
            "grid_template_areas": null,
            "grid_template_columns": null,
            "grid_template_rows": null,
            "height": null,
            "justify_content": null,
            "justify_items": null,
            "left": null,
            "margin": null,
            "max_height": null,
            "max_width": null,
            "min_height": null,
            "min_width": null,
            "object_fit": null,
            "object_position": null,
            "order": null,
            "overflow": null,
            "overflow_x": null,
            "overflow_y": null,
            "padding": null,
            "right": null,
            "top": null,
            "visibility": null,
            "width": null
          }
        },
        "3f16515f92e9443684e261001d8cac08": {
          "model_module": "@jupyter-widgets/controls",
          "model_name": "DescriptionStyleModel",
          "model_module_version": "1.5.0",
          "state": {
            "_model_module": "@jupyter-widgets/controls",
            "_model_module_version": "1.5.0",
            "_model_name": "DescriptionStyleModel",
            "_view_count": null,
            "_view_module": "@jupyter-widgets/base",
            "_view_module_version": "1.2.0",
            "_view_name": "StyleView",
            "description_width": ""
          }
        },
        "d0872d0fef894029bc8d1f47606bf936": {
          "model_module": "@jupyter-widgets/controls",
          "model_name": "HBoxModel",
          "model_module_version": "1.5.0",
          "state": {
            "_dom_classes": [],
            "_model_module": "@jupyter-widgets/controls",
            "_model_module_version": "1.5.0",
            "_model_name": "HBoxModel",
            "_view_count": null,
            "_view_module": "@jupyter-widgets/controls",
            "_view_module_version": "1.5.0",
            "_view_name": "HBoxView",
            "box_style": "",
            "children": [
              "IPY_MODEL_b457746bf8434d5ebb8a6750e1723d6d",
              "IPY_MODEL_45319eb6cbea4b0383819e70b2c5677d",
              "IPY_MODEL_bcf05e0164f84877837d7bab7efb12d6"
            ],
            "layout": "IPY_MODEL_f4477d2462334dbd982e33559acc55b5"
          }
        },
        "b457746bf8434d5ebb8a6750e1723d6d": {
          "model_module": "@jupyter-widgets/controls",
          "model_name": "HTMLModel",
          "model_module_version": "1.5.0",
          "state": {
            "_dom_classes": [],
            "_model_module": "@jupyter-widgets/controls",
            "_model_module_version": "1.5.0",
            "_model_name": "HTMLModel",
            "_view_count": null,
            "_view_module": "@jupyter-widgets/controls",
            "_view_module_version": "1.5.0",
            "_view_name": "HTMLView",
            "description": "",
            "description_tooltip": null,
            "layout": "IPY_MODEL_a0dd8c1eece44f1b85f64e0d2c4bc8c4",
            "placeholder": "​",
            "style": "IPY_MODEL_3d8896eb82874060957c3ef943119e75",
            "value": "tokenizer_config.json: 100%"
          }
        },
        "45319eb6cbea4b0383819e70b2c5677d": {
          "model_module": "@jupyter-widgets/controls",
          "model_name": "FloatProgressModel",
          "model_module_version": "1.5.0",
          "state": {
            "_dom_classes": [],
            "_model_module": "@jupyter-widgets/controls",
            "_model_module_version": "1.5.0",
            "_model_name": "FloatProgressModel",
            "_view_count": null,
            "_view_module": "@jupyter-widgets/controls",
            "_view_module_version": "1.5.0",
            "_view_name": "ProgressView",
            "bar_style": "success",
            "description": "",
            "description_tooltip": null,
            "layout": "IPY_MODEL_852dacd4cb754e01ae4996e9cefc8ea1",
            "max": 282,
            "min": 0,
            "orientation": "horizontal",
            "style": "IPY_MODEL_fc8d44eff2854ae7be9fc8ba43836405",
            "value": 282
          }
        },
        "bcf05e0164f84877837d7bab7efb12d6": {
          "model_module": "@jupyter-widgets/controls",
          "model_name": "HTMLModel",
          "model_module_version": "1.5.0",
          "state": {
            "_dom_classes": [],
            "_model_module": "@jupyter-widgets/controls",
            "_model_module_version": "1.5.0",
            "_model_name": "HTMLModel",
            "_view_count": null,
            "_view_module": "@jupyter-widgets/controls",
            "_view_module_version": "1.5.0",
            "_view_name": "HTMLView",
            "description": "",
            "description_tooltip": null,
            "layout": "IPY_MODEL_48b79c0101ce4738827e7365fd448ebc",
            "placeholder": "​",
            "style": "IPY_MODEL_2f0dcda167cc41238faeabacb830085a",
            "value": " 282/282 [00:00&lt;00:00, 4.84kB/s]"
          }
        },
        "f4477d2462334dbd982e33559acc55b5": {
          "model_module": "@jupyter-widgets/base",
          "model_name": "LayoutModel",
          "model_module_version": "1.2.0",
          "state": {
            "_model_module": "@jupyter-widgets/base",
            "_model_module_version": "1.2.0",
            "_model_name": "LayoutModel",
            "_view_count": null,
            "_view_module": "@jupyter-widgets/base",
            "_view_module_version": "1.2.0",
            "_view_name": "LayoutView",
            "align_content": null,
            "align_items": null,
            "align_self": null,
            "border": null,
            "bottom": null,
            "display": null,
            "flex": null,
            "flex_flow": null,
            "grid_area": null,
            "grid_auto_columns": null,
            "grid_auto_flow": null,
            "grid_auto_rows": null,
            "grid_column": null,
            "grid_gap": null,
            "grid_row": null,
            "grid_template_areas": null,
            "grid_template_columns": null,
            "grid_template_rows": null,
            "height": null,
            "justify_content": null,
            "justify_items": null,
            "left": null,
            "margin": null,
            "max_height": null,
            "max_width": null,
            "min_height": null,
            "min_width": null,
            "object_fit": null,
            "object_position": null,
            "order": null,
            "overflow": null,
            "overflow_x": null,
            "overflow_y": null,
            "padding": null,
            "right": null,
            "top": null,
            "visibility": null,
            "width": null
          }
        },
        "a0dd8c1eece44f1b85f64e0d2c4bc8c4": {
          "model_module": "@jupyter-widgets/base",
          "model_name": "LayoutModel",
          "model_module_version": "1.2.0",
          "state": {
            "_model_module": "@jupyter-widgets/base",
            "_model_module_version": "1.2.0",
            "_model_name": "LayoutModel",
            "_view_count": null,
            "_view_module": "@jupyter-widgets/base",
            "_view_module_version": "1.2.0",
            "_view_name": "LayoutView",
            "align_content": null,
            "align_items": null,
            "align_self": null,
            "border": null,
            "bottom": null,
            "display": null,
            "flex": null,
            "flex_flow": null,
            "grid_area": null,
            "grid_auto_columns": null,
            "grid_auto_flow": null,
            "grid_auto_rows": null,
            "grid_column": null,
            "grid_gap": null,
            "grid_row": null,
            "grid_template_areas": null,
            "grid_template_columns": null,
            "grid_template_rows": null,
            "height": null,
            "justify_content": null,
            "justify_items": null,
            "left": null,
            "margin": null,
            "max_height": null,
            "max_width": null,
            "min_height": null,
            "min_width": null,
            "object_fit": null,
            "object_position": null,
            "order": null,
            "overflow": null,
            "overflow_x": null,
            "overflow_y": null,
            "padding": null,
            "right": null,
            "top": null,
            "visibility": null,
            "width": null
          }
        },
        "3d8896eb82874060957c3ef943119e75": {
          "model_module": "@jupyter-widgets/controls",
          "model_name": "DescriptionStyleModel",
          "model_module_version": "1.5.0",
          "state": {
            "_model_module": "@jupyter-widgets/controls",
            "_model_module_version": "1.5.0",
            "_model_name": "DescriptionStyleModel",
            "_view_count": null,
            "_view_module": "@jupyter-widgets/base",
            "_view_module_version": "1.2.0",
            "_view_name": "StyleView",
            "description_width": ""
          }
        },
        "852dacd4cb754e01ae4996e9cefc8ea1": {
          "model_module": "@jupyter-widgets/base",
          "model_name": "LayoutModel",
          "model_module_version": "1.2.0",
          "state": {
            "_model_module": "@jupyter-widgets/base",
            "_model_module_version": "1.2.0",
            "_model_name": "LayoutModel",
            "_view_count": null,
            "_view_module": "@jupyter-widgets/base",
            "_view_module_version": "1.2.0",
            "_view_name": "LayoutView",
            "align_content": null,
            "align_items": null,
            "align_self": null,
            "border": null,
            "bottom": null,
            "display": null,
            "flex": null,
            "flex_flow": null,
            "grid_area": null,
            "grid_auto_columns": null,
            "grid_auto_flow": null,
            "grid_auto_rows": null,
            "grid_column": null,
            "grid_gap": null,
            "grid_row": null,
            "grid_template_areas": null,
            "grid_template_columns": null,
            "grid_template_rows": null,
            "height": null,
            "justify_content": null,
            "justify_items": null,
            "left": null,
            "margin": null,
            "max_height": null,
            "max_width": null,
            "min_height": null,
            "min_width": null,
            "object_fit": null,
            "object_position": null,
            "order": null,
            "overflow": null,
            "overflow_x": null,
            "overflow_y": null,
            "padding": null,
            "right": null,
            "top": null,
            "visibility": null,
            "width": null
          }
        },
        "fc8d44eff2854ae7be9fc8ba43836405": {
          "model_module": "@jupyter-widgets/controls",
          "model_name": "ProgressStyleModel",
          "model_module_version": "1.5.0",
          "state": {
            "_model_module": "@jupyter-widgets/controls",
            "_model_module_version": "1.5.0",
            "_model_name": "ProgressStyleModel",
            "_view_count": null,
            "_view_module": "@jupyter-widgets/base",
            "_view_module_version": "1.2.0",
            "_view_name": "StyleView",
            "bar_color": null,
            "description_width": ""
          }
        },
        "48b79c0101ce4738827e7365fd448ebc": {
          "model_module": "@jupyter-widgets/base",
          "model_name": "LayoutModel",
          "model_module_version": "1.2.0",
          "state": {
            "_model_module": "@jupyter-widgets/base",
            "_model_module_version": "1.2.0",
            "_model_name": "LayoutModel",
            "_view_count": null,
            "_view_module": "@jupyter-widgets/base",
            "_view_module_version": "1.2.0",
            "_view_name": "LayoutView",
            "align_content": null,
            "align_items": null,
            "align_self": null,
            "border": null,
            "bottom": null,
            "display": null,
            "flex": null,
            "flex_flow": null,
            "grid_area": null,
            "grid_auto_columns": null,
            "grid_auto_flow": null,
            "grid_auto_rows": null,
            "grid_column": null,
            "grid_gap": null,
            "grid_row": null,
            "grid_template_areas": null,
            "grid_template_columns": null,
            "grid_template_rows": null,
            "height": null,
            "justify_content": null,
            "justify_items": null,
            "left": null,
            "margin": null,
            "max_height": null,
            "max_width": null,
            "min_height": null,
            "min_width": null,
            "object_fit": null,
            "object_position": null,
            "order": null,
            "overflow": null,
            "overflow_x": null,
            "overflow_y": null,
            "padding": null,
            "right": null,
            "top": null,
            "visibility": null,
            "width": null
          }
        },
        "2f0dcda167cc41238faeabacb830085a": {
          "model_module": "@jupyter-widgets/controls",
          "model_name": "DescriptionStyleModel",
          "model_module_version": "1.5.0",
          "state": {
            "_model_module": "@jupyter-widgets/controls",
            "_model_module_version": "1.5.0",
            "_model_name": "DescriptionStyleModel",
            "_view_count": null,
            "_view_module": "@jupyter-widgets/base",
            "_view_module_version": "1.2.0",
            "_view_name": "StyleView",
            "description_width": ""
          }
        },
        "e5f162ab92834aa7acd122d6573f5425": {
          "model_module": "@jupyter-widgets/controls",
          "model_name": "HBoxModel",
          "model_module_version": "1.5.0",
          "state": {
            "_dom_classes": [],
            "_model_module": "@jupyter-widgets/controls",
            "_model_module_version": "1.5.0",
            "_model_name": "HBoxModel",
            "_view_count": null,
            "_view_module": "@jupyter-widgets/controls",
            "_view_module_version": "1.5.0",
            "_view_name": "HBoxView",
            "box_style": "",
            "children": [
              "IPY_MODEL_68ad2cbc6bfd4e948a2235f83a6ec25f",
              "IPY_MODEL_052c1237b6cb43038956d6e68fb8a493",
              "IPY_MODEL_25925e4f835d49a19f3f79bf6e296e58"
            ],
            "layout": "IPY_MODEL_8b2a1176618c488fae19e505ba8db31d"
          }
        },
        "68ad2cbc6bfd4e948a2235f83a6ec25f": {
          "model_module": "@jupyter-widgets/controls",
          "model_name": "HTMLModel",
          "model_module_version": "1.5.0",
          "state": {
            "_dom_classes": [],
            "_model_module": "@jupyter-widgets/controls",
            "_model_module_version": "1.5.0",
            "_model_name": "HTMLModel",
            "_view_count": null,
            "_view_module": "@jupyter-widgets/controls",
            "_view_module_version": "1.5.0",
            "_view_name": "HTMLView",
            "description": "",
            "description_tooltip": null,
            "layout": "IPY_MODEL_72e6d40c551746849eb66d99abcde3cd",
            "placeholder": "​",
            "style": "IPY_MODEL_06e9cd12f3d14067abc73a275dc8d1ac",
            "value": "sentencepiece.bpe.model: 100%"
          }
        },
        "052c1237b6cb43038956d6e68fb8a493": {
          "model_module": "@jupyter-widgets/controls",
          "model_name": "FloatProgressModel",
          "model_module_version": "1.5.0",
          "state": {
            "_dom_classes": [],
            "_model_module": "@jupyter-widgets/controls",
            "_model_module_version": "1.5.0",
            "_model_name": "FloatProgressModel",
            "_view_count": null,
            "_view_module": "@jupyter-widgets/controls",
            "_view_module_version": "1.5.0",
            "_view_name": "ProgressView",
            "bar_style": "success",
            "description": "",
            "description_tooltip": null,
            "layout": "IPY_MODEL_344d8646519e423784debb1885ae5f43",
            "max": 904693,
            "min": 0,
            "orientation": "horizontal",
            "style": "IPY_MODEL_b04cfcfa436647e8b15edaf828133011",
            "value": 904693
          }
        },
        "25925e4f835d49a19f3f79bf6e296e58": {
          "model_module": "@jupyter-widgets/controls",
          "model_name": "HTMLModel",
          "model_module_version": "1.5.0",
          "state": {
            "_dom_classes": [],
            "_model_module": "@jupyter-widgets/controls",
            "_model_module_version": "1.5.0",
            "_model_name": "HTMLModel",
            "_view_count": null,
            "_view_module": "@jupyter-widgets/controls",
            "_view_module_version": "1.5.0",
            "_view_name": "HTMLView",
            "description": "",
            "description_tooltip": null,
            "layout": "IPY_MODEL_8021e0553f2b478180059ff4185cad97",
            "placeholder": "​",
            "style": "IPY_MODEL_39cafbb2dfaf45499b8e42f4eac2244f",
            "value": " 905k/905k [00:00&lt;00:00, 9.20MB/s]"
          }
        },
        "8b2a1176618c488fae19e505ba8db31d": {
          "model_module": "@jupyter-widgets/base",
          "model_name": "LayoutModel",
          "model_module_version": "1.2.0",
          "state": {
            "_model_module": "@jupyter-widgets/base",
            "_model_module_version": "1.2.0",
            "_model_name": "LayoutModel",
            "_view_count": null,
            "_view_module": "@jupyter-widgets/base",
            "_view_module_version": "1.2.0",
            "_view_name": "LayoutView",
            "align_content": null,
            "align_items": null,
            "align_self": null,
            "border": null,
            "bottom": null,
            "display": null,
            "flex": null,
            "flex_flow": null,
            "grid_area": null,
            "grid_auto_columns": null,
            "grid_auto_flow": null,
            "grid_auto_rows": null,
            "grid_column": null,
            "grid_gap": null,
            "grid_row": null,
            "grid_template_areas": null,
            "grid_template_columns": null,
            "grid_template_rows": null,
            "height": null,
            "justify_content": null,
            "justify_items": null,
            "left": null,
            "margin": null,
            "max_height": null,
            "max_width": null,
            "min_height": null,
            "min_width": null,
            "object_fit": null,
            "object_position": null,
            "order": null,
            "overflow": null,
            "overflow_x": null,
            "overflow_y": null,
            "padding": null,
            "right": null,
            "top": null,
            "visibility": null,
            "width": null
          }
        },
        "72e6d40c551746849eb66d99abcde3cd": {
          "model_module": "@jupyter-widgets/base",
          "model_name": "LayoutModel",
          "model_module_version": "1.2.0",
          "state": {
            "_model_module": "@jupyter-widgets/base",
            "_model_module_version": "1.2.0",
            "_model_name": "LayoutModel",
            "_view_count": null,
            "_view_module": "@jupyter-widgets/base",
            "_view_module_version": "1.2.0",
            "_view_name": "LayoutView",
            "align_content": null,
            "align_items": null,
            "align_self": null,
            "border": null,
            "bottom": null,
            "display": null,
            "flex": null,
            "flex_flow": null,
            "grid_area": null,
            "grid_auto_columns": null,
            "grid_auto_flow": null,
            "grid_auto_rows": null,
            "grid_column": null,
            "grid_gap": null,
            "grid_row": null,
            "grid_template_areas": null,
            "grid_template_columns": null,
            "grid_template_rows": null,
            "height": null,
            "justify_content": null,
            "justify_items": null,
            "left": null,
            "margin": null,
            "max_height": null,
            "max_width": null,
            "min_height": null,
            "min_width": null,
            "object_fit": null,
            "object_position": null,
            "order": null,
            "overflow": null,
            "overflow_x": null,
            "overflow_y": null,
            "padding": null,
            "right": null,
            "top": null,
            "visibility": null,
            "width": null
          }
        },
        "06e9cd12f3d14067abc73a275dc8d1ac": {
          "model_module": "@jupyter-widgets/controls",
          "model_name": "DescriptionStyleModel",
          "model_module_version": "1.5.0",
          "state": {
            "_model_module": "@jupyter-widgets/controls",
            "_model_module_version": "1.5.0",
            "_model_name": "DescriptionStyleModel",
            "_view_count": null,
            "_view_module": "@jupyter-widgets/base",
            "_view_module_version": "1.2.0",
            "_view_name": "StyleView",
            "description_width": ""
          }
        },
        "344d8646519e423784debb1885ae5f43": {
          "model_module": "@jupyter-widgets/base",
          "model_name": "LayoutModel",
          "model_module_version": "1.2.0",
          "state": {
            "_model_module": "@jupyter-widgets/base",
            "_model_module_version": "1.2.0",
            "_model_name": "LayoutModel",
            "_view_count": null,
            "_view_module": "@jupyter-widgets/base",
            "_view_module_version": "1.2.0",
            "_view_name": "LayoutView",
            "align_content": null,
            "align_items": null,
            "align_self": null,
            "border": null,
            "bottom": null,
            "display": null,
            "flex": null,
            "flex_flow": null,
            "grid_area": null,
            "grid_auto_columns": null,
            "grid_auto_flow": null,
            "grid_auto_rows": null,
            "grid_column": null,
            "grid_gap": null,
            "grid_row": null,
            "grid_template_areas": null,
            "grid_template_columns": null,
            "grid_template_rows": null,
            "height": null,
            "justify_content": null,
            "justify_items": null,
            "left": null,
            "margin": null,
            "max_height": null,
            "max_width": null,
            "min_height": null,
            "min_width": null,
            "object_fit": null,
            "object_position": null,
            "order": null,
            "overflow": null,
            "overflow_x": null,
            "overflow_y": null,
            "padding": null,
            "right": null,
            "top": null,
            "visibility": null,
            "width": null
          }
        },
        "b04cfcfa436647e8b15edaf828133011": {
          "model_module": "@jupyter-widgets/controls",
          "model_name": "ProgressStyleModel",
          "model_module_version": "1.5.0",
          "state": {
            "_model_module": "@jupyter-widgets/controls",
            "_model_module_version": "1.5.0",
            "_model_name": "ProgressStyleModel",
            "_view_count": null,
            "_view_module": "@jupyter-widgets/base",
            "_view_module_version": "1.2.0",
            "_view_name": "StyleView",
            "bar_color": null,
            "description_width": ""
          }
        },
        "8021e0553f2b478180059ff4185cad97": {
          "model_module": "@jupyter-widgets/base",
          "model_name": "LayoutModel",
          "model_module_version": "1.2.0",
          "state": {
            "_model_module": "@jupyter-widgets/base",
            "_model_module_version": "1.2.0",
            "_model_name": "LayoutModel",
            "_view_count": null,
            "_view_module": "@jupyter-widgets/base",
            "_view_module_version": "1.2.0",
            "_view_name": "LayoutView",
            "align_content": null,
            "align_items": null,
            "align_self": null,
            "border": null,
            "bottom": null,
            "display": null,
            "flex": null,
            "flex_flow": null,
            "grid_area": null,
            "grid_auto_columns": null,
            "grid_auto_flow": null,
            "grid_auto_rows": null,
            "grid_column": null,
            "grid_gap": null,
            "grid_row": null,
            "grid_template_areas": null,
            "grid_template_columns": null,
            "grid_template_rows": null,
            "height": null,
            "justify_content": null,
            "justify_items": null,
            "left": null,
            "margin": null,
            "max_height": null,
            "max_width": null,
            "min_height": null,
            "min_width": null,
            "object_fit": null,
            "object_position": null,
            "order": null,
            "overflow": null,
            "overflow_x": null,
            "overflow_y": null,
            "padding": null,
            "right": null,
            "top": null,
            "visibility": null,
            "width": null
          }
        },
        "39cafbb2dfaf45499b8e42f4eac2244f": {
          "model_module": "@jupyter-widgets/controls",
          "model_name": "DescriptionStyleModel",
          "model_module_version": "1.5.0",
          "state": {
            "_model_module": "@jupyter-widgets/controls",
            "_model_module_version": "1.5.0",
            "_model_name": "DescriptionStyleModel",
            "_view_count": null,
            "_view_module": "@jupyter-widgets/base",
            "_view_module_version": "1.2.0",
            "_view_name": "StyleView",
            "description_width": ""
          }
        }
      }
    }
  },
  "nbformat": 4,
  "nbformat_minor": 0
}