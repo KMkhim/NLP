{
  "nbformat": 4,
  "nbformat_minor": 0,
  "metadata": {
    "colab": {
      "provenance": [],
      "collapsed_sections": [
        "CjYyA3WJpw8m",
        "4MnLOPmzB1xd",
        "4UBPbhcf_1ih",
        "SHy6s688S0j6"
      ]
    },
    "kernelspec": {
      "name": "python3",
      "display_name": "Python 3"
    },
    "language_info": {
      "name": "python"
    }
  },
  "cells": [
    {
      "cell_type": "markdown",
      "source": [
        "## Data Cleaning"
      ],
      "metadata": {
        "id": "iptdY7tImzsI"
      }
    },
    {
      "cell_type": "code",
      "execution_count": null,
      "metadata": {
        "id": "1sYQb-QqSKDF",
        "collapsed": true
      },
      "outputs": [],
      "source": [
        "!pip install clean-text"
      ]
    },
    {
      "cell_type": "code",
      "source": [
        "import re\n",
        "\n",
        "text = \"\"\"เมื่อวานนี้ (5 ม.ค. 2025) ฉันเดินทางไปยังศูนย์การค้า ICONSIAM เพื่อซื้อของขวัญวันเกิดให้เพื่อนที่ชื่อ \"ออมสิน\" ซึ่งเกิดวันที่ 7 มกราคม 🎂 ระหว่างทางฉันเปิด Google Maps เพื่อหาเส้นทาง แต่เกิดข้อผิดพลาด \"GPS signal not found\" ทำให้ต้องถามทางจากคนแถวนั้นแทน 🗺️ \\\n",
        "\n",
        "เมื่อถึงห้างฯ ฉันเจอโปรโมชั่นพิเศษ: ซื้อ iPhone 15 Pro Max รับส่วนลด 20% ถ้าชำระผ่านบัตรเครดิตของธนาคาร KBank! 💳 นอกจากนี้ยังมีร้านอาหารใหม่ที่ชื่อว่า \"ครัวในสวน\" ซึ่งเป็นร้านอาหารฟิวชันไทย-ญี่ปุ่น 🌸 ฉันสั่งราเมนต้มยำและชาเขียวมัทฉะ แต่พบว่าอาหารมาช้ากว่า 45 นาที 🍜 \\\n",
        "\n",
        "หลังจากนั้น ฉันเดินไปร้านหนังสือ SE-ED เพื่อหาหนังสือ Data Science ที่เขียนโดย Andrew Ng แต่กลับได้เล่มที่ชื่อ \"Python for Beginners\" แทน 📚 พนักงานแจ้งว่าหนังสือที่ฉันต้องการหมดสต็อก \\\n",
        "\n",
        "ก่อนกลับ ฉันลองใช้บริการแชตบอตของ ICONSIAM เพื่อสอบถามที่จอดรถ โดยพิมพ์คำถามว่า \"ตอนนี้ที่จอดรถในโซน A ว่างไหม?\" แต่บอทตอบผิดว่า \"มีที่จอดว่างทั้งหมด 100 คัน\" ทั้งที่โซนนั้นเต็มแล้ว 🚗❌ สุดท้าย ฉันจึงโทรติดต่อฝ่ายบริการลูกค้าเพื่อขอข้อมูลที่ถูกต้องแทน 📞 \\\n",
        "\n",
        "วันนี้เป็นวันธรรมดา แต่ทำไมทุกอย่างถึงดูยุ่งยากไปหมดนะ? 🤔 หรือว่า AI ที่เราใช้อยู่ทุกวันนี้ยังต้องปรับปรุงอีกเยอะ? \"\"\"\n",
        "\n",
        "\n",
        "# ลบ URL\n",
        "text = re.sub(r'http\\S+|www\\S+', '', text)\n",
        "\n",
        "\n",
        "# ลบ @mentions\n",
        "text = re.sub(r'@\\w+', '', text)\n",
        "\n",
        "\n",
        "# ลบ #hashtags\n",
        "text = re.sub(r'#\\w+', '', text)\n",
        "\n",
        "\n",
        "# ลบอีโมจิ โดยไม่ลบตัวอักษรภาษาไทย\n",
        "# Unicode Range ของอีโมจิ: U+1F600 - U+1F64F, U+1F300 - U+1F5FF, U+1F680 - U+1F6FF, ฯลฯ\n",
        "text = re.sub(r'[^\\w\\sก-ฮะ-์]+', '', text)\n",
        "\n",
        "\n",
        "# ลบเครื่องหมายพิเศษ (ยกเว้นอักขระภาษาไทยและช่องว่าง)\n",
        "text = re.sub(r'[^\\w\\sก-ฮะ-์]+', '', text)\n",
        "\n",
        "print(text)"
      ],
      "metadata": {
        "colab": {
          "base_uri": "https://localhost:8080/"
        },
        "id": "0Nl_z2HwhfY_",
        "outputId": "e64a0f4d-b31c-40d5-ba92-3c1e11592468"
      },
      "execution_count": null,
      "outputs": [
        {
          "output_type": "stream",
          "name": "stdout",
          "text": [
            "เมื่อวานนี้ 5 มค 2025 ฉันเดินทางไปยังศูนย์การค้า ICONSIAM เพื่อซื้อของขวัญวันเกิดให้เพื่อนที่ชื่อ ออมสิน ซึ่งเกิดวันที่ 7 มกราคม  ระหว่างทางฉันเปิด Google Maps เพื่อหาเส้นทาง แต่เกิดข้อผิดพลาด GPS signal not found ทำให้ต้องถามทางจากคนแถวนั้นแทน  \n",
            "เมื่อถึงห้างฯ ฉันเจอโปรโมชั่นพิเศษ ซื้อ iPhone 15 Pro Max รับส่วนลด 20 ถ้าชำระผ่านบัตรเครดิตของธนาคาร KBank  นอกจากนี้ยังมีร้านอาหารใหม่ที่ชื่อว่า ครัวในสวน ซึ่งเป็นร้านอาหารฟิวชันไทยญี่ปุ่น  ฉันสั่งราเมนต้มยำและชาเขียวมัทฉะ แต่พบว่าอาหารมาช้ากว่า 45 นาที  \n",
            "หลังจากนั้น ฉันเดินไปร้านหนังสือ SEED เพื่อหาหนังสือ Data Science ที่เขียนโดย Andrew Ng แต่กลับได้เล่มที่ชื่อ Python for Beginners แทน  พนักงานแจ้งว่าหนังสือที่ฉันต้องการหมดสต็อก \n",
            "ก่อนกลับ ฉันลองใช้บริการแชตบอตของ ICONSIAM เพื่อสอบถามที่จอดรถ โดยพิมพ์คำถามว่า ตอนนี้ที่จอดรถในโซน A ว่างไหม แต่บอทตอบผิดว่า มีที่จอดว่างทั้งหมด 100 คัน ทั้งที่โซนนั้นเต็มแล้ว  สุดท้าย ฉันจึงโทรติดต่อฝ่ายบริการลูกค้าเพื่อขอข้อมูลที่ถูกต้องแทน  \n",
            "วันนี้เป็นวันธรรมดา แต่ทำไมทุกอย่างถึงดูยุ่งยากไปหมดนะ  หรือว่า AI ที่เราใช้อยู่ทุกวันนี้ยังต้องปรับปรุงอีกเยอะ \n"
          ]
        }
      ]
    },
    {
      "cell_type": "markdown",
      "source": [
        "## Text Preprocessing (การเตรียมข้อความ)"
      ],
      "metadata": {
        "id": "VqluS07Iw9y_"
      }
    },
    {
      "cell_type": "markdown",
      "source": [
        "### การตัดคำ (Tokenization)"
      ],
      "metadata": {
        "id": "Awcz9XORm_fO"
      }
    },
    {
      "cell_type": "markdown",
      "source": [
        "#### pipe nlp"
      ],
      "metadata": {
        "id": "6ToyliuHw0xy"
      }
    },
    {
      "cell_type": "code",
      "source": [
        "!pip install \"pip<24.1\""
      ],
      "metadata": {
        "colab": {
          "base_uri": "https://localhost:8080/"
        },
        "id": "002FpFJxnR5t",
        "outputId": "5a588024-909a-4d76-9e89-f6b941a91645"
      },
      "execution_count": null,
      "outputs": [
        {
          "output_type": "stream",
          "name": "stdout",
          "text": [
            "Collecting pip<24.1\n",
            "  Downloading pip-24.0-py3-none-any.whl.metadata (3.6 kB)\n",
            "Downloading pip-24.0-py3-none-any.whl (2.1 MB)\n",
            "\u001b[?25l   \u001b[90m━━━━━━━━━━━━━━━━━━━━━━━━━━━━━━━━━━━━━━━━\u001b[0m \u001b[32m0.0/2.1 MB\u001b[0m \u001b[31m?\u001b[0m eta \u001b[36m-:--:--\u001b[0m\r\u001b[2K   \u001b[91m━━━━━━━━━━━━━━━━━━━━━━━━━━━━━━━━━━━━━━━\u001b[0m\u001b[91m╸\u001b[0m \u001b[32m2.1/2.1 MB\u001b[0m \u001b[31m77.5 MB/s\u001b[0m eta \u001b[36m0:00:01\u001b[0m\r\u001b[2K   \u001b[90m━━━━━━━━━━━━━━━━━━━━━━━━━━━━━━━━━━━━━━━━\u001b[0m \u001b[32m2.1/2.1 MB\u001b[0m \u001b[31m37.9 MB/s\u001b[0m eta \u001b[36m0:00:00\u001b[0m\n",
            "\u001b[?25hInstalling collected packages: pip\n",
            "  Attempting uninstall: pip\n",
            "    Found existing installation: pip 24.1.2\n",
            "    Uninstalling pip-24.1.2:\n",
            "      Successfully uninstalled pip-24.1.2\n",
            "Successfully installed pip-24.0\n"
          ]
        }
      ]
    },
    {
      "cell_type": "code",
      "source": [
        "!pip install pythainlp[full]"
      ],
      "metadata": {
        "id": "By3v0lR3nWuz"
      },
      "execution_count": null,
      "outputs": []
    },
    {
      "cell_type": "code",
      "source": [
        "!pip show pythainlp"
      ],
      "metadata": {
        "colab": {
          "base_uri": "https://localhost:8080/"
        },
        "id": "fbDauxoKnwP0",
        "outputId": "abb73d59-d8ba-4a62-92cd-deaacf519e9a"
      },
      "execution_count": null,
      "outputs": [
        {
          "output_type": "stream",
          "name": "stdout",
          "text": [
            "Name: pythainlp\n",
            "Version: 5.0.5\n",
            "Summary: Thai Natural Language Processing library\n",
            "Home-page: https://github.com/PyThaiNLP/pythainlp\n",
            "Author: PyThaiNLP\n",
            "Author-email: email@wannaphong.com\n",
            "License: Apache Software License 2.0\n",
            "Location: /usr/local/lib/python3.10/dist-packages\n",
            "Requires: requests\n",
            "Required-by: KhamYo, spacy-thai, thai-nner\n"
          ]
        }
      ]
    },
    {
      "cell_type": "markdown",
      "source": [
        "#### pipe deepcut"
      ],
      "metadata": {
        "id": "lzsSJaSexOIl"
      }
    },
    {
      "cell_type": "code",
      "source": [
        "!pip install deepcut"
      ],
      "metadata": {
        "id": "d2NY0FZDypSc"
      },
      "execution_count": null,
      "outputs": []
    },
    {
      "cell_type": "markdown",
      "source": [
        "#### pythainlp"
      ],
      "metadata": {
        "id": "egtHiIrUw7qZ"
      }
    },
    {
      "cell_type": "code",
      "source": [
        "from pythainlp import word_tokenize\n",
        "\n",
        "tokens_newmm = word_tokenize(text , engine=\"newmm\")\n",
        "tokens_deepcut = word_tokenize(text , engine=\"deepcut\")\n",
        "tokens_attacut = word_tokenize(text , engine=\"attacut\")\n",
        "\n",
        "\n",
        "print(\"newmm : \" , tokens_newmm)\n",
        "print(\"deepcut : \" , tokens_deepcut)\n",
        "print(\"attacut : \" , tokens_attacut)"
      ],
      "metadata": {
        "colab": {
          "base_uri": "https://localhost:8080/"
        },
        "id": "_wq0BdCOnA4P",
        "outputId": "8d747e06-0b26-45ec-b664-443eee64a13e"
      },
      "execution_count": null,
      "outputs": [
        {
          "output_type": "stream",
          "name": "stderr",
          "text": [
            "/usr/local/lib/python3.10/dist-packages/keras/src/layers/core/embedding.py:90: UserWarning: Argument `input_length` is deprecated. Just remove it.\n",
            "  warnings.warn(\n",
            "/usr/local/lib/python3.10/dist-packages/keras/src/layers/core/dense.py:87: UserWarning: Do not pass an `input_shape`/`input_dim` argument to a layer. When using Sequential models, prefer using an `Input(shape)` object as the first layer in the model instead.\n",
            "  super().__init__(activity_regularizer=activity_regularizer, **kwargs)\n"
          ]
        },
        {
          "output_type": "stream",
          "name": "stdout",
          "text": [
            "\u001b[1m33/33\u001b[0m \u001b[32m━━━━━━━━━━━━━━━━━━━━\u001b[0m\u001b[37m\u001b[0m \u001b[1m9s\u001b[0m 185ms/step\n"
          ]
        },
        {
          "output_type": "stream",
          "name": "stderr",
          "text": [
            "/usr/local/lib/python3.10/dist-packages/attacut/models/__init__.py:60: FutureWarning: You are using `torch.load` with `weights_only=False` (the current default value), which uses the default pickle module implicitly. It is possible to construct malicious pickle data which will execute arbitrary code during unpickling (See https://github.com/pytorch/pytorch/blob/main/SECURITY.md#untrusted-models for more details). In a future release, the default value for `weights_only` will be flipped to `True`. This limits the functions that could be executed during unpickling. Arbitrary objects will no longer be allowed to be loaded via this mode unless they are explicitly allowlisted by the user via `torch.serialization.add_safe_globals`. We recommend you start setting `weights_only=True` for any use case where you don't have full control of the loaded file. Please open an issue on GitHub for any issues related to this experimental feature.\n",
            "  model.load_state_dict(torch.load(model_path, map_location=\"cpu\"))\n"
          ]
        },
        {
          "output_type": "stream",
          "name": "stdout",
          "text": [
            "newmm :  ['เมื่อวาน', 'นี้', ' ', '5', ' ', 'มค', ' ', '2025', ' ', 'ฉัน', 'เดินทาง', 'ไป', 'ยัง', 'ศูนย์การค้า', ' ', 'ICONSIAM', ' ', 'เพื่อ', 'ซื้อ', 'ของขวัญ', 'วันเกิด', 'ให้', 'เพื่อน', 'ที่', 'ชื่อ', ' ', 'ออมสิน', ' ', 'ซึ่ง', 'เกิด', 'วันที่', ' ', '7', ' ', 'มกราคม', '  ', 'ระหว่างทาง', 'ฉัน', 'เปิด', ' ', 'Google', ' ', 'Maps', ' ', 'เพื่อ', 'หา', 'เส้นทาง', ' ', 'แต่', 'เกิด', 'ข้อผิดพลาด', ' ', 'GPS', ' ', 'signal', ' ', 'not', ' ', 'found', ' ', 'ทำให้', 'ต้อง', 'ถาม', 'ทาง', 'จาก', 'คน', 'แถว', 'นั้น', 'แทน', '  ', '\\n', 'เมื่อ', 'ถึง', 'ห้าง', 'ฯ', ' ', 'ฉัน', 'เจอ', 'โปรโมชั่น', 'พิเศษ', ' ', 'ซื้อ', ' ', 'iPhone', ' ', '15', ' ', 'Pro', ' ', 'Max', ' ', 'รับ', 'ส่วนลด', ' ', '20', ' ', 'ถ้า', 'ชำระ', 'ผ่าน', 'บัตรเครดิต', 'ของ', 'ธนาคาร', ' ', 'KBank', '  ', 'นอกจากนี้', 'ยังมี', 'ร้านอาหาร', 'ใหม่', 'ที่', 'ชื่อว่า', ' ', 'ครัว', 'ใน', 'สวน', ' ', 'ซึ่ง', 'เป็น', 'ร้านอาหาร', 'ฟิวชัน', 'ไทย', 'ญี่ปุ่น', '  ', 'ฉัน', 'สั่ง', 'ราเมน', 'ต้มยำ', 'และ', 'ชาเขียว', 'มัท', 'ฉะ', ' ', 'แต่', 'พบ', 'ว่า', 'อาหาร', 'มา', 'ช้า', 'กว่า', ' ', '45', ' ', 'นาที', '  ', '\\n', 'หลังจากนั้น', ' ', 'ฉัน', 'เดิน', 'ไป', 'ร้านหนังสือ', ' ', 'SEED', ' ', 'เพื่อ', 'หา', 'หนังสือ', ' ', 'Data', ' ', 'Science', ' ', 'ที่', 'เขียน', 'โดย', ' ', 'Andrew', ' ', 'Ng', ' ', 'แต่กลับ', 'ได้', 'เล่ม', 'ที่', 'ชื่อ', ' ', 'Python', ' ', 'for', ' ', 'Beginners', ' ', 'แทน', '  ', 'พนักงาน', 'แจ้ง', 'ว่า', 'หนังสือ', 'ที่', 'ฉัน', 'ต้องการ', 'หมด', 'สต็อก', ' ', '\\n', 'ก่อน', 'กลับ', ' ', 'ฉัน', 'ลอง', 'ใช้', 'บริการ', 'แชตบอต', 'ของ', ' ', 'ICONSIAM', ' ', 'เพื่อ', 'สอบถาม', 'ที่จอดรถ', ' ', 'โดย', 'พิมพ์', 'คำถาม', 'ว่า', ' ', 'ตอนนี้', 'ที่จอดรถ', 'ใน', 'โซน', ' ', 'A', ' ', 'ว่าง', 'ไหม', ' ', 'แต่', 'บอ', 'ท', 'ตอบ', 'ผิด', 'ว่า', ' ', 'มี', 'ที่', 'จอด', 'ว่าง', 'ทั้งหมด', ' ', '100', ' ', 'คัน', ' ', 'ทั้งที่', 'โซน', 'นั้น', 'เต็ม', 'แล้ว', '  ', 'สุดท้าย', ' ', 'ฉัน', 'จึง', 'โทร', 'ติดต่อ', 'ฝ่าย', 'บริการ', 'ลูกค้า', 'เพื่อ', 'ขอ', 'ข้อมูล', 'ที่', 'ถูกต้อง', 'แทน', '  ', '\\n', 'วันนี้', 'เป็น', 'วัน', 'ธรรมดา', ' ', 'แต่', 'ทำไม', 'ทุกอย่าง', 'ถึง', 'ดู', 'ยุ่งยาก', 'ไป', 'หมด', 'นะ', '  ', 'หรือว่า', ' ', 'AI', ' ', 'ที่', 'เรา', 'ใช้', 'อยู่', 'ทุกวันนี้', 'ยัง', 'ต้อง', 'ปรับปรุง', 'อีก', 'เยอะ', ' ']\n",
            "deepcut :  ['เมื่อ', 'วาน', 'นี้', ' ', '5', ' ', 'มค', ' ', '2025', ' ', 'ฉัน', 'เดินทาง', 'ไป', 'ยัง', 'ศูนย์การค้า ', 'ICONSIAM', ' ', 'เพื่อ', 'ซื้อ', 'ของขวัญ', 'วัน', 'เกิด', 'ให้', 'เพื่อน', 'ที่', 'ชื่อ', ' ', 'ออมสิน', ' ', 'ซึ่ง', 'เกิด', 'วัน', 'ที่', ' ', '7', ' ', 'มกราคม', ' ', ' ', 'ระหว่าง', 'ทาง', 'ฉัน', 'เปิด', ' ', 'Google', ' ', 'Maps', ' ', 'เพื่อ', 'หา', 'เส้นทาง', ' ', 'แต่', 'เกิด', 'ข้อ', 'ผิดพลาด', ' ', 'GPS', ' ', 'signal', ' ', 'not', ' ', 'found', ' ', 'ทำ', 'ให้', 'ต้อง', 'ถาม', 'ทาง', 'จาก', 'คน', 'แถว', 'นั้น', 'แทน', ' ', ' \\n', 'เมื่อ', 'ถึง', 'ห้าง', 'ฯ', ' ', 'ฉัน', 'เจอ', 'โปรโมชั่น', 'พิเศษ', ' ', 'ซื้อ', ' ', 'iPhone', ' ', '15', ' ', 'Pro', ' ', 'Max', ' ', 'รับ', 'ส่วน', 'ลด', ' ', '20', ' ', 'ถ้า', 'ชำระ', 'ผ่าน', 'บัตร', 'เครดิต', 'ของ', 'ธนาคาร', ' KBank', ' ', ' ', 'นอก', 'จาก', 'นี้', 'ยัง', 'มี', 'ร้าน', 'อาหาร', 'ใหม่', 'ที่', 'ชื่อ', 'ว่า', ' ', 'ครัว', 'ใน', 'สวน', ' ', 'ซึ่ง', 'เป็น', 'ร้าน', 'อาหาร', 'ฟิวชันไทย', 'ญี่ปุ่น', ' ', ' ', 'ฉัน', 'สั่ง', 'ราเมน', 'ต้มยำ', 'และ', 'ชาเขียว', 'มัทฉะ', ' ', 'แต่', 'พบ', 'ว่า', 'อาหาร', 'มา', 'ช้า', 'กว่า', ' ', '45', ' ', 'นาที', ' ', ' \\n', 'หลัง', 'จาก', 'นั้น', ' ', 'ฉัน', 'เดิน', 'ไป', 'ร้าน', 'หนังสือ', ' ', 'SEED', ' ', 'เพื่อ', 'หา', 'หนังสือ', ' ', 'Data', ' ', 'Science', ' ', 'ที่', 'เขียน', 'โดย', ' ', 'Andrew Ng', ' ', 'แต่', 'กลับ', 'ได้', 'เล่ม', 'ที่', 'ชื่อ', ' ', 'Python', ' ', 'for', ' ', 'Beginners', ' ', 'แทน', ' ', ' ', 'พนักงาน', 'แจ้ง', 'ว่า', 'หนังสือ', 'ที่', 'ฉัน', 'ต้องการ', 'หมด', 'สต็อก', ' \\n', 'ก่อน', 'กลับ', ' ', 'ฉัน', 'ลอง', 'ใช้', 'บริการ', 'แชตบอต', 'ของ', ' ', 'ICONSIAM', ' ', 'เพื่อ', 'สอบถาม', 'ที่', 'จอด', 'รถ', ' ', 'โดย', 'พิมพ์', 'คำ', 'ถาม', 'ว่า', ' ', 'ตอน', 'นี้', 'ที่', 'จอด', 'รถ', 'ใน', 'โซน', ' ', 'A', ' ', 'ว่าง', 'ไหม', ' ', 'แต่', 'บอท', 'ตอบ', 'ผิด', 'ว่า', ' ', 'มี', 'ที่', 'จอด', 'ว่าง', 'ทั้งหมด', ' ', '100', ' ', 'คัน', ' ', 'ทั้ง', 'ที่', 'โซน', 'นั้น', 'เต็ม', 'แล้ว', ' ', ' ', 'สุดท้าย', ' ', 'ฉัน', 'จึง', 'โทร', 'ติดต่อ', 'ฝ่าย', 'บริการ', 'ลูกค้า', 'เพื่อ', 'ขอ', 'ข้อมูล', 'ที่', 'ถูกต้อง', 'แทน', ' ', ' \\n', 'วัน', 'นี้', 'เป็น', 'วัน', 'ธรรมดา', ' ', 'แต่', 'ทำไม', 'ทุก', 'อย่าง', 'ถึง', 'ดู', 'ยุ่งยาก', 'ไป', 'หมด', 'นะ', ' ', ' ', 'หรือ', 'ว่า', ' ', 'AI', ' ', 'ที่', 'เรา', 'ใช้', 'อยู่', 'ทุก', 'วัน', 'นี้', 'ยัง', 'ต้อง', 'ปรับปรุง', 'อีก', 'เยอะ', ' ']\n",
            "attacut :  ['เมื่อ', 'วาน', 'นี้', ' ', '5', ' ', 'มค', ' ', '2025', ' ', 'ฉัน', 'เดินทาง', 'ไป', 'ยัง', 'ศูนย์การค้า ', 'ICONSIAM', ' ', 'เพื่อ', 'ซื้อ', 'ของขวัญ', 'วัน', 'เกิด', 'ให้', 'เพื่อน', 'ที่', 'ชื่อ', ' ', 'ออม', 'สิน', ' ', 'ซึ่ง', 'เกิด', 'วัน', 'ที่', ' ', '7', ' ', 'มกราคม', ' ', ' ', 'ระหว่าง', 'ทาง', 'ฉัน', 'เปิด', ' ', 'Google', ' ', 'Maps', ' ', 'เพื่อ', 'หา', 'เส้นทาง', ' ', 'แต่', 'เกิด', 'ข้อ', 'ผิดพลาด', ' ', 'GPS', ' ', 'signal', ' ', 'not', ' ', 'found', ' ', 'ทำ', 'ให้', 'ต้อง', 'ถาม', 'ทาง', 'จาก', 'คน', 'แถว', 'นั้น', 'แทน', ' ', ' ', '\\n', 'เมื่อ', 'ถึง', 'ห้างฯ', ' ', 'ฉัน', 'เจอ', 'โปรโมชั่นพิเศษ', ' ', 'ซื้อ', ' ', 'iPhone', ' ', '15', ' ', 'Pro', ' ', 'Max', ' ', 'รับ', 'ส่วน', 'ลด', ' ', '20', ' ', 'ถ้า', 'ชำระ', 'ผ่าน', 'บัตร', 'เครดิต', 'ของ', 'ธนาคาร ', 'KBank', ' ', ' ', 'นอก', 'จาก', 'นี้', 'ยัง', 'มี', 'ร้าน', 'อาหาร', 'ใหม่', 'ที่', 'ชื่อ', 'ว่า', ' ', 'ครัว', 'ใน', 'สวน', ' ', 'ซึ่ง', 'เป็น', 'ร้าน', 'อาหารฟิวชัน', 'ไทย', 'ญี่ปุ่น', ' ', ' ', 'ฉัน', 'สั่ง', 'ราเมนต้มยำ', 'และ', 'ชาเขียว', 'มัทฉะ', ' ', 'แต่', 'พบ', 'ว่า', 'อาหาร', 'มา', 'ช้า', 'กว่า', ' ', '45', ' ', 'นาที', ' ', ' ', '\\n', 'หลัง', 'จาก', 'นั้น', ' ', 'ฉัน', 'เดิน', 'ไป', 'ร้าน', 'หนังสือ', ' ', 'SEED', ' ', 'เพื่อ', 'หา', 'หนังสือ', ' ', 'Data', ' ', 'Science', ' ', 'ที่', 'เขียน', 'โดย', ' ', 'Andrew', ' ', 'Ng', ' ', 'แต่', 'กลับ', 'ได้', 'เล่ม', 'ที่', 'ชื่อ', ' ', 'Python', ' ', 'for', ' ', 'Beginners', ' ', 'แทน', ' ', ' ', 'พนักงาน', 'แจ้ง', 'ว่า', 'หนังสือ', 'ที่', 'ฉัน', 'ต้องการ', 'หมด', 'สต็อก', ' ', '\\n', 'ก่อน', 'กลับ', ' ', 'ฉัน', 'ลอง', 'ใช้', 'บริการ', 'แชตบอต', 'ของ', ' ', 'ICONSIAM', ' ', 'เพื่อ', 'สอบถาม', 'ที่', 'จอด', 'รถ', ' ', 'โดย', 'พิมพ์', 'คำ', 'ถาม', 'ว่า', ' ', 'ตอน', 'นี้', 'ที่', 'จอด', 'รถ', 'ใน', 'โซน', ' ', 'A', ' ', 'ว่าง', 'ไหม', ' ', 'แต่', 'บอท', 'ตอบ', 'ผิด', 'ว่า', ' ', 'มี', 'ที่', 'จอด', 'ว่าง', 'ทั้งหมด', ' ', '100', ' ', 'คัน', ' ', 'ทั้งที่', 'โซน', 'นั้น', 'เต็ม', 'แล้ว', ' ', ' ', 'สุดท้าย', ' ', 'ฉัน', 'จึง', 'โทร', 'ติดต่อ', 'ฝ่าย', 'บริการ', 'ลูกค้า', 'เพื่อ', 'ขอ', 'ข้อมูล', 'ที่', 'ถูกต้อง', 'แทน', ' ', ' ', '\\n', 'วัน', 'นี้', 'เป็น', 'วัน', 'ธรรมดา', ' ', 'แต่', 'ทำไม', 'ทุก', 'อย่าง', 'ถึง', 'ดู', 'ยุ่งยาก', 'ไป', 'หมดนะ', ' ', ' ', 'หรือ', 'ว่า', ' ', 'AI', ' ', 'ที่', 'เรา', 'ใช้', 'อยู่', 'ทุก', 'วัน', 'นี้', 'ยัง', 'ต้อง', 'ปรับปรุง', 'อีก', 'เยอะ', ' ']\n"
          ]
        }
      ]
    },
    {
      "cell_type": "markdown",
      "source": [
        "#### ai4thai"
      ],
      "metadata": {
        "id": "IG2v4_5r38gx"
      }
    },
    {
      "cell_type": "code",
      "source": [
        "import requests\n",
        "\n",
        "url ='https://api.aiforthai.in.th/lextoplus'\n",
        "\n",
        "headers = {'Apikey':\"wdMC9unRh2dCUgvVVWXHAdajHJzYZQEp\"}\n",
        "\n",
        "# text = 'พนักงานโรงแรมให้บริการต้อนรับดีมากก'\n",
        "\n",
        "params = {'text':text,'norm':'1'}\n",
        "\n",
        "response = requests.get(url, params=params, headers=headers)\n",
        "\n",
        "# แปลงผลลัพธ์เป็น JSON และดึงค่า 'tokens' จากผลลัพธ์\n",
        "result = response.json()\n",
        "\n",
        "# ตรวจสอบว่า 'tokens' มีอยู่ในผลลัพธ์หรือไม่\n",
        "if 'tokens' in result:\n",
        "    print(\"Tokens:\", result['tokens'])\n",
        "else:\n",
        "    print(\"No tokens found in the response.\")"
      ],
      "metadata": {
        "colab": {
          "base_uri": "https://localhost:8080/"
        },
        "id": "Ia9OEZ255tNP",
        "outputId": "621a92a2-fbb2-48ad-a6bc-59a42e7b8947"
      },
      "execution_count": null,
      "outputs": [
        {
          "output_type": "stream",
          "name": "stdout",
          "text": [
            "Tokens: ['เมื่อวาน', 'นี้', ' ', '5', ' ', 'มค', ' ', '2025', ' ', 'ฉัน', 'เดินทาง', 'ไป', 'ยัง', 'ศูนย์การค้า', ' ', 'ICONSIAM', ' ', 'เพื่อ', 'ซื้อของ', 'ขวัญ', 'วันเกิด', 'ให้', 'เพื่อน', 'ที่', 'ชื่อ', ' ', 'ออมสิน', ' ', 'ซึ่ง', 'เกิด', 'วันที่', ' ', '7', ' ', 'มกราคม', ' ', ' ', 'ระหว่างทาง', 'ฉัน', 'เปิด', ' ', 'Google', ' ', 'Maps', ' ', 'เพื่อ', 'หา', 'เส้นทาง', ' ', 'แต่', 'เกิด', 'ข้อผิดพลาด', ' ', 'GPS', ' ', 'signal', ' ', 'not', ' ', 'found', ' ', 'ทำให้', 'ต้อง', 'ถาม', 'ทาง', 'จาก', 'คน', 'แถว', 'นั้น', 'แทน', ' ', ' ', '\\n', 'เมื่อ', 'ถึง', 'ห้าง', 'ฯ', ' ', 'ฉัน', 'เจอ', 'โปรโมชั่น', 'พิเศษ', ' ', 'ซื้อ', ' ', 'iPhone', ' ', '15', ' ', 'Pro', ' ', 'Max', ' ', 'รับ', 'ส่วนลด', ' ', '20', ' ', 'ถ้า', 'ชำระ', 'ผ่าน', 'บัตรเครดิต', 'ของ', 'ธนาคาร', ' ', 'KBank', ' ', ' ', 'นอกจากนี้ยัง', 'มี', 'ร้านอาหาร', 'ใหม่', 'ที่', 'ชื่อว่า', ' ', 'ครัว', 'ใน', 'สวน', ' ', 'ซึ่ง', 'เป็น', 'ร้านอาหาร', 'ฟิวชัน', 'ไทย', 'ญี่ปุ่น', ' ', ' ', 'ฉัน', 'สั่ง', 'รา', 'เมน', 'ต้มยำ', 'และ', 'ชา', 'เขียว', 'มัท', 'ฉะ', ' ', 'แต่', 'พบ', 'ว่า', 'อาหาร', 'มา', 'ช้า', 'กว่า', ' ', '45', ' ', 'นาที', ' ', ' ', '\\n', 'หลังจากนั้น', ' ', 'ฉัน', 'เดิน', 'ไป', 'ร้านหนังสือ', ' ', 'S', 'EED', ' ', 'เพื่อ', 'หา', 'หนังสือ', ' ', 'Data', ' ', 'S', 'cience', ' ', 'ที่', 'เขียน', 'โดย', ' ', 'Andrew', ' ', 'Ng', ' ', 'แต่กลับ', 'ได้', 'เล่ม', 'ที่', 'ชื่อ', ' ', 'Python', ' ', 'for', ' ', 'Beginners', ' ', 'แทน', ' ', ' ', 'พนักงาน', 'แจ้ง', 'ว่า', 'หนังสือ', 'ที่', 'ฉัน', 'ต้องการ', 'หมด', 'สต็อก', ' ', '\\n', 'ก่อน', 'กลับ', ' ', 'ฉัน', 'ลอง', 'ใช้', 'บริการ', 'แช', 'ตบ', 'อต', 'ของ', ' ', 'ICONSIAM', ' ', 'เพื่อ', 'สอบถาม', 'ที่จอดรถ', ' ', 'โดย', 'พิมพ์', 'คำถาม', 'ว่า', ' ', 'ตอนนี้', 'ที่จอดรถ', 'ใน', 'โซน', ' ', 'A', ' ', 'ว่าง', 'ไหม', ' ', 'แต่', 'บอท', 'ตอบ', 'ผิด', 'ว่า', ' ', 'มี', 'ที่', 'จอด', 'ว่าง', 'ทั้งหมด', ' ', '100', ' ', 'คัน', ' ', 'ทั้งที่', 'โซน', 'นั้น', 'เต็ม', 'แล้ว', ' ', ' ', 'สุดท้าย', ' ', 'ฉัน', 'จึง', 'โทร', 'ติดต่อ', 'ฝ่าย', 'บริการ', 'ลูกค้า', 'เพื่อ', 'ขอ', 'ข้อมูลที่ถูกต้อง', 'แทน', ' ', ' ', '\\n', 'วันนี้', 'เป็น', 'วัน', 'ธรรมดา', ' ', 'แต่', 'ทำไม', 'ทุกอย่าง', 'ถึง', 'ดู', 'ยุ่งยาก', 'ไป', 'หมด', 'นะ', ' ', ' ', 'หรือว่า', ' ', 'AI', ' ', 'ที่', 'เรา', 'ใช้', 'อยู่', 'ทุกวันนี้', 'ยัง', 'ต้องปรับปรุง', 'อีก', 'เยอะ', ' ']\n"
          ]
        }
      ]
    },
    {
      "cell_type": "markdown",
      "source": [
        "#### ลบช่องว่างออก"
      ],
      "metadata": {
        "id": "CjYyA3WJpw8m"
      }
    },
    {
      "cell_type": "code",
      "source": [
        "tokens = [token for token in tokens_newmm if token.strip()]\n",
        "print(tokens)"
      ],
      "metadata": {
        "colab": {
          "base_uri": "https://localhost:8080/"
        },
        "id": "2UuM8j4WpyLK",
        "outputId": "f40c3813-24c1-41d4-f785-c7baf81049eb"
      },
      "execution_count": null,
      "outputs": [
        {
          "output_type": "stream",
          "name": "stdout",
          "text": [
            "['เมื่อวาน', 'นี้', '5', 'มค', '2025', 'ฉัน', 'เดินทาง', 'ไป', 'ยัง', 'ศูนย์การค้า', 'ICONSIAM', 'เพื่อ', 'ซื้อ', 'ของขวัญ', 'วันเกิด', 'ให้', 'เพื่อน', 'ที่', 'ชื่อ', 'ออมสิน', 'ซึ่ง', 'เกิด', 'วันที่', '7', 'มกราคม', 'ระหว่างทาง', 'ฉัน', 'เปิด', 'Google', 'Maps', 'เพื่อ', 'หา', 'เส้นทาง', 'แต่', 'เกิด', 'ข้อผิดพลาด', 'GPS', 'signal', 'not', 'found', 'ทำให้', 'ต้อง', 'ถาม', 'ทาง', 'จาก', 'คน', 'แถว', 'นั้น', 'แทน', 'เมื่อ', 'ถึง', 'ห้าง', 'ฯ', 'ฉัน', 'เจอ', 'โปรโมชั่น', 'พิเศษ', 'ซื้อ', 'iPhone', '15', 'Pro', 'Max', 'รับ', 'ส่วนลด', '20', 'ถ้า', 'ชำระ', 'ผ่าน', 'บัตรเครดิต', 'ของ', 'ธนาคาร', 'KBank', 'นอกจากนี้', 'ยังมี', 'ร้านอาหาร', 'ใหม่', 'ที่', 'ชื่อว่า', 'ครัว', 'ใน', 'สวน', 'ซึ่ง', 'เป็น', 'ร้านอาหาร', 'ฟิวชัน', 'ไทย', 'ญี่ปุ่น', 'ฉัน', 'สั่ง', 'ราเมน', 'ต้มยำ', 'และ', 'ชาเขียว', 'มัท', 'ฉะ', 'แต่', 'พบ', 'ว่า', 'อาหาร', 'มา', 'ช้า', 'กว่า', '45', 'นาที', 'หลังจากนั้น', 'ฉัน', 'เดิน', 'ไป', 'ร้านหนังสือ', 'SEED', 'เพื่อ', 'หา', 'หนังสือ', 'Data', 'Science', 'ที่', 'เขียน', 'โดย', 'Andrew', 'Ng', 'แต่กลับ', 'ได้', 'เล่ม', 'ที่', 'ชื่อ', 'Python', 'for', 'Beginners', 'แทน', 'พนักงาน', 'แจ้ง', 'ว่า', 'หนังสือ', 'ที่', 'ฉัน', 'ต้องการ', 'หมด', 'สต็อก', 'ก่อน', 'กลับ', 'ฉัน', 'ลอง', 'ใช้', 'บริการ', 'แชตบอต', 'ของ', 'ICONSIAM', 'เพื่อ', 'สอบถาม', 'ที่จอดรถ', 'โดย', 'พิมพ์', 'คำถาม', 'ว่า', 'ตอนนี้', 'ที่จอดรถ', 'ใน', 'โซน', 'A', 'ว่าง', 'ไหม', 'แต่', 'บอ', 'ท', 'ตอบ', 'ผิด', 'ว่า', 'มี', 'ที่', 'จอด', 'ว่าง', 'ทั้งหมด', '100', 'คัน', 'ทั้งที่', 'โซน', 'นั้น', 'เต็ม', 'แล้ว', 'สุดท้าย', 'ฉัน', 'จึง', 'โทร', 'ติดต่อ', 'ฝ่าย', 'บริการ', 'ลูกค้า', 'เพื่อ', 'ขอ', 'ข้อมูล', 'ที่', 'ถูกต้อง', 'แทน', 'วันนี้', 'เป็น', 'วัน', 'ธรรมดา', 'แต่', 'ทำไม', 'ทุกอย่าง', 'ถึง', 'ดู', 'ยุ่งยาก', 'ไป', 'หมด', 'นะ', 'หรือว่า', 'AI', 'ที่', 'เรา', 'ใช้', 'อยู่', 'ทุกวันนี้', 'ยัง', 'ต้อง', 'ปรับปรุง', 'อีก', 'เยอะ']\n"
          ]
        }
      ]
    },
    {
      "cell_type": "markdown",
      "source": [
        "#### แก้คำ"
      ],
      "metadata": {
        "id": "4MnLOPmzB1xd"
      }
    },
    {
      "cell_type": "code",
      "source": [
        "# สร้าง dictionary ที่เก็บคำที่ควรประกบ\n",
        "merge_dict = {\n",
        "    'มค' : 'มกราคม',\n",
        "    'มัท ฉะ': 'มัทฉะ',           # ชื่อเครื่องดื่ม\n",
        "    'บอ ท': 'บอท',              # คำทับศัพท์จาก bot\n",
        "    'ราเมน ต้มยำ': 'ราเมนต้มยำ',  # ชื่ออาหาร\n",
        "    'ห้าง ฯ': 'ห้างฯ',           # คำย่อ\n",
        "    'ชื่อ ว่า': 'ชื่อว่า',        # คำเชื่อม\n",
        "    'แต่ กลับ': 'แต่กลับ',       # คำเชื่อม\n",
        "    'Data Science': 'Data Science', # ชื่อสาขาวิชา\n",
        "    'หรือ ว่า': 'หรือว่า',        # คำเชื่อม\n",
        "    'นอกจาก นี้': 'นอกจากนี้',    # คำเชื่อม\n",
        "    '5 มค 2025': '5 ม.ค. 2025',   # การเขียนวันที่ให้ถูกต้อง\n",
        "    'SEED': 'SE-ED',              # แก้ไขการสะกดชื่อร้าน\n",
        "    'iPhone': 'iPhone',            # ยืนยันคำที่เป็นชื่อแบรนด์\n",
        "    'Pro': 'Pro',                  # ยืนยันคำที่เป็นชื่อรุ่น\n",
        "    'Max': 'Max',                  # ยืนยันคำที่เป็นชื่อรุ่น\n",
        "    'ICONSIAM': 'ICONSIAM',        # ยืนยันคำที่เป็นชื่อสถานที่\n",
        "    'GPS signal not found': 'GPS signal not found',  # คำทับศัพท์ที่ใช้ในภาษาอังกฤษ\n",
        "}\n"
      ],
      "metadata": {
        "id": "REeTLH31B4S5"
      },
      "execution_count": null,
      "outputs": []
    },
    {
      "cell_type": "code",
      "source": [
        "import re\n",
        "\n",
        "def merge_words(word_list, merge_dict):\n",
        "    # แปลงรายการคำเป็นข้อความ\n",
        "    text = ' '.join(word_list)\n",
        "\n",
        "    # ใช้ regex แทนการใช้ replace ทั่วไป เพื่อให้สามารถจัดการกับคำที่มีหลายคำได้\n",
        "    for key, value in merge_dict.items():\n",
        "        text = re.sub(r'\\b' + re.escape(key) + r'\\b', value, text)\n",
        "\n",
        "    # แยกข้อความกลับเป็นรายการคำ\n",
        "    return list(filter(None, text.split(' ')))"
      ],
      "metadata": {
        "id": "CoQLZ3SlEP0i"
      },
      "execution_count": null,
      "outputs": []
    },
    {
      "cell_type": "code",
      "source": [
        "merged_long = merge_words(tokens, merge_dict)\n",
        "print(merged_long)"
      ],
      "metadata": {
        "colab": {
          "base_uri": "https://localhost:8080/"
        },
        "id": "tLqhw60aGA0V",
        "outputId": "4ec2345d-5891-406f-e0f8-ebfedca42fd5"
      },
      "execution_count": null,
      "outputs": [
        {
          "output_type": "stream",
          "name": "stdout",
          "text": [
            "['เมื่อวาน', 'นี้', '5', 'มกราคม', '2025', 'ฉัน', 'เดินทาง', 'ไป', 'ยัง', 'ศูนย์การค้า', 'ICONSIAM', 'เพื่อ', 'ซื้อ', 'ของขวัญ', 'วันเกิด', 'ให้', 'เพื่อน', 'ที่', 'ชื่อ', 'ออมสิน', 'ซึ่ง', 'เกิด', 'วันที่', '7', 'มกราคม', 'ระหว่างทาง', 'ฉัน', 'เปิด', 'Google', 'Maps', 'เพื่อ', 'หา', 'เส้นทาง', 'แต่', 'เกิด', 'ข้อผิดพลาด', 'GPS', 'signal', 'not', 'found', 'ทำให้', 'ต้อง', 'ถาม', 'ทาง', 'จาก', 'คน', 'แถว', 'นั้น', 'แทน', 'เมื่อ', 'ถึง', 'ห้างฯ', 'ฉัน', 'เจอ', 'โปรโมชั่น', 'พิเศษ', 'ซื้อ', 'iPhone', '15', 'Pro', 'Max', 'รับ', 'ส่วนลด', '20', 'ถ้า', 'ชำระ', 'ผ่าน', 'บัตรเครดิต', 'ของ', 'ธนาคาร', 'KBank', 'นอกจากนี้', 'ยังมี', 'ร้านอาหาร', 'ใหม่', 'ที่', 'ชื่อว่า', 'ครัว', 'ใน', 'สวน', 'ซึ่ง', 'เป็น', 'ร้านอาหาร', 'ฟิวชัน', 'ไทย', 'ญี่ปุ่น', 'ฉัน', 'สั่ง', 'ราเมนต้มยำ', 'และ', 'ชาเขียว', 'มัทฉะ', 'แต่', 'พบ', 'ว่า', 'อาหาร', 'มา', 'ช้า', 'กว่า', '45', 'นาที', 'หลังจากนั้น', 'ฉัน', 'เดิน', 'ไป', 'ร้านหนังสือ', 'SE-ED', 'เพื่อ', 'หา', 'หนังสือ', 'Data', 'Science', 'ที่', 'เขียน', 'โดย', 'Andrew', 'Ng', 'แต่กลับ', 'ได้', 'เล่ม', 'ที่', 'ชื่อ', 'Python', 'for', 'Beginners', 'แทน', 'พนักงาน', 'แจ้ง', 'ว่า', 'หนังสือ', 'ที่', 'ฉัน', 'ต้องการ', 'หมด', 'สต็อก', 'ก่อน', 'กลับ', 'ฉัน', 'ลอง', 'ใช้', 'บริการ', 'แชตบอต', 'ของ', 'ICONSIAM', 'เพื่อ', 'สอบถาม', 'ที่จอดรถ', 'โดย', 'พิมพ์', 'คำถาม', 'ว่า', 'ตอนนี้', 'ที่จอดรถ', 'ใน', 'โซน', 'A', 'ว่าง', 'ไหม', 'แต่', 'บอท', 'ตอบ', 'ผิด', 'ว่า', 'มี', 'ที่', 'จอด', 'ว่าง', 'ทั้งหมด', '100', 'คัน', 'ทั้งที่', 'โซน', 'นั้น', 'เต็ม', 'แล้ว', 'สุดท้าย', 'ฉัน', 'จึง', 'โทร', 'ติดต่อ', 'ฝ่าย', 'บริการ', 'ลูกค้า', 'เพื่อ', 'ขอ', 'ข้อมูล', 'ที่', 'ถูกต้อง', 'แทน', 'วันนี้', 'เป็น', 'วัน', 'ธรรมดา', 'แต่', 'ทำไม', 'ทุกอย่าง', 'ถึง', 'ดู', 'ยุ่งยาก', 'ไป', 'หมด', 'นะ', 'หรือว่า', 'AI', 'ที่', 'เรา', 'ใช้', 'อยู่', 'ทุกวันนี้', 'ยัง', 'ต้อง', 'ปรับปรุง', 'อีก', 'เยอะ']\n"
          ]
        }
      ]
    },
    {
      "cell_type": "markdown",
      "source": [
        "### Lowercase"
      ],
      "metadata": {
        "id": "4UBPbhcf_1ih"
      }
    },
    {
      "cell_type": "code",
      "source": [
        "def lowercase_except_proper_nouns(word_list):\n",
        "    proper_nouns = [\n",
        "        'ICONSIAM', 'Google', 'Maps', 'GPS', 'iPhone', 'Pro', 'Max', 'KBank',\n",
        "        'SE-ED', 'Data', 'Science', 'Andrew', 'Ng', 'Python', 'Beginners', 'AI', 'A'\n",
        "    ]  # ชื่อเฉพาะที่ไม่ต้องแปลง\n",
        "    return [word.lower() if word not in proper_nouns else word for word in word_list]\n",
        "\n",
        "lowered_words = lowercase_except_proper_nouns(merged_long)\n",
        "print(lowered_words)\n"
      ],
      "metadata": {
        "colab": {
          "base_uri": "https://localhost:8080/"
        },
        "id": "Fm-AK1lMI5Uq",
        "outputId": "8436bd71-2677-4bb1-9a83-371aaf2cb435"
      },
      "execution_count": null,
      "outputs": [
        {
          "output_type": "stream",
          "name": "stdout",
          "text": [
            "['เมื่อวาน', 'นี้', '5', 'มกราคม', '2025', 'ฉัน', 'เดินทาง', 'ไป', 'ยัง', 'ศูนย์การค้า', 'ICONSIAM', 'เพื่อ', 'ซื้อ', 'ของขวัญ', 'วันเกิด', 'ให้', 'เพื่อน', 'ที่', 'ชื่อ', 'ออมสิน', 'ซึ่ง', 'เกิด', 'วันที่', '7', 'มกราคม', 'ระหว่างทาง', 'ฉัน', 'เปิด', 'Google', 'Maps', 'เพื่อ', 'หา', 'เส้นทาง', 'แต่', 'เกิด', 'ข้อผิดพลาด', 'GPS', 'signal', 'not', 'found', 'ทำให้', 'ต้อง', 'ถาม', 'ทาง', 'จาก', 'คน', 'แถว', 'นั้น', 'แทน', 'เมื่อ', 'ถึง', 'ห้างฯ', 'ฉัน', 'เจอ', 'โปรโมชั่น', 'พิเศษ', 'ซื้อ', 'iPhone', '15', 'Pro', 'Max', 'รับ', 'ส่วนลด', '20', 'ถ้า', 'ชำระ', 'ผ่าน', 'บัตรเครดิต', 'ของ', 'ธนาคาร', 'KBank', 'นอกจากนี้', 'ยังมี', 'ร้านอาหาร', 'ใหม่', 'ที่', 'ชื่อว่า', 'ครัว', 'ใน', 'สวน', 'ซึ่ง', 'เป็น', 'ร้านอาหาร', 'ฟิวชัน', 'ไทย', 'ญี่ปุ่น', 'ฉัน', 'สั่ง', 'ราเมนต้มยำ', 'และ', 'ชาเขียว', 'มัทฉะ', 'แต่', 'พบ', 'ว่า', 'อาหาร', 'มา', 'ช้า', 'กว่า', '45', 'นาที', 'หลังจากนั้น', 'ฉัน', 'เดิน', 'ไป', 'ร้านหนังสือ', 'SE-ED', 'เพื่อ', 'หา', 'หนังสือ', 'Data', 'Science', 'ที่', 'เขียน', 'โดย', 'Andrew', 'Ng', 'แต่กลับ', 'ได้', 'เล่ม', 'ที่', 'ชื่อ', 'Python', 'for', 'Beginners', 'แทน', 'พนักงาน', 'แจ้ง', 'ว่า', 'หนังสือ', 'ที่', 'ฉัน', 'ต้องการ', 'หมด', 'สต็อก', 'ก่อน', 'กลับ', 'ฉัน', 'ลอง', 'ใช้', 'บริการ', 'แชตบอต', 'ของ', 'ICONSIAM', 'เพื่อ', 'สอบถาม', 'ที่จอดรถ', 'โดย', 'พิมพ์', 'คำถาม', 'ว่า', 'ตอนนี้', 'ที่จอดรถ', 'ใน', 'โซน', 'A', 'ว่าง', 'ไหม', 'แต่', 'บอท', 'ตอบ', 'ผิด', 'ว่า', 'มี', 'ที่', 'จอด', 'ว่าง', 'ทั้งหมด', '100', 'คัน', 'ทั้งที่', 'โซน', 'นั้น', 'เต็ม', 'แล้ว', 'สุดท้าย', 'ฉัน', 'จึง', 'โทร', 'ติดต่อ', 'ฝ่าย', 'บริการ', 'ลูกค้า', 'เพื่อ', 'ขอ', 'ข้อมูล', 'ที่', 'ถูกต้อง', 'แทน', 'วันนี้', 'เป็น', 'วัน', 'ธรรมดา', 'แต่', 'ทำไม', 'ทุกอย่าง', 'ถึง', 'ดู', 'ยุ่งยาก', 'ไป', 'หมด', 'นะ', 'หรือว่า', 'AI', 'ที่', 'เรา', 'ใช้', 'อยู่', 'ทุกวันนี้', 'ยัง', 'ต้อง', 'ปรับปรุง', 'อีก', 'เยอะ']\n"
          ]
        }
      ]
    },
    {
      "cell_type": "markdown",
      "source": [
        "### Stop words"
      ],
      "metadata": {
        "id": "SHy6s688S0j6"
      }
    },
    {
      "cell_type": "code",
      "source": [
        "from pythainlp.corpus.common import thai_stopwords\n",
        "\n",
        "# ลบ stop words\n",
        "filtered_tokens = [word for word in lowered_words if word not in thai_stopwords()]\n",
        "\n",
        "print(\"ผลลัพธ์หลังลบ Stop Words:\", filtered_tokens)"
      ],
      "metadata": {
        "colab": {
          "base_uri": "https://localhost:8080/"
        },
        "id": "icnfk3A5_7aQ",
        "outputId": "286b79cf-a074-4e67-e0ea-2a42d4a4ae34"
      },
      "execution_count": null,
      "outputs": [
        {
          "output_type": "stream",
          "name": "stdout",
          "text": [
            "ผลลัพธ์หลังลบ Stop Words: ['5', 'มกราคม', '2025', 'เดินทาง', 'ศูนย์การค้า', 'ICONSIAM', 'ซื้อ', 'ของขวัญ', 'วันเกิด', 'เพื่อน', 'ชื่อ', 'ออมสิน', 'วันที่', '7', 'มกราคม', 'ระหว่างทาง', 'Google', 'Maps', 'หา', 'เส้นทาง', 'ข้อผิดพลาด', 'GPS', 'signal', 'not', 'found', 'ถาม', 'คน', 'แถว', 'แทน', 'ห้างฯ', 'เจอ', 'โปรโมชั่น', 'พิเศษ', 'ซื้อ', 'iPhone', '15', 'Pro', 'Max', 'ส่วนลด', '20', 'ชำระ', 'บัตรเครดิต', 'ธนาคาร', 'KBank', 'ยังมี', 'ร้านอาหาร', 'ชื่อว่า', 'ครัว', 'สวน', 'ร้านอาหาร', 'ฟิวชัน', 'ไทย', 'ญี่ปุ่น', 'สั่ง', 'ราเมนต้มยำ', 'ชาเขียว', 'มัทฉะ', 'อาหาร', '45', 'นาที', 'หลังจากนั้น', 'เดิน', 'ร้านหนังสือ', 'SE-ED', 'หา', 'หนังสือ', 'Data', 'Science', 'Andrew', 'Ng', 'แต่กลับ', 'เล่ม', 'ชื่อ', 'Python', 'for', 'Beginners', 'แทน', 'พนักงาน', 'แจ้ง', 'หนังสือ', 'ต้องการ', 'สต็อก', 'ลอง', 'บริการ', 'แชตบอต', 'ICONSIAM', 'สอบถาม', 'ที่จอดรถ', 'พิมพ์', 'คำถาม', 'ตอนนี้', 'ที่จอดรถ', 'โซน', 'A', 'ว่าง', 'ไหม', 'บอท', 'ตอบ', 'จอด', 'ว่าง', '100', 'คัน', 'โซน', 'เต็ม', 'สุดท้าย', 'โทร', 'ติดต่อ', 'บริการ', 'ลูกค้า', 'ข้อมูล', 'แทน', 'ธรรมดา', 'ดู', 'ยุ่งยาก', 'หรือว่า', 'AI', 'ปรับปรุง']\n"
          ]
        }
      ]
    },
    {
      "cell_type": "markdown",
      "source": [
        "## pythainlp : POS"
      ],
      "metadata": {
        "id": "3XSUhnJTBLWA"
      }
    },
    {
      "cell_type": "code",
      "source": [
        "from pythainlp.tag import pos_tag, pos_tag_sents\n",
        "\n",
        "pos_tags = pos_tag(filtered_tokens)"
      ],
      "metadata": {
        "id": "DTn427kzuw8n"
      },
      "execution_count": null,
      "outputs": []
    },
    {
      "cell_type": "code",
      "source": [
        "pos_dict = {\n",
        "    'NPRP': 'Proper noun',\n",
        "    'NCNM': 'Cardinal number',\n",
        "    'NONM': 'Ordinal number',\n",
        "    'NLBL': 'Label noun',\n",
        "    'NCMN': 'Common noun',\n",
        "    'NTTL': 'Title noun',\n",
        "    'PPRS': 'Personal pronoun',\n",
        "    'PDMN': 'Demonstrative pronoun',\n",
        "    'PNTR': 'Interrogative pronoun',\n",
        "    'PREL': 'Relative pronoun',\n",
        "    'VACT': 'Active verb',\n",
        "    'VSTA': 'Stative verb',\n",
        "    'VATT': 'Attributive verb',\n",
        "    'XVBM': 'Pre-verb auxiliary, before negator \"ไม่\"',\n",
        "    'XVAM': 'Pre-verb auxiliary, after negator \"ไม่\"',\n",
        "    'XVMM': 'Pre-verb, before or after negator \"ไม่\"',\n",
        "    'XVBB': 'Pre-verb auxiliary, in imperative mood',\n",
        "    'XVAE': 'Post-verb auxiliary',\n",
        "    'DDAN': 'Definite determiner, after noun without classifier in between',\n",
        "    'DDAC': 'Definite determiner, allowing classifier in between',\n",
        "    'DDBQ': 'Definite determiner, between noun and classifier or preceding quantitative expression',\n",
        "    'DDAQ': 'Definite determiner, following quantitative expression',\n",
        "    'DIAC': 'Indefinite determiner, following noun; allowing classifier in between',\n",
        "    'DIBQ': 'Indefinite determiner, between noun and classifier or preceding quantitative expression',\n",
        "    'DIAQ': 'Indefinite determiner, following quantitative expression',\n",
        "    'DCNM': 'Determiner, cardinal number expression',\n",
        "    'DONM': 'Determiner, ordinal number expression',\n",
        "    'ADVN': 'Adverb with normal form',\n",
        "    'ADVI': 'Adverb with iterative form',\n",
        "    'ADVP': 'Adverb with prefixed form',\n",
        "    'ADVS': 'Sentential adverb',\n",
        "    'CNIT': 'Unit classifier',\n",
        "    'CLTV': 'Collective classifier',\n",
        "    'CMTR': 'Measurement classifier',\n",
        "    'CFQC': 'Frequency classifier',\n",
        "    'CVBL': 'Verbal classifier',\n",
        "    'JCRG': 'Coordinating conjunction',\n",
        "    'JCMP': 'Comparative conjunction',\n",
        "    'JSBR': 'Subordinating conjunction',\n",
        "    'RPRE': 'Preposition',\n",
        "    'INT': 'Interjection',\n",
        "    'FIXN': 'Nominal prefix',\n",
        "    'FIXV': 'Adverbial prefix',\n",
        "    'EAFF': 'Ending for affirmative sentence',\n",
        "    'EITT': 'Ending for interrogative sentence',\n",
        "    'NEG': 'Negator',\n",
        "    'PUNC': 'Punctuation'\n",
        "}\n"
      ],
      "metadata": {
        "id": "cdcyDF1f2TWq"
      },
      "execution_count": null,
      "outputs": []
    },
    {
      "cell_type": "code",
      "source": [
        "predicted_tags = []\n",
        "\n",
        "for token, pos_tuple in zip(pos_tags, pos_tags):\n",
        "    pos = pos_tuple[1]  # แยกประเภทคำออกจาก tuple\n",
        "    tok = token[0]  # แยกคำออกจาก tuple\n",
        "    readable_pos = pos_dict.get(pos, pos)  # แปลง label ให้เป็นคำที่อ่านง่าย\n",
        "    predicted_tags.append(pos)  # เก็บผลลัพธ์ในรูปแบบ tuple\n",
        "    print(f\"คำ: {tok}, tag: {pos} , ประเภทคำ: {readable_pos}\")"
      ],
      "metadata": {
        "colab": {
          "base_uri": "https://localhost:8080/"
        },
        "collapsed": true,
        "id": "qxW0dqsA2dZ9",
        "outputId": "c452ab6b-b9fa-4b21-8a1f-fffa49aed858"
      },
      "execution_count": null,
      "outputs": [
        {
          "output_type": "stream",
          "name": "stdout",
          "text": [
            "คำ: 5, tag: NLBL , ประเภทคำ: Label noun\n",
            "คำ: มกราคม, tag: NCMN , ประเภทคำ: Common noun\n",
            "คำ: 2025, tag: NCNM , ประเภทคำ: Cardinal number\n",
            "คำ: เดินทาง, tag: VACT , ประเภทคำ: Active verb\n",
            "คำ: ศูนย์การค้า, tag: NCMN , ประเภทคำ: Common noun\n",
            "คำ: ICONSIAM, tag: NCMN , ประเภทคำ: Common noun\n",
            "คำ: ซื้อ, tag: VACT , ประเภทคำ: Active verb\n",
            "คำ: ของขวัญ, tag: NCMN , ประเภทคำ: Common noun\n",
            "คำ: วันเกิด, tag: NCMN , ประเภทคำ: Common noun\n",
            "คำ: เพื่อน, tag: VACT , ประเภทคำ: Active verb\n",
            "คำ: ชื่อ, tag: NCMN , ประเภทคำ: Common noun\n",
            "คำ: ออมสิน, tag: NCMN , ประเภทคำ: Common noun\n",
            "คำ: วันที่, tag: JSBR , ประเภทคำ: Subordinating conjunction\n",
            "คำ: 7, tag: NCNM , ประเภทคำ: Cardinal number\n",
            "คำ: มกราคม, tag: NCMN , ประเภทคำ: Common noun\n",
            "คำ: ระหว่างทาง, tag: CNIT , ประเภทคำ: Unit classifier\n",
            "คำ: Google, tag: NCMN , ประเภทคำ: Common noun\n",
            "คำ: Maps, tag: NCMN , ประเภทคำ: Common noun\n",
            "คำ: หา, tag: VACT , ประเภทคำ: Active verb\n",
            "คำ: เส้นทาง, tag: NCMN , ประเภทคำ: Common noun\n",
            "คำ: ข้อผิดพลาด, tag: NCMN , ประเภทคำ: Common noun\n",
            "คำ: GPS, tag: NCMN , ประเภทคำ: Common noun\n",
            "คำ: signal, tag: NCMN , ประเภทคำ: Common noun\n",
            "คำ: not, tag: NCMN , ประเภทคำ: Common noun\n",
            "คำ: found, tag: NCMN , ประเภทคำ: Common noun\n",
            "คำ: ถาม, tag: NCMN , ประเภทคำ: Common noun\n",
            "คำ: คน, tag: NCMN , ประเภทคำ: Common noun\n",
            "คำ: แถว, tag: NCMN , ประเภทคำ: Common noun\n",
            "คำ: แทน, tag: VSTA , ประเภทคำ: Stative verb\n",
            "คำ: ห้างฯ, tag: NCMN , ประเภทคำ: Common noun\n",
            "คำ: เจอ, tag: NCMN , ประเภทคำ: Common noun\n",
            "คำ: โปรโมชั่น, tag: NCMN , ประเภทคำ: Common noun\n",
            "คำ: พิเศษ, tag: VATT , ประเภทคำ: Attributive verb\n",
            "คำ: ซื้อ, tag: VACT , ประเภทคำ: Active verb\n",
            "คำ: iPhone, tag: NCMN , ประเภทคำ: Common noun\n",
            "คำ: 15, tag: DCNM , ประเภทคำ: Determiner, cardinal number expression\n",
            "คำ: Pro, tag: NCMN , ประเภทคำ: Common noun\n",
            "คำ: Max, tag: CMTR , ประเภทคำ: Measurement classifier\n",
            "คำ: ส่วนลด, tag: NCMN , ประเภทคำ: Common noun\n",
            "คำ: 20, tag: NCNM , ประเภทคำ: Cardinal number\n",
            "คำ: ชำระ, tag: CNIT , ประเภทคำ: Unit classifier\n",
            "คำ: บัตรเครดิต, tag: CMTR , ประเภทคำ: Measurement classifier\n",
            "คำ: ธนาคาร, tag: NCMN , ประเภทคำ: Common noun\n",
            "คำ: KBank, tag: NCMN , ประเภทคำ: Common noun\n",
            "คำ: ยังมี, tag: VACT , ประเภทคำ: Active verb\n",
            "คำ: ร้านอาหาร, tag: NCMN , ประเภทคำ: Common noun\n",
            "คำ: ชื่อว่า, tag: ADVN , ประเภทคำ: Adverb with normal form\n",
            "คำ: ครัว, tag: NCMN , ประเภทคำ: Common noun\n",
            "คำ: สวน, tag: NCMN , ประเภทคำ: Common noun\n",
            "คำ: ร้านอาหาร, tag: NCMN , ประเภทคำ: Common noun\n",
            "คำ: ฟิวชัน, tag: NCMN , ประเภทคำ: Common noun\n",
            "คำ: ไทย, tag: NPRP , ประเภทคำ: Proper noun\n",
            "คำ: ญี่ปุ่น, tag: NPRP , ประเภทคำ: Proper noun\n",
            "คำ: สั่ง, tag: VACT , ประเภทคำ: Active verb\n",
            "คำ: ราเมนต้มยำ, tag: NCMN , ประเภทคำ: Common noun\n",
            "คำ: ชาเขียว, tag: NCMN , ประเภทคำ: Common noun\n",
            "คำ: มัทฉะ, tag: NCMN , ประเภทคำ: Common noun\n",
            "คำ: อาหาร, tag: NCMN , ประเภทคำ: Common noun\n",
            "คำ: 45, tag: NCNM , ประเภทคำ: Cardinal number\n",
            "คำ: นาที, tag: CMTR , ประเภทคำ: Measurement classifier\n",
            "คำ: หลังจากนั้น, tag: JSBR , ประเภทคำ: Subordinating conjunction\n",
            "คำ: เดิน, tag: VACT , ประเภทคำ: Active verb\n",
            "คำ: ร้านหนังสือ, tag: NCMN , ประเภทคำ: Common noun\n",
            "คำ: SE-ED, tag: NCMN , ประเภทคำ: Common noun\n",
            "คำ: หา, tag: VACT , ประเภทคำ: Active verb\n",
            "คำ: หนังสือ, tag: NCMN , ประเภทคำ: Common noun\n",
            "คำ: Data, tag: NCMN , ประเภทคำ: Common noun\n",
            "คำ: Science, tag: NCMN , ประเภทคำ: Common noun\n",
            "คำ: Andrew, tag: NCMN , ประเภทคำ: Common noun\n",
            "คำ: Ng, tag: NCMN , ประเภทคำ: Common noun\n",
            "คำ: แต่กลับ, tag: VACT , ประเภทคำ: Active verb\n",
            "คำ: เล่ม, tag: NCMN , ประเภทคำ: Common noun\n",
            "คำ: ชื่อ, tag: NCMN , ประเภทคำ: Common noun\n",
            "คำ: Python, tag: NCMN , ประเภทคำ: Common noun\n",
            "คำ: for, tag: NCMN , ประเภทคำ: Common noun\n",
            "คำ: Beginners, tag: NCMN , ประเภทคำ: Common noun\n",
            "คำ: แทน, tag: VSTA , ประเภทคำ: Stative verb\n",
            "คำ: พนักงาน, tag: NCMN , ประเภทคำ: Common noun\n",
            "คำ: แจ้ง, tag: NCMN , ประเภทคำ: Common noun\n",
            "คำ: หนังสือ, tag: NCMN , ประเภทคำ: Common noun\n",
            "คำ: ต้องการ, tag: VACT , ประเภทคำ: Active verb\n",
            "คำ: สต็อก, tag: NCMN , ประเภทคำ: Common noun\n",
            "คำ: ลอง, tag: VACT , ประเภทคำ: Active verb\n",
            "คำ: บริการ, tag: VACT , ประเภทคำ: Active verb\n",
            "คำ: แชตบอต, tag: VACT , ประเภทคำ: Active verb\n",
            "คำ: ICONSIAM, tag: NCMN , ประเภทคำ: Common noun\n",
            "คำ: สอบถาม, tag: NCMN , ประเภทคำ: Common noun\n",
            "คำ: ที่จอดรถ, tag: NCMN , ประเภทคำ: Common noun\n",
            "คำ: พิมพ์, tag: VACT , ประเภทคำ: Active verb\n",
            "คำ: คำถาม, tag: NCMN , ประเภทคำ: Common noun\n",
            "คำ: ตอนนี้, tag: DDAC , ประเภทคำ: Definite determiner, allowing classifier in between\n",
            "คำ: ที่จอดรถ, tag: VACT , ประเภทคำ: Active verb\n",
            "คำ: โซน, tag: NCMN , ประเภทคำ: Common noun\n",
            "คำ: A, tag: NCMN , ประเภทคำ: Common noun\n",
            "คำ: ว่าง, tag: VSTA , ประเภทคำ: Stative verb\n",
            "คำ: ไหม, tag: NCMN , ประเภทคำ: Common noun\n",
            "คำ: บอท, tag: NCMN , ประเภทคำ: Common noun\n",
            "คำ: ตอบ, tag: VACT , ประเภทคำ: Active verb\n",
            "คำ: จอด, tag: NCMN , ประเภทคำ: Common noun\n",
            "คำ: ว่าง, tag: VSTA , ประเภทคำ: Stative verb\n",
            "คำ: 100, tag: DCNM , ประเภทคำ: Determiner, cardinal number expression\n",
            "คำ: คัน, tag: CNIT , ประเภทคำ: Unit classifier\n",
            "คำ: โซน, tag: CMTR , ประเภทคำ: Measurement classifier\n",
            "คำ: เต็ม, tag: VSTA , ประเภทคำ: Stative verb\n",
            "คำ: สุดท้าย, tag: DONM , ประเภทคำ: Determiner, ordinal number expression\n",
            "คำ: โทร, tag: NCMN , ประเภทคำ: Common noun\n",
            "คำ: ติดต่อ, tag: VACT , ประเภทคำ: Active verb\n",
            "คำ: บริการ, tag: VACT , ประเภทคำ: Active verb\n",
            "คำ: ลูกค้า, tag: NCMN , ประเภทคำ: Common noun\n",
            "คำ: ข้อมูล, tag: NCMN , ประเภทคำ: Common noun\n",
            "คำ: แทน, tag: VSTA , ประเภทคำ: Stative verb\n",
            "คำ: ธรรมดา, tag: VATT , ประเภทคำ: Attributive verb\n",
            "คำ: ดู, tag: VACT , ประเภทคำ: Active verb\n",
            "คำ: ยุ่งยาก, tag: VATT , ประเภทคำ: Attributive verb\n",
            "คำ: หรือว่า, tag: JSBR , ประเภทคำ: Subordinating conjunction\n",
            "คำ: AI, tag: NCMN , ประเภทคำ: Common noun\n",
            "คำ: ปรับปรุง, tag: VACT , ประเภทคำ: Active verb\n"
          ]
        }
      ]
    },
    {
      "cell_type": "code",
      "source": [
        "print(predicted_tags)"
      ],
      "metadata": {
        "colab": {
          "base_uri": "https://localhost:8080/"
        },
        "id": "D3ItixUAFMOb",
        "outputId": "c68795e8-2892-449d-987b-0410552cd8fc"
      },
      "execution_count": null,
      "outputs": [
        {
          "output_type": "stream",
          "name": "stdout",
          "text": [
            "['NLBL', 'NCMN', 'NCNM', 'VACT', 'NCMN', 'NCMN', 'VACT', 'NCMN', 'NCMN', 'VACT', 'NCMN', 'NCMN', 'JSBR', 'NCNM', 'NCMN', 'CNIT', 'NCMN', 'NCMN', 'VACT', 'NCMN', 'NCMN', 'NCMN', 'NCMN', 'NCMN', 'NCMN', 'NCMN', 'NCMN', 'NCMN', 'VSTA', 'NCMN', 'NCMN', 'NCMN', 'VATT', 'VACT', 'NCMN', 'DCNM', 'NCMN', 'CMTR', 'NCMN', 'NCNM', 'CNIT', 'CMTR', 'NCMN', 'NCMN', 'VACT', 'NCMN', 'ADVN', 'NCMN', 'NCMN', 'NCMN', 'NCMN', 'NPRP', 'NPRP', 'VACT', 'NCMN', 'NCMN', 'NCMN', 'NCMN', 'NCNM', 'CMTR', 'JSBR', 'VACT', 'NCMN', 'NCMN', 'VACT', 'NCMN', 'NCMN', 'NCMN', 'NCMN', 'NCMN', 'VACT', 'NCMN', 'NCMN', 'NCMN', 'NCMN', 'NCMN', 'VSTA', 'NCMN', 'NCMN', 'NCMN', 'VACT', 'NCMN', 'VACT', 'VACT', 'VACT', 'NCMN', 'NCMN', 'NCMN', 'VACT', 'NCMN', 'DDAC', 'VACT', 'NCMN', 'NCMN', 'VSTA', 'NCMN', 'NCMN', 'VACT', 'NCMN', 'VSTA', 'DCNM', 'CNIT', 'CMTR', 'VSTA', 'DONM', 'NCMN', 'VACT', 'VACT', 'NCMN', 'NCMN', 'VSTA', 'VATT', 'VACT', 'VATT', 'JSBR', 'NCMN', 'VACT']\n"
          ]
        }
      ]
    },
    {
      "cell_type": "code",
      "source": [
        "from sklearn.metrics import classification_report\n",
        "\n",
        "true_tags = ['NCNM', 'NCNM', 'NCNM', 'VACT', 'NCMN', 'NPRP', 'VACT', 'NCMN', 'NCMN', 'NCMN', 'NCMN', 'NPRP', 'NCMN', 'NCNM', 'NCMN', 'ADVN', 'NPRP', 'NPRP', 'VACT', 'NCMN', 'NCMN', 'NPRP', 'NPRP', 'NPRP', 'NPRP', 'VACT', 'NCMN', 'NCMN', 'ADVN', 'NCMN', 'VSTA', 'NCMN', 'VATT', 'VACT', 'NPRP', 'NCNM', 'NPRP', 'NPRP', 'NCMN', 'NCNM', 'VACT', 'NCMN', 'NCMN', 'NPRP', 'VSTA', 'NCMN', 'VSTA', 'NCMN', 'NCMN', 'NCMN', 'NPRP', 'NPRP', 'NPRP', 'VACT', 'NCMN', 'NCMN', 'NPRP', 'NCMN', 'NCNM', 'NCMN', 'ADVN', 'VACT', 'NCMN', 'NPRP', 'VACT', 'NCMN', 'NPRP', 'NPRP', 'NPRP', 'NPRP', 'VSTA', 'NCMN', 'NCMN', 'NPRP', 'NPRP', 'NPRP', 'ADVN', 'NCMN', 'VACT', 'NCMN', 'VSTA', 'NCMN', 'VACT', 'NCMN', 'NCMN', 'NPRP', 'VACT', 'NCMN', 'VACT', 'NCMN', 'ADVN', 'NCMN', 'NCMN', 'NPRP', 'VSTA', 'PUNC', 'NCMN', 'VACT', 'VSTA', 'VSTA', 'NCNM', 'NCMN', 'NCMN', 'VSTA', 'ADVN', 'VACT', 'VACT', 'NCMN', 'NCMN', 'NCMN', 'ADVN', 'VATT', 'VACT', 'VATT', 'JSBR', 'NPRP', 'VACT']\n",
        "\n",
        "predicted_tags =  ['NLBL', 'NCMN', 'NCNM', 'VACT', 'NCMN', 'NCMN', 'VACT', 'NCMN', 'NCMN', 'VACT', 'NCMN', 'NCMN', 'JSBR', 'NCNM', 'NCMN', 'CNIT', 'NCMN', 'NCMN', 'VACT', 'NCMN', 'NCMN', 'NCMN', 'NCMN', 'NCMN', 'NCMN', 'NCMN', 'NCMN', 'NCMN', 'VSTA', 'NCMN', 'NCMN', 'NCMN', 'VATT', 'VACT', 'NCMN', 'DCNM', 'NCMN', 'CMTR', 'NCMN', 'NCNM', 'CNIT', 'CMTR', 'NCMN', 'NCMN', 'VACT', 'NCMN', 'ADVN', 'NCMN', 'NCMN', 'NCMN', 'NCMN', 'NPRP', 'NPRP', 'VACT', 'NCMN', 'NCMN', 'NCMN', 'NCMN', 'NCNM', 'CMTR', 'JSBR', 'VACT', 'NCMN', 'NCMN', 'VACT', 'NCMN', 'NCMN', 'NCMN', 'NCMN', 'NCMN', 'VACT', 'NCMN', 'NCMN', 'NCMN', 'NCMN', 'NCMN', 'VSTA', 'NCMN', 'NCMN', 'NCMN', 'VACT', 'NCMN', 'VACT', 'VACT', 'VACT', 'NCMN', 'NCMN', 'NCMN', 'VACT', 'NCMN', 'DDAC', 'VACT', 'NCMN', 'NCMN', 'VSTA', 'NCMN', 'NCMN', 'VACT', 'NCMN', 'VSTA', 'DCNM', 'CNIT', 'CMTR', 'VSTA', 'DONM', 'NCMN', 'VACT', 'VACT', 'NCMN', 'NCMN', 'VSTA', 'VATT', 'VACT', 'VATT', 'JSBR', 'NCMN', 'VACT']\n",
        "\n",
        "# รายงานผลลัพธ์\n",
        "print(classification_report(true_tags, predicted_tags))"
      ],
      "metadata": {
        "colab": {
          "base_uri": "https://localhost:8080/"
        },
        "id": "zTQV9JsxCjbN",
        "outputId": "2e4690f2-49ad-4297-a4e0-43b2023e87cd"
      },
      "execution_count": null,
      "outputs": [
        {
          "output_type": "stream",
          "name": "stdout",
          "text": [
            "              precision    recall  f1-score   support\n",
            "\n",
            "        ADVN       0.00      0.00      0.00         7\n",
            "        CMTR       0.00      0.00      0.00         0\n",
            "        CNIT       0.00      0.00      0.00         0\n",
            "        DCNM       0.00      0.00      0.00         0\n",
            "        DDAC       0.00      0.00      0.00         0\n",
            "        DONM       0.00      0.00      0.00         0\n",
            "        JSBR       0.33      1.00      0.50         1\n",
            "        NCMN       0.51      0.77      0.61        43\n",
            "        NCNM       1.00      0.50      0.67         8\n",
            "        NLBL       0.00      0.00      0.00         0\n",
            "        NPRP       1.00      0.07      0.14        27\n",
            "        PUNC       0.00      0.00      0.00         1\n",
            "        VACT       0.62      0.72      0.67        18\n",
            "        VATT       1.00      1.00      1.00         3\n",
            "        VSTA       0.50      0.33      0.40         9\n",
            "\n",
            "    accuracy                           0.50       117\n",
            "   macro avg       0.33      0.29      0.27       117\n",
            "weighted avg       0.65      0.50      0.47       117\n",
            "\n"
          ]
        },
        {
          "output_type": "stream",
          "name": "stderr",
          "text": [
            "/usr/local/lib/python3.10/dist-packages/sklearn/metrics/_classification.py:1565: UndefinedMetricWarning: Precision is ill-defined and being set to 0.0 in labels with no predicted samples. Use `zero_division` parameter to control this behavior.\n",
            "  _warn_prf(average, modifier, f\"{metric.capitalize()} is\", len(result))\n",
            "/usr/local/lib/python3.10/dist-packages/sklearn/metrics/_classification.py:1565: UndefinedMetricWarning: Recall is ill-defined and being set to 0.0 in labels with no true samples. Use `zero_division` parameter to control this behavior.\n",
            "  _warn_prf(average, modifier, f\"{metric.capitalize()} is\", len(result))\n",
            "/usr/local/lib/python3.10/dist-packages/sklearn/metrics/_classification.py:1565: UndefinedMetricWarning: Precision is ill-defined and being set to 0.0 in labels with no predicted samples. Use `zero_division` parameter to control this behavior.\n",
            "  _warn_prf(average, modifier, f\"{metric.capitalize()} is\", len(result))\n",
            "/usr/local/lib/python3.10/dist-packages/sklearn/metrics/_classification.py:1565: UndefinedMetricWarning: Recall is ill-defined and being set to 0.0 in labels with no true samples. Use `zero_division` parameter to control this behavior.\n",
            "  _warn_prf(average, modifier, f\"{metric.capitalize()} is\", len(result))\n",
            "/usr/local/lib/python3.10/dist-packages/sklearn/metrics/_classification.py:1565: UndefinedMetricWarning: Precision is ill-defined and being set to 0.0 in labels with no predicted samples. Use `zero_division` parameter to control this behavior.\n",
            "  _warn_prf(average, modifier, f\"{metric.capitalize()} is\", len(result))\n",
            "/usr/local/lib/python3.10/dist-packages/sklearn/metrics/_classification.py:1565: UndefinedMetricWarning: Recall is ill-defined and being set to 0.0 in labels with no true samples. Use `zero_division` parameter to control this behavior.\n",
            "  _warn_prf(average, modifier, f\"{metric.capitalize()} is\", len(result))\n"
          ]
        }
      ]
    },
    {
      "cell_type": "code",
      "source": [
        "# เปรียบเทียบ true tags กับ predicted tags\n",
        "for i, (true_tag, predicted_tag) in enumerate(zip(true_tags, predicted_tags)):\n",
        "    if true_tag != predicted_tag:\n",
        "        print(f\"ตำแหน่ง {i}: คำ '{filtered_tokens[i]}' จริง: {true_tag}, ทำนาย: {predicted_tag}\")"
      ],
      "metadata": {
        "colab": {
          "base_uri": "https://localhost:8080/"
        },
        "id": "YgtrfA2qQlCx",
        "outputId": "7cfc8250-c10f-4f7b-b1f6-65e908ec3e5b"
      },
      "execution_count": null,
      "outputs": [
        {
          "output_type": "stream",
          "name": "stdout",
          "text": [
            "ตำแหน่ง 0: คำ '5' จริง: NCNM, ทำนาย: NLBL\n",
            "ตำแหน่ง 1: คำ 'มกราคม' จริง: NCNM, ทำนาย: NCMN\n",
            "ตำแหน่ง 5: คำ 'ICONSIAM' จริง: NPRP, ทำนาย: NCMN\n",
            "ตำแหน่ง 9: คำ 'เพื่อน' จริง: NCMN, ทำนาย: VACT\n",
            "ตำแหน่ง 11: คำ 'ออมสิน' จริง: NPRP, ทำนาย: NCMN\n",
            "ตำแหน่ง 12: คำ 'วันที่' จริง: NCMN, ทำนาย: JSBR\n",
            "ตำแหน่ง 15: คำ 'ระหว่างทาง' จริง: ADVN, ทำนาย: CNIT\n",
            "ตำแหน่ง 16: คำ 'Google' จริง: NPRP, ทำนาย: NCMN\n",
            "ตำแหน่ง 17: คำ 'Maps' จริง: NPRP, ทำนาย: NCMN\n",
            "ตำแหน่ง 21: คำ 'GPS' จริง: NPRP, ทำนาย: NCMN\n",
            "ตำแหน่ง 22: คำ 'signal' จริง: NPRP, ทำนาย: NCMN\n",
            "ตำแหน่ง 23: คำ 'not' จริง: NPRP, ทำนาย: NCMN\n",
            "ตำแหน่ง 24: คำ 'found' จริง: NPRP, ทำนาย: NCMN\n",
            "ตำแหน่ง 25: คำ 'ถาม' จริง: VACT, ทำนาย: NCMN\n",
            "ตำแหน่ง 28: คำ 'แทน' จริง: ADVN, ทำนาย: VSTA\n",
            "ตำแหน่ง 30: คำ 'เจอ' จริง: VSTA, ทำนาย: NCMN\n",
            "ตำแหน่ง 34: คำ 'iPhone' จริง: NPRP, ทำนาย: NCMN\n",
            "ตำแหน่ง 35: คำ '15' จริง: NCNM, ทำนาย: DCNM\n",
            "ตำแหน่ง 36: คำ 'Pro' จริง: NPRP, ทำนาย: NCMN\n",
            "ตำแหน่ง 37: คำ 'Max' จริง: NPRP, ทำนาย: CMTR\n",
            "ตำแหน่ง 40: คำ 'ชำระ' จริง: VACT, ทำนาย: CNIT\n",
            "ตำแหน่ง 41: คำ 'บัตรเครดิต' จริง: NCMN, ทำนาย: CMTR\n",
            "ตำแหน่ง 43: คำ 'KBank' จริง: NPRP, ทำนาย: NCMN\n",
            "ตำแหน่ง 44: คำ 'ยังมี' จริง: VSTA, ทำนาย: VACT\n",
            "ตำแหน่ง 46: คำ 'ชื่อว่า' จริง: VSTA, ทำนาย: ADVN\n",
            "ตำแหน่ง 50: คำ 'ฟิวชัน' จริง: NPRP, ทำนาย: NCMN\n",
            "ตำแหน่ง 56: คำ 'มัทฉะ' จริง: NPRP, ทำนาย: NCMN\n",
            "ตำแหน่ง 59: คำ 'นาที' จริง: NCMN, ทำนาย: CMTR\n",
            "ตำแหน่ง 60: คำ 'หลังจากนั้น' จริง: ADVN, ทำนาย: JSBR\n",
            "ตำแหน่ง 63: คำ 'SE-ED' จริง: NPRP, ทำนาย: NCMN\n",
            "ตำแหน่ง 66: คำ 'Data' จริง: NPRP, ทำนาย: NCMN\n",
            "ตำแหน่ง 67: คำ 'Science' จริง: NPRP, ทำนาย: NCMN\n",
            "ตำแหน่ง 68: คำ 'Andrew' จริง: NPRP, ทำนาย: NCMN\n",
            "ตำแหน่ง 69: คำ 'Ng' จริง: NPRP, ทำนาย: NCMN\n",
            "ตำแหน่ง 70: คำ 'แต่กลับ' จริง: VSTA, ทำนาย: VACT\n",
            "ตำแหน่ง 73: คำ 'Python' จริง: NPRP, ทำนาย: NCMN\n",
            "ตำแหน่ง 74: คำ 'for' จริง: NPRP, ทำนาย: NCMN\n",
            "ตำแหน่ง 75: คำ 'Beginners' จริง: NPRP, ทำนาย: NCMN\n",
            "ตำแหน่ง 76: คำ 'แทน' จริง: ADVN, ทำนาย: VSTA\n",
            "ตำแหน่ง 78: คำ 'แจ้ง' จริง: VACT, ทำนาย: NCMN\n",
            "ตำแหน่ง 80: คำ 'ต้องการ' จริง: VSTA, ทำนาย: VACT\n",
            "ตำแหน่ง 83: คำ 'บริการ' จริง: NCMN, ทำนาย: VACT\n",
            "ตำแหน่ง 84: คำ 'แชตบอต' จริง: NCMN, ทำนาย: VACT\n",
            "ตำแหน่ง 85: คำ 'ICONSIAM' จริง: NPRP, ทำนาย: NCMN\n",
            "ตำแหน่ง 86: คำ 'สอบถาม' จริง: VACT, ทำนาย: NCMN\n",
            "ตำแหน่ง 90: คำ 'ตอนนี้' จริง: ADVN, ทำนาย: DDAC\n",
            "ตำแหน่ง 91: คำ 'ที่จอดรถ' จริง: NCMN, ทำนาย: VACT\n",
            "ตำแหน่ง 93: คำ 'A' จริง: NPRP, ทำนาย: NCMN\n",
            "ตำแหน่ง 95: คำ 'ไหม' จริง: PUNC, ทำนาย: NCMN\n",
            "ตำแหน่ง 98: คำ 'จอด' จริง: VSTA, ทำนาย: NCMN\n",
            "ตำแหน่ง 100: คำ '100' จริง: NCNM, ทำนาย: DCNM\n",
            "ตำแหน่ง 101: คำ 'คัน' จริง: NCMN, ทำนาย: CNIT\n",
            "ตำแหน่ง 102: คำ 'โซน' จริง: NCMN, ทำนาย: CMTR\n",
            "ตำแหน่ง 104: คำ 'สุดท้าย' จริง: ADVN, ทำนาย: DONM\n",
            "ตำแหน่ง 105: คำ 'โทร' จริง: VACT, ทำนาย: NCMN\n",
            "ตำแหน่ง 107: คำ 'บริการ' จริง: NCMN, ทำนาย: VACT\n",
            "ตำแหน่ง 110: คำ 'แทน' จริง: ADVN, ทำนาย: VSTA\n",
            "ตำแหน่ง 115: คำ 'AI' จริง: NPRP, ทำนาย: NCMN\n"
          ]
        }
      ]
    },
    {
      "cell_type": "markdown",
      "source": [
        "## NER"
      ],
      "metadata": {
        "id": "gJ1llb4GTJ5W"
      }
    },
    {
      "cell_type": "code",
      "source": [
        "!pip install --upgrade pythainlp"
      ],
      "metadata": {
        "colab": {
          "base_uri": "https://localhost:8080/"
        },
        "id": "XYj56_PJM1EI",
        "outputId": "f33c8466-3d07-4a1a-84b0-e7987b87cd61"
      },
      "execution_count": null,
      "outputs": [
        {
          "output_type": "stream",
          "name": "stdout",
          "text": [
            "Requirement already satisfied: pythainlp in /usr/local/lib/python3.10/dist-packages (5.0.5)\n",
            "Requirement already satisfied: requests>=2.22.0 in /usr/local/lib/python3.10/dist-packages (from pythainlp) (2.32.3)\n",
            "Requirement already satisfied: charset-normalizer<4,>=2 in /usr/local/lib/python3.10/dist-packages (from requests>=2.22.0->pythainlp) (3.4.1)\n",
            "Requirement already satisfied: idna<4,>=2.5 in /usr/local/lib/python3.10/dist-packages (from requests>=2.22.0->pythainlp) (3.10)\n",
            "Requirement already satisfied: urllib3<3,>=1.21.1 in /usr/local/lib/python3.10/dist-packages (from requests>=2.22.0->pythainlp) (2.3.0)\n",
            "Requirement already satisfied: certifi>=2017.4.17 in /usr/local/lib/python3.10/dist-packages (from requests>=2.22.0->pythainlp) (2024.12.14)\n",
            "\u001b[33mDEPRECATION: omegaconf 2.0.6 has a non-standard dependency specifier PyYAML>=5.1.*. pip 24.1 will enforce this behaviour change. A possible replacement is to upgrade to a newer version of omegaconf or contact the author to suggest that they release a version with a conforming dependency specifiers. Discussion can be found at https://github.com/pypa/pip/issues/12063\u001b[0m\u001b[33m\n",
            "\u001b[0m"
          ]
        }
      ]
    },
    {
      "cell_type": "code",
      "source": [
        "from pythainlp.tag import NER\n",
        "\n",
        "# สร้าง NER object\n",
        "ner = NER()\n",
        "\n",
        "# รวมคำกลับเป็นประโยค\n",
        "text = \"  \".join(filtered_tokens)\n",
        "\n",
        "# แสดงผลลัพธ์\n",
        "print(\"Text: \", text)\n",
        "\n",
        "# ทำ Named Entity Recognition (NER)\n",
        "entities = ner.tag(text)\n",
        "\n",
        "print(\"NER Output:\", entities)"
      ],
      "metadata": {
        "colab": {
          "base_uri": "https://localhost:8080/"
        },
        "id": "exlvzXAHKTU0",
        "outputId": "e47c8874-caa2-4492-9804-f88e3a30d89e"
      },
      "execution_count": null,
      "outputs": [
        {
          "output_type": "stream",
          "name": "stdout",
          "text": [
            "Text:  5  มกราคม  2025  เดินทาง  ศูนย์การค้า  ICONSIAM  ซื้อ  ของขวัญ  วันเกิด  เพื่อน  ชื่อ  ออมสิน  วันที่  7  มกราคม  ระหว่างทาง  Google  Maps  หา  เส้นทาง  ข้อผิดพลาด  GPS  signal  not  found  ถาม  คน  แถว  แทน  ห้างฯ  เจอ  โปรโมชั่น  พิเศษ  ซื้อ  iPhone  15  Pro  Max  ส่วนลด  20  ชำระ  บัตรเครดิต  ธนาคาร  KBank  ยังมี  ร้านอาหาร  ชื่อว่า  ครัว  สวน  ร้านอาหาร  ฟิวชัน  ไทย  ญี่ปุ่น  สั่ง  ราเมนต้มยำ  ชาเขียว  มัทฉะ  อาหาร  45  นาที  หลังจากนั้น  เดิน  ร้านหนังสือ  SE-ED  หา  หนังสือ  Data  Science  Andrew  Ng  แต่กลับ  เล่ม  ชื่อ  Python  for  Beginners  แทน  พนักงาน  แจ้ง  หนังสือ  ต้องการ  สต็อก  ลอง  บริการ  แชตบอต  ICONSIAM  สอบถาม  ที่จอดรถ  พิมพ์  คำถาม  ตอนนี้  ที่จอดรถ  โซน  A  ว่าง  ไหม  บอท  ตอบ  จอด  ว่าง  100  คัน  โซน  เต็ม  สุดท้าย  โทร  ติดต่อ  บริการ  ลูกค้า  ข้อมูล  แทน  ธรรมดา  ดู  ยุ่งยาก  หรือว่า  AI  ปรับปรุง\n",
            "NER Output: [('5', 'B-DATE'), (' ', 'I-DATE'), (' ', 'I-DATE'), ('มกราคม', 'I-DATE'), (' ', 'I-DATE'), (' ', 'I-DATE'), ('20', 'I-DATE'), ('25', 'O'), (' ', 'O'), (' ', 'O'), ('เดินทาง', 'O'), (' ', 'O'), (' ', 'O'), ('ศูนย์การค้', 'B-LOCATION'), ('า', 'I-LOCATION'), (' ', 'O'), (' ', 'O'), ('<unk>', 'O'), (' ', 'O'), (' ', 'O'), ('ซื้อ', 'O'), (' ', 'O'), (' ', 'O'), ('ของขวัญ', 'O'), (' ', 'O'), (' ', 'O'), ('วันเกิด', 'O'), (' ', 'O'), (' ', 'O'), ('เพื่อน', 'O'), (' ', 'O'), (' ', 'O'), ('ชื่อ', 'O'), (' ', 'O'), (' ', 'O'), ('ออมสิน', 'O'), (' ', 'O'), (' ', 'O'), ('วันที่', 'O'), (' ', 'O'), (' ', 'O'), ('7', 'B-DATE'), (' ', 'I-DATE'), (' ', 'I-DATE'), ('มกราคม', 'I-DATE'), (' ', 'O'), (' ', 'O'), ('ระหว่างทาง', 'O'), (' ', 'O'), (' ', 'O'), ('<unk>', 'O'), ('oo', 'O'), ('g', 'I-ORGANIZATION'), ('le', 'O'), (' ', 'O'), (' ', 'O'), ('<unk>', 'O'), ('ap', 'O'), ('s', 'O'), (' ', 'O'), (' ', 'O'), ('หา', 'O'), (' ', 'O'), (' ', 'O'), ('เส้นทาง', 'O'), (' ', 'O'), (' ', 'O'), ('ข้อผิดพลาด', 'O'), (' ', 'O'), (' ', 'O'), ('<unk>', 'O'), (' ', 'O'), (' ', 'O'), ('sign', 'O'), ('al', 'O'), (' ', 'O'), (' ', 'O'), ('not', 'O'), (' ', 'O'), (' ', 'O'), ('f', 'O'), ('ound', 'O'), (' ', 'O'), (' ', 'O'), ('ถาม', 'O'), (' ', 'O'), (' ', 'O'), ('คน', 'O'), (' ', 'O'), (' ', 'O'), ('แถว', 'O'), (' ', 'O'), (' ', 'O'), ('แทน', 'O'), (' ', 'O'), (' ', 'O'), ('ห้าง', 'O'), ('ฯ', 'O'), (' ', 'O'), (' ', 'O'), ('เจอ', 'O'), (' ', 'O'), (' ', 'O'), ('โปรโมชั่น', 'O'), (' ', 'O'), (' ', 'O'), ('พิเศษ', 'O'), (' ', 'O'), (' ', 'O'), ('ซื้อ', 'O'), (' ', 'O'), (' ', 'O'), ('i', 'O'), ('<unk>', 'O'), ('h', 'O'), ('one', 'O'), (' ', 'O'), (' ', 'O'), ('15', 'O'), (' ', 'O'), (' ', 'O'), ('<unk>', 'O'), ('ro', 'O'), (' ', 'O'), (' ', 'O'), ('<unk>', 'O'), ('ax', 'O'), (' ', 'O'), (' ', 'O'), ('ส่วนลด', 'O'), (' ', 'O'), (' ', 'O'), ('20', 'O'), (' ', 'O'), (' ', 'O'), ('ชําระ', 'O'), (' ', 'O'), (' ', 'O'), ('บัตรเครดิต', 'O'), (' ', 'O'), (' ', 'O'), ('ธนาคาร', 'O'), (' ', 'O'), (' ', 'O'), ('<unk>', 'O'), ('an', 'I-ORGANIZATION'), ('k', 'O'), (' ', 'O'), (' ', 'O'), ('ยังมี', 'O'), (' ', 'O'), (' ', 'O'), ('ร้านอาหาร', 'O'), (' ', 'O'), (' ', 'O'), ('ชื่อว่า', 'O'), (' ', 'O'), (' ', 'O'), ('ครัว', 'O'), (' ', 'O'), (' ', 'O'), ('สวน', 'O'), (' ', 'O'), (' ', 'O'), ('ร้านอาหาร', 'O'), (' ', 'O'), (' ', 'O'), ('ฟิว', 'O'), ('ชัน', 'O'), (' ', 'O'), (' ', 'O'), ('ไทย', 'O'), (' ', 'O'), (' ', 'B-LOCATION'), ('ญี่ปุ่น', 'O'), (' ', 'O'), (' ', 'O'), ('สั่ง', 'O'), (' ', 'O'), (' ', 'O'), ('ราเมน', 'O'), ('ต้มยํา', 'O'), (' ', 'O'), (' ', 'O'), ('ชาเขียว', 'O'), (' ', 'O'), (' ', 'O'), ('มัท', 'O'), ('ฉะ', 'O'), (' ', 'O'), (' ', 'O'), ('อาหาร', 'O'), (' ', 'O'), (' ', 'O'), ('45', 'I-TIME'), (' ', 'I-TIME'), (' ', 'I-TIME'), ('นาที', 'I-TIME'), (' ', 'O'), (' ', 'O'), ('หลังจาก', 'O'), ('นั้น', 'O'), (' ', 'O'), (' ', 'O'), ('เดิน', 'O'), (' ', 'O'), (' ', 'O'), ('ร้าน', 'O'), ('หนังสือ', 'O'), (' ', 'O'), (' ', 'O'), ('<unk>', 'O'), ('-', 'I-ORGANIZATION'), ('<unk>', 'O'), (' ', 'O'), (' ', 'O'), ('หา', 'O'), (' ', 'O'), (' ', 'O'), ('หนังสือ', 'O'), (' ', 'O'), (' ', 'O'), ('<unk>', 'O'), ('ata', 'O'), (' ', 'O'), (' ', 'O'), ('<unk>', 'O'), ('ci', 'O'), ('ence', 'O'), (' ', 'O'), (' ', 'O'), ('<unk>', 'O'), ('nd', 'O'), ('re', 'O'), ('w', 'O'), (' ', 'O'), (' ', 'O'), ('<unk>', 'O'), ('g', 'O'), (' ', 'O'), (' ', 'O'), ('แต่กลับ', 'O'), (' ', 'O'), (' ', 'O'), ('เล่ม', 'O'), (' ', 'O'), (' ', 'O'), ('ชื่อ', 'O'), (' ', 'O'), (' ', 'O'), ('<unk>', 'O'), ('y', 'O'), ('th', 'O'), ('on', 'O'), (' ', 'O'), (' ', 'O'), ('for', 'O'), (' ', 'O'), (' ', 'O'), ('<unk>', 'O'), ('e', 'O'), ('gin', 'O'), ('ner', 'O'), ('s', 'O'), (' ', 'O'), (' ', 'O'), ('แทน', 'O'), (' ', 'O'), (' ', 'O'), ('พนักงาน', 'O'), (' ', 'O'), (' ', 'O'), ('แจ้ง', 'O'), (' ', 'O'), (' ', 'O'), ('หนังสือ', 'O'), (' ', 'O'), (' ', 'O'), ('ต้องการ', 'O'), (' ', 'O'), (' ', 'O'), ('สต็อก', 'O'), (' ', 'O'), (' ', 'O'), ('ลอง', 'O'), (' ', 'O'), (' ', 'O'), ('บริการ', 'O'), (' ', 'O'), (' ', 'O'), ('แชต', 'O'), ('บอ', 'O'), ('ต', 'O'), (' ', 'O'), (' ', 'O'), ('<unk>', 'O'), (' ', 'O'), (' ', 'O'), ('สอบถาม', 'O'), (' ', 'O'), (' ', 'O'), ('ที่จอดรถ', 'O'), (' ', 'O'), (' ', 'O'), ('พิมพ์', 'O'), (' ', 'O'), (' ', 'O'), ('คําถาม', 'O'), (' ', 'O'), (' ', 'O'), ('ตอนนี้', 'O'), (' ', 'O'), (' ', 'O'), ('ที่จอดรถ', 'O'), (' ', 'O'), (' ', 'O'), ('โซน', 'O'), (' ', 'O'), (' ', 'O'), ('<unk>', 'O'), (' ', 'O'), (' ', 'O'), ('ว่าง', 'O'), (' ', 'O'), (' ', 'O'), ('ไหม', 'O'), (' ', 'O'), (' ', 'O'), ('บอ', 'O'), ('ท', 'I-DATE'), (' ', 'O'), (' ', 'O'), ('ตอบ', 'O'), (' ', 'O'), (' ', 'O'), ('จอด', 'O'), (' ', 'O'), (' ', 'O'), ('ว่าง', 'O'), (' ', 'O'), (' ', 'O'), ('100', 'O'), (' ', 'O'), (' ', 'O'), ('คัน', 'O'), (' ', 'O'), (' ', 'O'), ('โซน', 'O'), (' ', 'O'), (' ', 'O'), ('เต็ม', 'O'), (' ', 'O'), (' ', 'O'), ('สุดท้าย', 'O'), (' ', 'O'), (' ', 'O'), ('โทร', 'O'), (' ', 'O'), (' ', 'O'), ('ติดต่อ', 'O'), (' ', 'O'), (' ', 'O'), ('บริการ', 'O'), (' ', 'O'), (' ', 'O'), ('ลูกค้า', 'O'), (' ', 'O'), (' ', 'O'), ('ข้อมูล', 'O'), (' ', 'O'), (' ', 'O'), ('แทน', 'O'), (' ', 'O'), (' ', 'O'), ('ธรรมดา', 'O'), (' ', 'O'), (' ', 'O'), ('ดู', 'O'), (' ', 'O'), (' ', 'O'), ('ยุ่งยาก', 'O'), (' ', 'O'), (' ', 'O'), ('หรือว่า', 'O'), (' ', 'O'), (' ', 'O'), ('<unk>', 'O'), (' ', 'O'), (' ', 'O'), ('ปรับปรุง', 'O')]\n"
          ]
        }
      ]
    }
  ]
}